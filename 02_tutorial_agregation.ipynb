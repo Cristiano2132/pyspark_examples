{
 "cells": [
  {
   "cell_type": "markdown",
   "id": "12f5d455",
   "metadata": {},
   "source": [
    "# Imports"
   ]
  },
  {
   "cell_type": "code",
   "execution_count": 122,
   "id": "e9cc101a",
   "metadata": {},
   "outputs": [],
   "source": [
    "# Bibliotecas padrão\n",
    "import numpy as np\n",
    "import pandas as pd\n",
    "\n",
    "# PySpark - Sessão\n",
    "from pyspark.sql import SparkSession\n",
    "\n",
    "# PySpark - Funções\n",
    "from pyspark.sql.functions import (\n",
    "    concat_ws,\n",
    "    avg,\n",
    "    col,\n",
    "    count,\n",
    "    lit,\n",
    "    log,\n",
    "    percentile_approx,\n",
    "    sum as Fsum,\n",
    "    udf,\n",
    "    when,\n",
    "    to_date,\n",
    "    lpad,\n",
    ")\n",
    "\n",
    "# PySpark - Tipos\n",
    "from pyspark.sql.types import IntegerType, StringType\n",
    "\n",
    "# PySpark - Janela\n",
    "from pyspark.sql.window import Window\n"
   ]
  },
  {
   "cell_type": "markdown",
   "id": "7c67133e",
   "metadata": {},
   "source": [
    "✅ 2. Separar as proporções em dev (ref) e oot (compare)\n",
    "\n",
    "Agora vamos pivotar para ter proportion_dev e proportion_oot em colunas separadas:"
   ]
  },
  {
   "cell_type": "markdown",
   "id": "f30bd133",
   "metadata": {},
   "source": [
    "✅ 2. Separar as proporções em dev (ref) e oot (compare)\n",
    "\n",
    "Agora vamos pivotar para ter proportion_dev e proportion_oot em colunas separadas:"
   ]
  },
  {
   "cell_type": "markdown",
   "id": "147657ab",
   "metadata": {},
   "source": [
    "# Simulando nosso dataset"
   ]
  },
  {
   "cell_type": "markdown",
   "id": "2483fa5c",
   "metadata": {},
   "source": [
    "Ótimo! Vamos construir juntos uma simulação com os seguintes critérios:\n",
    "\n",
    "🎯 Objetivo:\n",
    "\t•\tSimular dois modelos (modelo_a, modelo_b)\n",
    "\t•\tCada um com dados nos ambientes:\n",
    "\t•\tDEV: 6 meses\n",
    "\t•\tOOT: 3 meses\n",
    "\t•\tPRD: 12 meses\n",
    "\t•\tmodelo_a permanece calibrado\n",
    "\t•\tmodelo_b vai descalibrando ao longo do tempo\n",
    "\n",
    "⸻\n",
    "\n",
    "📦 Etapas da simulação:\n",
    "\t1.\tGerar uma base com colunas: score, env, year, month, model\n",
    "\t2.\tmodelo_a: score estável em todos os ambientes\n",
    "\t3.\tmodelo_b: score muda ao longo do tempo (ex: média ou variância cresce em PRD)\n",
    "\n",
    "⸻\n",
    "\n",
    "🐍 Código de simulação (usando Pandas)"
   ]
  },
  {
   "cell_type": "code",
   "execution_count": 23,
   "id": "976d2fe1",
   "metadata": {},
   "outputs": [
    {
     "name": "stdout",
     "output_type": "stream",
     "text": [
      "      model  env  year  month     score  vr\n",
      "0  modelo_a  DEV  2023      1  0.530472   0\n",
      "1  modelo_a  DEV  2023      1  0.396002   0\n",
      "2  modelo_a  DEV  2023      1  0.575045   1\n",
      "3  modelo_a  DEV  2023      1  0.594056   1\n",
      "4  modelo_a  DEV  2023      1  0.304896   0\n"
     ]
    }
   ],
   "source": [
    "import pandas as pd\n",
    "import numpy as np\n",
    "\n",
    "def simulate_model_data(model_name, start_year=2023):\n",
    "    \"\"\"\n",
    "    Simula scores e variável resposta para um modelo nos ambientes DEV, OOT e PRD.\n",
    "    \n",
    "    modelo_a: score calibrado e estável\n",
    "    modelo_b: score descalibrando em PRD (aumenta média ao longo do tempo)\n",
    "    \"\"\"\n",
    "    rows = []\n",
    "    rng = np.random.default_rng(seed=42 if model_name == 'modelo_a' else 99)\n",
    "\n",
    "    def generate_block(env, year, month, loc, size=1000):\n",
    "        # Gera scores com média loc e desvio padrão 0.1\n",
    "        scores = rng.normal(loc=loc, scale=0.1, size=size)\n",
    "        scores = np.clip(scores, 0.01, 0.99)  # garantir intervalo válido [0, 1]\n",
    "        vr = rng.binomial(1, p=scores)  # variável resposta: simula desfecho com base no score\n",
    "        return pd.DataFrame({\n",
    "            'model': model_name,\n",
    "            'env': env,\n",
    "            'year': year,\n",
    "            'month': month,\n",
    "            'score': scores,\n",
    "            'vr': vr\n",
    "        })\n",
    "\n",
    "    # Ambiente DEV (6 meses estáveis)\n",
    "    for month in range(1, 7):\n",
    "        rows.append(generate_block('DEV', start_year, month, loc=0.5))\n",
    "\n",
    "    # Ambiente OOT (3 meses)\n",
    "    for month in range(7, 10):\n",
    "        loc = 0.5 if model_name == 'modelo_a' else 0.55  # modelo_b levemente deslocado\n",
    "        rows.append(generate_block('OOT', start_year, month, loc=loc))\n",
    "\n",
    "    # Ambiente PRD (12 meses)\n",
    "    for month in range(1, 13):\n",
    "        year = start_year + 1\n",
    "        loc = 0.5 if model_name == 'modelo_a' else 0.5 + 0.02 * month  # modelo_b descalibra gradualmente\n",
    "        rows.append(generate_block('PRD', year, month, loc=loc))\n",
    "\n",
    "    return pd.concat(rows, ignore_index=True)\n",
    "\n",
    "# Gerar os dados simulados\n",
    "df_a = simulate_model_data('modelo_a')\n",
    "df_b = simulate_model_data('modelo_b')\n",
    "\n",
    "# Unir os dois modelos em um único DataFrame\n",
    "df = pd.concat([df_a, df_b], ignore_index=True)\n",
    "\n",
    "# Visualizar primeiros registros\n",
    "print(df.head())\n"
   ]
  },
  {
   "cell_type": "markdown",
   "id": "1ad2e394",
   "metadata": {},
   "source": [
    "🧪 Colunas do DataFrame final:\n",
    "\n",
    "* model: \"modelo_a\" ou \"modelo_b\"\n",
    "* env: ambiente (DEV, OOT, PRD)\n",
    "* year: ano\n",
    "* month: mês\n",
    "* score: probabilidade estimada pelo modelo (entre 0 e 1)\n",
    "* vr: variável resposta (0 ou 1), simulada com base no score"
   ]
  },
  {
   "cell_type": "code",
   "execution_count": 24,
   "id": "e0505856",
   "metadata": {},
   "outputs": [
    {
     "data": {
      "application/vnd.microsoft.datawrangler.viewer.v0+json": {
       "columns": [
        {
         "name": "index",
         "rawType": "int64",
         "type": "integer"
        },
        {
         "name": "model",
         "rawType": "object",
         "type": "string"
        },
        {
         "name": "env",
         "rawType": "object",
         "type": "string"
        },
        {
         "name": "year",
         "rawType": "int64",
         "type": "integer"
        },
        {
         "name": "month",
         "rawType": "int64",
         "type": "integer"
        },
        {
         "name": "score",
         "rawType": "float64",
         "type": "float"
        },
        {
         "name": "vr",
         "rawType": "int64",
         "type": "integer"
        }
       ],
       "ref": "bdda6db9-bad1-4a83-9b93-62b3187cde8c",
       "rows": [
        [
         "0",
         "modelo_a",
         "DEV",
         "2023",
         "1",
         "0.5304717079754432",
         "0"
        ],
        [
         "1",
         "modelo_a",
         "DEV",
         "2023",
         "1",
         "0.3960015893759504",
         "0"
        ],
        [
         "2",
         "modelo_a",
         "DEV",
         "2023",
         "1",
         "0.5750451195806457",
         "1"
        ],
        [
         "3",
         "modelo_a",
         "DEV",
         "2023",
         "1",
         "0.5940564716391213",
         "1"
        ],
        [
         "4",
         "modelo_a",
         "DEV",
         "2023",
         "1",
         "0.30489648113461637",
         "0"
        ],
        [
         "5",
         "modelo_a",
         "DEV",
         "2023",
         "1",
         "0.3697820493137682",
         "0"
        ],
        [
         "6",
         "modelo_a",
         "DEV",
         "2023",
         "1",
         "0.5127840403167285",
         "0"
        ],
        [
         "7",
         "modelo_a",
         "DEV",
         "2023",
         "1",
         "0.46837574076564176",
         "1"
        ],
        [
         "8",
         "modelo_a",
         "DEV",
         "2023",
         "1",
         "0.49831988424957113",
         "1"
        ],
        [
         "9",
         "modelo_a",
         "DEV",
         "2023",
         "1",
         "0.414695607242642",
         "0"
        ],
        [
         "10",
         "modelo_a",
         "DEV",
         "2023",
         "1",
         "0.5879397974862829",
         "1"
        ],
        [
         "11",
         "modelo_a",
         "DEV",
         "2023",
         "1",
         "0.5777791935428949",
         "1"
        ],
        [
         "12",
         "modelo_a",
         "DEV",
         "2023",
         "1",
         "0.5066030697561216",
         "0"
        ],
        [
         "13",
         "modelo_a",
         "DEV",
         "2023",
         "1",
         "0.6127241206968033",
         "0"
        ],
        [
         "14",
         "modelo_a",
         "DEV",
         "2023",
         "1",
         "0.5467509342252046",
         "1"
        ],
        [
         "15",
         "modelo_a",
         "DEV",
         "2023",
         "1",
         "0.4140707537116762",
         "1"
        ],
        [
         "16",
         "modelo_a",
         "DEV",
         "2023",
         "1",
         "0.5368750784082499",
         "1"
        ],
        [
         "17",
         "modelo_a",
         "DEV",
         "2023",
         "1",
         "0.4041117399171001",
         "0"
        ],
        [
         "18",
         "modelo_a",
         "DEV",
         "2023",
         "1",
         "0.5878450301307273",
         "1"
        ],
        [
         "19",
         "modelo_a",
         "DEV",
         "2023",
         "1",
         "0.49500740890137473",
         "0"
        ],
        [
         "20",
         "modelo_a",
         "DEV",
         "2023",
         "1",
         "0.48151376364547394",
         "1"
        ],
        [
         "21",
         "modelo_a",
         "DEV",
         "2023",
         "1",
         "0.43190704555960585",
         "1"
        ],
        [
         "22",
         "modelo_a",
         "DEV",
         "2023",
         "1",
         "0.622254133867403",
         "1"
        ],
        [
         "23",
         "modelo_a",
         "DEV",
         "2023",
         "1",
         "0.4845470517931198",
         "1"
        ],
        [
         "24",
         "modelo_a",
         "DEV",
         "2023",
         "1",
         "0.4571672177836893",
         "1"
        ],
        [
         "25",
         "modelo_a",
         "DEV",
         "2023",
         "1",
         "0.46478664495117705",
         "1"
        ],
        [
         "26",
         "modelo_a",
         "DEV",
         "2023",
         "1",
         "0.5532309185553349",
         "0"
        ],
        [
         "27",
         "modelo_a",
         "DEV",
         "2023",
         "1",
         "0.5365444064364079",
         "1"
        ],
        [
         "28",
         "modelo_a",
         "DEV",
         "2023",
         "1",
         "0.5412732611595988",
         "0"
        ],
        [
         "29",
         "modelo_a",
         "DEV",
         "2023",
         "1",
         "0.5430821003007883",
         "1"
        ],
        [
         "30",
         "modelo_a",
         "DEV",
         "2023",
         "1",
         "0.7141647600870461",
         "0"
        ],
        [
         "31",
         "modelo_a",
         "DEV",
         "2023",
         "1",
         "0.4593584983615384",
         "0"
        ],
        [
         "32",
         "modelo_a",
         "DEV",
         "2023",
         "1",
         "0.44877572709284624",
         "1"
        ],
        [
         "33",
         "modelo_a",
         "DEV",
         "2023",
         "1",
         "0.4186227271752122",
         "0"
        ],
        [
         "34",
         "modelo_a",
         "DEV",
         "2023",
         "1",
         "0.5615979422575496",
         "1"
        ],
        [
         "35",
         "modelo_a",
         "DEV",
         "2023",
         "1",
         "0.6128972292720891",
         "0"
        ],
        [
         "36",
         "modelo_a",
         "DEV",
         "2023",
         "1",
         "0.4886052542345125",
         "1"
        ],
        [
         "37",
         "modelo_a",
         "DEV",
         "2023",
         "1",
         "0.4159843523037472",
         "0"
        ],
        [
         "38",
         "modelo_a",
         "DEV",
         "2023",
         "1",
         "0.41755187843087604",
         "1"
        ],
        [
         "39",
         "modelo_a",
         "DEV",
         "2023",
         "1",
         "0.5650592787824701",
         "0"
        ],
        [
         "40",
         "modelo_a",
         "DEV",
         "2023",
         "1",
         "0.5743254171203442",
         "1"
        ],
        [
         "41",
         "modelo_a",
         "DEV",
         "2023",
         "1",
         "0.5543154268305195",
         "1"
        ],
        [
         "42",
         "modelo_a",
         "DEV",
         "2023",
         "1",
         "0.43344902927113055",
         "0"
        ],
        [
         "43",
         "modelo_a",
         "DEV",
         "2023",
         "1",
         "0.523216132306672",
         "0"
        ],
        [
         "44",
         "modelo_a",
         "DEV",
         "2023",
         "1",
         "0.5116685809140729",
         "1"
        ],
        [
         "45",
         "modelo_a",
         "DEV",
         "2023",
         "1",
         "0.5218688596729013",
         "1"
        ],
        [
         "46",
         "modelo_a",
         "DEV",
         "2023",
         "1",
         "0.587142877794819",
         "0"
        ],
        [
         "47",
         "modelo_a",
         "DEV",
         "2023",
         "1",
         "0.5223595548774682",
         "0"
        ],
        [
         "48",
         "modelo_a",
         "DEV",
         "2023",
         "1",
         "0.5678913563071895",
         "0"
        ],
        [
         "49",
         "modelo_a",
         "DEV",
         "2023",
         "1",
         "0.5067579069488891",
         "0"
        ]
       ],
       "shape": {
        "columns": 6,
        "rows": 42000
       }
      },
      "text/html": [
       "<div>\n",
       "<style scoped>\n",
       "    .dataframe tbody tr th:only-of-type {\n",
       "        vertical-align: middle;\n",
       "    }\n",
       "\n",
       "    .dataframe tbody tr th {\n",
       "        vertical-align: top;\n",
       "    }\n",
       "\n",
       "    .dataframe thead th {\n",
       "        text-align: right;\n",
       "    }\n",
       "</style>\n",
       "<table border=\"1\" class=\"dataframe\">\n",
       "  <thead>\n",
       "    <tr style=\"text-align: right;\">\n",
       "      <th></th>\n",
       "      <th>model</th>\n",
       "      <th>env</th>\n",
       "      <th>year</th>\n",
       "      <th>month</th>\n",
       "      <th>score</th>\n",
       "      <th>vr</th>\n",
       "    </tr>\n",
       "  </thead>\n",
       "  <tbody>\n",
       "    <tr>\n",
       "      <th>0</th>\n",
       "      <td>modelo_a</td>\n",
       "      <td>DEV</td>\n",
       "      <td>2023</td>\n",
       "      <td>1</td>\n",
       "      <td>0.530472</td>\n",
       "      <td>0</td>\n",
       "    </tr>\n",
       "    <tr>\n",
       "      <th>1</th>\n",
       "      <td>modelo_a</td>\n",
       "      <td>DEV</td>\n",
       "      <td>2023</td>\n",
       "      <td>1</td>\n",
       "      <td>0.396002</td>\n",
       "      <td>0</td>\n",
       "    </tr>\n",
       "    <tr>\n",
       "      <th>2</th>\n",
       "      <td>modelo_a</td>\n",
       "      <td>DEV</td>\n",
       "      <td>2023</td>\n",
       "      <td>1</td>\n",
       "      <td>0.575045</td>\n",
       "      <td>1</td>\n",
       "    </tr>\n",
       "    <tr>\n",
       "      <th>3</th>\n",
       "      <td>modelo_a</td>\n",
       "      <td>DEV</td>\n",
       "      <td>2023</td>\n",
       "      <td>1</td>\n",
       "      <td>0.594056</td>\n",
       "      <td>1</td>\n",
       "    </tr>\n",
       "    <tr>\n",
       "      <th>4</th>\n",
       "      <td>modelo_a</td>\n",
       "      <td>DEV</td>\n",
       "      <td>2023</td>\n",
       "      <td>1</td>\n",
       "      <td>0.304896</td>\n",
       "      <td>0</td>\n",
       "    </tr>\n",
       "    <tr>\n",
       "      <th>...</th>\n",
       "      <td>...</td>\n",
       "      <td>...</td>\n",
       "      <td>...</td>\n",
       "      <td>...</td>\n",
       "      <td>...</td>\n",
       "      <td>...</td>\n",
       "    </tr>\n",
       "    <tr>\n",
       "      <th>41995</th>\n",
       "      <td>modelo_b</td>\n",
       "      <td>PRD</td>\n",
       "      <td>2024</td>\n",
       "      <td>12</td>\n",
       "      <td>0.518542</td>\n",
       "      <td>1</td>\n",
       "    </tr>\n",
       "    <tr>\n",
       "      <th>41996</th>\n",
       "      <td>modelo_b</td>\n",
       "      <td>PRD</td>\n",
       "      <td>2024</td>\n",
       "      <td>12</td>\n",
       "      <td>0.733841</td>\n",
       "      <td>0</td>\n",
       "    </tr>\n",
       "    <tr>\n",
       "      <th>41997</th>\n",
       "      <td>modelo_b</td>\n",
       "      <td>PRD</td>\n",
       "      <td>2024</td>\n",
       "      <td>12</td>\n",
       "      <td>0.799363</td>\n",
       "      <td>1</td>\n",
       "    </tr>\n",
       "    <tr>\n",
       "      <th>41998</th>\n",
       "      <td>modelo_b</td>\n",
       "      <td>PRD</td>\n",
       "      <td>2024</td>\n",
       "      <td>12</td>\n",
       "      <td>0.708009</td>\n",
       "      <td>0</td>\n",
       "    </tr>\n",
       "    <tr>\n",
       "      <th>41999</th>\n",
       "      <td>modelo_b</td>\n",
       "      <td>PRD</td>\n",
       "      <td>2024</td>\n",
       "      <td>12</td>\n",
       "      <td>0.855178</td>\n",
       "      <td>1</td>\n",
       "    </tr>\n",
       "  </tbody>\n",
       "</table>\n",
       "<p>42000 rows × 6 columns</p>\n",
       "</div>"
      ],
      "text/plain": [
       "          model  env  year  month     score  vr\n",
       "0      modelo_a  DEV  2023      1  0.530472   0\n",
       "1      modelo_a  DEV  2023      1  0.396002   0\n",
       "2      modelo_a  DEV  2023      1  0.575045   1\n",
       "3      modelo_a  DEV  2023      1  0.594056   1\n",
       "4      modelo_a  DEV  2023      1  0.304896   0\n",
       "...         ...  ...   ...    ...       ...  ..\n",
       "41995  modelo_b  PRD  2024     12  0.518542   1\n",
       "41996  modelo_b  PRD  2024     12  0.733841   0\n",
       "41997  modelo_b  PRD  2024     12  0.799363   1\n",
       "41998  modelo_b  PRD  2024     12  0.708009   0\n",
       "41999  modelo_b  PRD  2024     12  0.855178   1\n",
       "\n",
       "[42000 rows x 6 columns]"
      ]
     },
     "execution_count": 24,
     "metadata": {},
     "output_type": "execute_result"
    }
   ],
   "source": [
    "df"
   ]
  },
  {
   "cell_type": "markdown",
   "id": "68ccabdf",
   "metadata": {},
   "source": [
    "\n",
    "\n",
    "✅ Resultado\n",
    "\n",
    "Temos um DataFrame com:\n",
    "\t•\t2 modelos (modelo_a e modelo_b)\n",
    "\t•\tScore gerado mês a mês em diferentes ambientes\n",
    "\t•\tmodelo_b vai ficando cada vez mais diferente de DEV no ambiente de produção\n",
    "\n",
    "⸻"
   ]
  },
  {
   "cell_type": "code",
   "execution_count": 50,
   "id": "295b614f",
   "metadata": {},
   "outputs": [
    {
     "name": "stdout",
     "output_type": "stream",
     "text": [
      "+--------+---+----+-----+-------------------+---+\n",
      "|   model|env|year|month|              score| vr|\n",
      "+--------+---+----+-----+-------------------+---+\n",
      "|modelo_a|DEV|2023|    1| 0.5304717079754432|  0|\n",
      "|modelo_a|DEV|2023|    1| 0.3960015893759504|  0|\n",
      "|modelo_a|DEV|2023|    1| 0.5750451195806457|  1|\n",
      "|modelo_a|DEV|2023|    1| 0.5940564716391213|  1|\n",
      "|modelo_a|DEV|2023|    1|0.30489648113461637|  0|\n",
      "|modelo_a|DEV|2023|    1| 0.3697820493137682|  0|\n",
      "|modelo_a|DEV|2023|    1| 0.5127840403167285|  0|\n",
      "|modelo_a|DEV|2023|    1|0.46837574076564176|  1|\n",
      "|modelo_a|DEV|2023|    1|0.49831988424957113|  1|\n",
      "|modelo_a|DEV|2023|    1|  0.414695607242642|  0|\n",
      "+--------+---+----+-----+-------------------+---+\n",
      "only showing top 10 rows\n",
      "\n"
     ]
    }
   ],
   "source": [
    "# Initialize Spark Session\n",
    "spark = SparkSession.builder.appName(\"GroupByCustomFunction\").getOrCreate()\n",
    "\n",
    "spkdf = spark.createDataFrame(df)\n",
    "spkdf.show(10)"
   ]
  }
 ],
 "metadata": {
  "kernelspec": {
   "display_name": ".venv",
   "language": "python",
   "name": "python3"
  },
  "language_info": {
   "codemirror_mode": {
    "name": "ipython",
    "version": 3
   },
   "file_extension": ".py",
   "mimetype": "text/x-python",
   "name": "python",
   "nbconvert_exporter": "python",
   "pygments_lexer": "ipython3",
   "version": "3.10.10"
  }
 },
 "nbformat": 4,
 "nbformat_minor": 5
}
