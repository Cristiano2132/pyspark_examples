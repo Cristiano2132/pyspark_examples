{
 "cells": [
  {
   "cell_type": "markdown",
   "id": "12f5d455",
   "metadata": {},
   "source": [
    "# Imports"
   ]
  },
  {
   "cell_type": "code",
   "execution_count": 122,
   "id": "e9cc101a",
   "metadata": {},
   "outputs": [],
   "source": [
    "# Bibliotecas padrão\n",
    "import numpy as np\n",
    "import pandas as pd\n",
    "\n",
    "# PySpark - Sessão\n",
    "from pyspark.sql import SparkSession\n",
    "\n",
    "# PySpark - Funções\n",
    "from pyspark.sql.functions import (\n",
    "    concat_ws,\n",
    "    avg,\n",
    "    col,\n",
    "    count,\n",
    "    lit,\n",
    "    log,\n",
    "    percentile_approx,\n",
    "    sum as Fsum,\n",
    "    udf,\n",
    "    when,\n",
    "    to_date,\n",
    "    lpad,\n",
    ")\n",
    "\n",
    "# PySpark - Tipos\n",
    "from pyspark.sql.types import IntegerType, StringType\n",
    "\n",
    "# PySpark - Janela\n",
    "from pyspark.sql.window import Window\n"
   ]
  },
  {
   "cell_type": "markdown",
   "id": "7c67133e",
   "metadata": {},
   "source": [
    "✅ 2. Separar as proporções em dev (ref) e oot (compare)\n",
    "\n",
    "Agora vamos pivotar para ter proportion_dev e proportion_oot em colunas separadas:"
   ]
  },
  {
   "cell_type": "markdown",
   "id": "f30bd133",
   "metadata": {},
   "source": [
    "✅ 2. Separar as proporções em dev (ref) e oot (compare)\n",
    "\n",
    "Agora vamos pivotar para ter proportion_dev e proportion_oot em colunas separadas:"
   ]
  },
  {
   "cell_type": "markdown",
   "id": "147657ab",
   "metadata": {},
   "source": [
    "# Simulando nosso dataset"
   ]
  },
  {
   "cell_type": "markdown",
   "id": "2483fa5c",
   "metadata": {},
   "source": [
    "Ótimo! Vamos construir juntos uma simulação com os seguintes critérios:\n",
    "\n",
    "🎯 Objetivo:\n",
    "\t•\tSimular dois modelos (modelo_a, modelo_b)\n",
    "\t•\tCada um com dados nos ambientes:\n",
    "\t•\tDEV: 6 meses\n",
    "\t•\tOOT: 3 meses\n",
    "\t•\tPRD: 12 meses\n",
    "\t•\tmodelo_a permanece calibrado\n",
    "\t•\tmodelo_b vai descalibrando ao longo do tempo\n",
    "\n",
    "⸻\n",
    "\n",
    "📦 Etapas da simulação:\n",
    "\t1.\tGerar uma base com colunas: score, env, year, month, model\n",
    "\t2.\tmodelo_a: score estável em todos os ambientes\n",
    "\t3.\tmodelo_b: score muda ao longo do tempo (ex: média ou variância cresce em PRD)\n",
    "\n",
    "⸻\n",
    "\n",
    "🐍 Código de simulação (usando Pandas)"
   ]
  },
  {
   "cell_type": "code",
   "execution_count": 23,
   "id": "976d2fe1",
   "metadata": {},
   "outputs": [
    {
     "name": "stdout",
     "output_type": "stream",
     "text": [
      "      model  env  year  month     score  vr\n",
      "0  modelo_a  DEV  2023      1  0.530472   0\n",
      "1  modelo_a  DEV  2023      1  0.396002   0\n",
      "2  modelo_a  DEV  2023      1  0.575045   1\n",
      "3  modelo_a  DEV  2023      1  0.594056   1\n",
      "4  modelo_a  DEV  2023      1  0.304896   0\n"
     ]
    }
   ],
   "source": [
    "import pandas as pd\n",
    "import numpy as np\n",
    "\n",
    "def simulate_model_data(model_name, start_year=2023):\n",
    "    \"\"\"\n",
    "    Simula scores e variável resposta para um modelo nos ambientes DEV, OOT e PRD.\n",
    "    \n",
    "    modelo_a: score calibrado e estável\n",
    "    modelo_b: score descalibrando em PRD (aumenta média ao longo do tempo)\n",
    "    \"\"\"\n",
    "    rows = []\n",
    "    rng = np.random.default_rng(seed=42 if model_name == 'modelo_a' else 99)\n",
    "\n",
    "    def generate_block(env, year, month, loc, size=1000):\n",
    "        # Gera scores com média loc e desvio padrão 0.1\n",
    "        scores = rng.normal(loc=loc, scale=0.1, size=size)\n",
    "        scores = np.clip(scores, 0.01, 0.99)  # garantir intervalo válido [0, 1]\n",
    "        vr = rng.binomial(1, p=scores)  # variável resposta: simula desfecho com base no score\n",
    "        return pd.DataFrame({\n",
    "            'model': model_name,\n",
    "            'env': env,\n",
    "            'year': year,\n",
    "            'month': month,\n",
    "            'score': scores,\n",
    "            'vr': vr\n",
    "        })\n",
    "\n",
    "    # Ambiente DEV (6 meses estáveis)\n",
    "    for month in range(1, 7):\n",
    "        rows.append(generate_block('DEV', start_year, month, loc=0.5))\n",
    "\n",
    "    # Ambiente OOT (3 meses)\n",
    "    for month in range(7, 10):\n",
    "        loc = 0.5 if model_name == 'modelo_a' else 0.55  # modelo_b levemente deslocado\n",
    "        rows.append(generate_block('OOT', start_year, month, loc=loc))\n",
    "\n",
    "    # Ambiente PRD (12 meses)\n",
    "    for month in range(1, 13):\n",
    "        year = start_year + 1\n",
    "        loc = 0.5 if model_name == 'modelo_a' else 0.5 + 0.02 * month  # modelo_b descalibra gradualmente\n",
    "        rows.append(generate_block('PRD', year, month, loc=loc))\n",
    "\n",
    "    return pd.concat(rows, ignore_index=True)\n",
    "\n",
    "# Gerar os dados simulados\n",
    "df_a = simulate_model_data('modelo_a')\n",
    "df_b = simulate_model_data('modelo_b')\n",
    "\n",
    "# Unir os dois modelos em um único DataFrame\n",
    "df = pd.concat([df_a, df_b], ignore_index=True)\n",
    "\n",
    "# Visualizar primeiros registros\n",
    "print(df.head())\n"
   ]
  },
  {
   "cell_type": "markdown",
   "id": "1ad2e394",
   "metadata": {},
   "source": [
    "🧪 Colunas do DataFrame final:\n",
    "\n",
    "* model: \"modelo_a\" ou \"modelo_b\"\n",
    "* env: ambiente (DEV, OOT, PRD)\n",
    "* year: ano\n",
    "* month: mês\n",
    "* score: probabilidade estimada pelo modelo (entre 0 e 1)\n",
    "* vr: variável resposta (0 ou 1), simulada com base no score"
   ]
  },
  {
   "cell_type": "code",
   "execution_count": 24,
   "id": "e0505856",
   "metadata": {},
   "outputs": [
    {
     "data": {
      "application/vnd.microsoft.datawrangler.viewer.v0+json": {
       "columns": [
        {
         "name": "index",
         "rawType": "int64",
         "type": "integer"
        },
        {
         "name": "model",
         "rawType": "object",
         "type": "string"
        },
        {
         "name": "env",
         "rawType": "object",
         "type": "string"
        },
        {
         "name": "year",
         "rawType": "int64",
         "type": "integer"
        },
        {
         "name": "month",
         "rawType": "int64",
         "type": "integer"
        },
        {
         "name": "score",
         "rawType": "float64",
         "type": "float"
        },
        {
         "name": "vr",
         "rawType": "int64",
         "type": "integer"
        }
       ],
       "ref": "bdda6db9-bad1-4a83-9b93-62b3187cde8c",
       "rows": [
        [
         "0",
         "modelo_a",
         "DEV",
         "2023",
         "1",
         "0.5304717079754432",
         "0"
        ],
        [
         "1",
         "modelo_a",
         "DEV",
         "2023",
         "1",
         "0.3960015893759504",
         "0"
        ],
        [
         "2",
         "modelo_a",
         "DEV",
         "2023",
         "1",
         "0.5750451195806457",
         "1"
        ],
        [
         "3",
         "modelo_a",
         "DEV",
         "2023",
         "1",
         "0.5940564716391213",
         "1"
        ],
        [
         "4",
         "modelo_a",
         "DEV",
         "2023",
         "1",
         "0.30489648113461637",
         "0"
        ],
        [
         "5",
         "modelo_a",
         "DEV",
         "2023",
         "1",
         "0.3697820493137682",
         "0"
        ],
        [
         "6",
         "modelo_a",
         "DEV",
         "2023",
         "1",
         "0.5127840403167285",
         "0"
        ],
        [
         "7",
         "modelo_a",
         "DEV",
         "2023",
         "1",
         "0.46837574076564176",
         "1"
        ],
        [
         "8",
         "modelo_a",
         "DEV",
         "2023",
         "1",
         "0.49831988424957113",
         "1"
        ],
        [
         "9",
         "modelo_a",
         "DEV",
         "2023",
         "1",
         "0.414695607242642",
         "0"
        ],
        [
         "10",
         "modelo_a",
         "DEV",
         "2023",
         "1",
         "0.5879397974862829",
         "1"
        ],
        [
         "11",
         "modelo_a",
         "DEV",
         "2023",
         "1",
         "0.5777791935428949",
         "1"
        ],
        [
         "12",
         "modelo_a",
         "DEV",
         "2023",
         "1",
         "0.5066030697561216",
         "0"
        ],
        [
         "13",
         "modelo_a",
         "DEV",
         "2023",
         "1",
         "0.6127241206968033",
         "0"
        ],
        [
         "14",
         "modelo_a",
         "DEV",
         "2023",
         "1",
         "0.5467509342252046",
         "1"
        ],
        [
         "15",
         "modelo_a",
         "DEV",
         "2023",
         "1",
         "0.4140707537116762",
         "1"
        ],
        [
         "16",
         "modelo_a",
         "DEV",
         "2023",
         "1",
         "0.5368750784082499",
         "1"
        ],
        [
         "17",
         "modelo_a",
         "DEV",
         "2023",
         "1",
         "0.4041117399171001",
         "0"
        ],
        [
         "18",
         "modelo_a",
         "DEV",
         "2023",
         "1",
         "0.5878450301307273",
         "1"
        ],
        [
         "19",
         "modelo_a",
         "DEV",
         "2023",
         "1",
         "0.49500740890137473",
         "0"
        ],
        [
         "20",
         "modelo_a",
         "DEV",
         "2023",
         "1",
         "0.48151376364547394",
         "1"
        ],
        [
         "21",
         "modelo_a",
         "DEV",
         "2023",
         "1",
         "0.43190704555960585",
         "1"
        ],
        [
         "22",
         "modelo_a",
         "DEV",
         "2023",
         "1",
         "0.622254133867403",
         "1"
        ],
        [
         "23",
         "modelo_a",
         "DEV",
         "2023",
         "1",
         "0.4845470517931198",
         "1"
        ],
        [
         "24",
         "modelo_a",
         "DEV",
         "2023",
         "1",
         "0.4571672177836893",
         "1"
        ],
        [
         "25",
         "modelo_a",
         "DEV",
         "2023",
         "1",
         "0.46478664495117705",
         "1"
        ],
        [
         "26",
         "modelo_a",
         "DEV",
         "2023",
         "1",
         "0.5532309185553349",
         "0"
        ],
        [
         "27",
         "modelo_a",
         "DEV",
         "2023",
         "1",
         "0.5365444064364079",
         "1"
        ],
        [
         "28",
         "modelo_a",
         "DEV",
         "2023",
         "1",
         "0.5412732611595988",
         "0"
        ],
        [
         "29",
         "modelo_a",
         "DEV",
         "2023",
         "1",
         "0.5430821003007883",
         "1"
        ],
        [
         "30",
         "modelo_a",
         "DEV",
         "2023",
         "1",
         "0.7141647600870461",
         "0"
        ],
        [
         "31",
         "modelo_a",
         "DEV",
         "2023",
         "1",
         "0.4593584983615384",
         "0"
        ],
        [
         "32",
         "modelo_a",
         "DEV",
         "2023",
         "1",
         "0.44877572709284624",
         "1"
        ],
        [
         "33",
         "modelo_a",
         "DEV",
         "2023",
         "1",
         "0.4186227271752122",
         "0"
        ],
        [
         "34",
         "modelo_a",
         "DEV",
         "2023",
         "1",
         "0.5615979422575496",
         "1"
        ],
        [
         "35",
         "modelo_a",
         "DEV",
         "2023",
         "1",
         "0.6128972292720891",
         "0"
        ],
        [
         "36",
         "modelo_a",
         "DEV",
         "2023",
         "1",
         "0.4886052542345125",
         "1"
        ],
        [
         "37",
         "modelo_a",
         "DEV",
         "2023",
         "1",
         "0.4159843523037472",
         "0"
        ],
        [
         "38",
         "modelo_a",
         "DEV",
         "2023",
         "1",
         "0.41755187843087604",
         "1"
        ],
        [
         "39",
         "modelo_a",
         "DEV",
         "2023",
         "1",
         "0.5650592787824701",
         "0"
        ],
        [
         "40",
         "modelo_a",
         "DEV",
         "2023",
         "1",
         "0.5743254171203442",
         "1"
        ],
        [
         "41",
         "modelo_a",
         "DEV",
         "2023",
         "1",
         "0.5543154268305195",
         "1"
        ],
        [
         "42",
         "modelo_a",
         "DEV",
         "2023",
         "1",
         "0.43344902927113055",
         "0"
        ],
        [
         "43",
         "modelo_a",
         "DEV",
         "2023",
         "1",
         "0.523216132306672",
         "0"
        ],
        [
         "44",
         "modelo_a",
         "DEV",
         "2023",
         "1",
         "0.5116685809140729",
         "1"
        ],
        [
         "45",
         "modelo_a",
         "DEV",
         "2023",
         "1",
         "0.5218688596729013",
         "1"
        ],
        [
         "46",
         "modelo_a",
         "DEV",
         "2023",
         "1",
         "0.587142877794819",
         "0"
        ],
        [
         "47",
         "modelo_a",
         "DEV",
         "2023",
         "1",
         "0.5223595548774682",
         "0"
        ],
        [
         "48",
         "modelo_a",
         "DEV",
         "2023",
         "1",
         "0.5678913563071895",
         "0"
        ],
        [
         "49",
         "modelo_a",
         "DEV",
         "2023",
         "1",
         "0.5067579069488891",
         "0"
        ]
       ],
       "shape": {
        "columns": 6,
        "rows": 42000
       }
      },
      "text/html": [
       "<div>\n",
       "<style scoped>\n",
       "    .dataframe tbody tr th:only-of-type {\n",
       "        vertical-align: middle;\n",
       "    }\n",
       "\n",
       "    .dataframe tbody tr th {\n",
       "        vertical-align: top;\n",
       "    }\n",
       "\n",
       "    .dataframe thead th {\n",
       "        text-align: right;\n",
       "    }\n",
       "</style>\n",
       "<table border=\"1\" class=\"dataframe\">\n",
       "  <thead>\n",
       "    <tr style=\"text-align: right;\">\n",
       "      <th></th>\n",
       "      <th>model</th>\n",
       "      <th>env</th>\n",
       "      <th>year</th>\n",
       "      <th>month</th>\n",
       "      <th>score</th>\n",
       "      <th>vr</th>\n",
       "    </tr>\n",
       "  </thead>\n",
       "  <tbody>\n",
       "    <tr>\n",
       "      <th>0</th>\n",
       "      <td>modelo_a</td>\n",
       "      <td>DEV</td>\n",
       "      <td>2023</td>\n",
       "      <td>1</td>\n",
       "      <td>0.530472</td>\n",
       "      <td>0</td>\n",
       "    </tr>\n",
       "    <tr>\n",
       "      <th>1</th>\n",
       "      <td>modelo_a</td>\n",
       "      <td>DEV</td>\n",
       "      <td>2023</td>\n",
       "      <td>1</td>\n",
       "      <td>0.396002</td>\n",
       "      <td>0</td>\n",
       "    </tr>\n",
       "    <tr>\n",
       "      <th>2</th>\n",
       "      <td>modelo_a</td>\n",
       "      <td>DEV</td>\n",
       "      <td>2023</td>\n",
       "      <td>1</td>\n",
       "      <td>0.575045</td>\n",
       "      <td>1</td>\n",
       "    </tr>\n",
       "    <tr>\n",
       "      <th>3</th>\n",
       "      <td>modelo_a</td>\n",
       "      <td>DEV</td>\n",
       "      <td>2023</td>\n",
       "      <td>1</td>\n",
       "      <td>0.594056</td>\n",
       "      <td>1</td>\n",
       "    </tr>\n",
       "    <tr>\n",
       "      <th>4</th>\n",
       "      <td>modelo_a</td>\n",
       "      <td>DEV</td>\n",
       "      <td>2023</td>\n",
       "      <td>1</td>\n",
       "      <td>0.304896</td>\n",
       "      <td>0</td>\n",
       "    </tr>\n",
       "    <tr>\n",
       "      <th>...</th>\n",
       "      <td>...</td>\n",
       "      <td>...</td>\n",
       "      <td>...</td>\n",
       "      <td>...</td>\n",
       "      <td>...</td>\n",
       "      <td>...</td>\n",
       "    </tr>\n",
       "    <tr>\n",
       "      <th>41995</th>\n",
       "      <td>modelo_b</td>\n",
       "      <td>PRD</td>\n",
       "      <td>2024</td>\n",
       "      <td>12</td>\n",
       "      <td>0.518542</td>\n",
       "      <td>1</td>\n",
       "    </tr>\n",
       "    <tr>\n",
       "      <th>41996</th>\n",
       "      <td>modelo_b</td>\n",
       "      <td>PRD</td>\n",
       "      <td>2024</td>\n",
       "      <td>12</td>\n",
       "      <td>0.733841</td>\n",
       "      <td>0</td>\n",
       "    </tr>\n",
       "    <tr>\n",
       "      <th>41997</th>\n",
       "      <td>modelo_b</td>\n",
       "      <td>PRD</td>\n",
       "      <td>2024</td>\n",
       "      <td>12</td>\n",
       "      <td>0.799363</td>\n",
       "      <td>1</td>\n",
       "    </tr>\n",
       "    <tr>\n",
       "      <th>41998</th>\n",
       "      <td>modelo_b</td>\n",
       "      <td>PRD</td>\n",
       "      <td>2024</td>\n",
       "      <td>12</td>\n",
       "      <td>0.708009</td>\n",
       "      <td>0</td>\n",
       "    </tr>\n",
       "    <tr>\n",
       "      <th>41999</th>\n",
       "      <td>modelo_b</td>\n",
       "      <td>PRD</td>\n",
       "      <td>2024</td>\n",
       "      <td>12</td>\n",
       "      <td>0.855178</td>\n",
       "      <td>1</td>\n",
       "    </tr>\n",
       "  </tbody>\n",
       "</table>\n",
       "<p>42000 rows × 6 columns</p>\n",
       "</div>"
      ],
      "text/plain": [
       "          model  env  year  month     score  vr\n",
       "0      modelo_a  DEV  2023      1  0.530472   0\n",
       "1      modelo_a  DEV  2023      1  0.396002   0\n",
       "2      modelo_a  DEV  2023      1  0.575045   1\n",
       "3      modelo_a  DEV  2023      1  0.594056   1\n",
       "4      modelo_a  DEV  2023      1  0.304896   0\n",
       "...         ...  ...   ...    ...       ...  ..\n",
       "41995  modelo_b  PRD  2024     12  0.518542   1\n",
       "41996  modelo_b  PRD  2024     12  0.733841   0\n",
       "41997  modelo_b  PRD  2024     12  0.799363   1\n",
       "41998  modelo_b  PRD  2024     12  0.708009   0\n",
       "41999  modelo_b  PRD  2024     12  0.855178   1\n",
       "\n",
       "[42000 rows x 6 columns]"
      ]
     },
     "execution_count": 24,
     "metadata": {},
     "output_type": "execute_result"
    }
   ],
   "source": [
    "df"
   ]
  },
  {
   "cell_type": "markdown",
   "id": "68ccabdf",
   "metadata": {},
   "source": [
    "\n",
    "\n",
    "✅ Resultado\n",
    "\n",
    "Temos um DataFrame com:\n",
    "\t•\t2 modelos (modelo_a e modelo_b)\n",
    "\t•\tScore gerado mês a mês em diferentes ambientes\n",
    "\t•\tmodelo_b vai ficando cada vez mais diferente de DEV no ambiente de produção\n",
    "\n",
    "⸻"
   ]
  },
  {
   "cell_type": "code",
   "execution_count": 50,
   "id": "295b614f",
   "metadata": {},
   "outputs": [
    {
     "name": "stdout",
     "output_type": "stream",
     "text": [
      "+--------+---+----+-----+-------------------+---+\n",
      "|   model|env|year|month|              score| vr|\n",
      "+--------+---+----+-----+-------------------+---+\n",
      "|modelo_a|DEV|2023|    1| 0.5304717079754432|  0|\n",
      "|modelo_a|DEV|2023|    1| 0.3960015893759504|  0|\n",
      "|modelo_a|DEV|2023|    1| 0.5750451195806457|  1|\n",
      "|modelo_a|DEV|2023|    1| 0.5940564716391213|  1|\n",
      "|modelo_a|DEV|2023|    1|0.30489648113461637|  0|\n",
      "|modelo_a|DEV|2023|    1| 0.3697820493137682|  0|\n",
      "|modelo_a|DEV|2023|    1| 0.5127840403167285|  0|\n",
      "|modelo_a|DEV|2023|    1|0.46837574076564176|  1|\n",
      "|modelo_a|DEV|2023|    1|0.49831988424957113|  1|\n",
      "|modelo_a|DEV|2023|    1|  0.414695607242642|  0|\n",
      "+--------+---+----+-----+-------------------+---+\n",
      "only showing top 10 rows\n",
      "\n"
     ]
    }
   ],
   "source": [
    "# Initialize Spark Session\n",
    "spark = SparkSession.builder.appName(\"GroupByCustomFunction\").getOrCreate()\n",
    "\n",
    "spkdf = spark.createDataFrame(df)\n",
    "spkdf.show(10)"
   ]
  },
  {
   "cell_type": "markdown",
   "id": "3ee61b2b",
   "metadata": {},
   "source": [
    "----\n",
    "# Agregação de dados por decis de score\n",
    "\n",
    "✅ Objetivo detalhado\n",
    "\n",
    "* 1.\tCalcular os decis do score (por exemplo, 10 faixas de score) no ambiente dev.\n",
    "* 2.\tDepois, com esses cortes, desejamos calcular a taxa de 1’s (média de vr) dentro de cada faixa, incluindo os dados de outros ambientes (oot por exemplo).\n",
    "* 3.\tQueremos isso por modelo e ano_mes.\n",
    "\n",
    "----\n",
    "\n",
    "A solução ideal é evitar loops e trabalhar com funções nativas do Spark, especialmente usando percentile_approx, when, col, groupBy, e window.\n",
    "\n",
    "\n",
    "✅ Solução eficiente (sem loop, distribuída)\n",
    "\n",
    "1. Filtrar ambiente dev e calcular decis por modelo e ano_mes"
   ]
  },
  {
   "cell_type": "code",
   "execution_count": 145,
   "id": "722c399b",
   "metadata": {},
   "outputs": [
    {
     "name": "stdout",
     "output_type": "stream",
     "text": [
      "+--------+---+----+-----+-------------------+---+\n",
      "|   model|env|year|month|              score| vr|\n",
      "+--------+---+----+-----+-------------------+---+\n",
      "|modelo_a|DEV|2023|    1| 0.5304717079754432|  0|\n",
      "|modelo_a|DEV|2023|    1| 0.3960015893759504|  0|\n",
      "|modelo_a|DEV|2023|    1| 0.5750451195806457|  1|\n",
      "|modelo_a|DEV|2023|    1| 0.5940564716391213|  1|\n",
      "|modelo_a|DEV|2023|    1|0.30489648113461637|  0|\n",
      "|modelo_a|DEV|2023|    1| 0.3697820493137682|  0|\n",
      "|modelo_a|DEV|2023|    1| 0.5127840403167285|  0|\n",
      "|modelo_a|DEV|2023|    1|0.46837574076564176|  1|\n",
      "|modelo_a|DEV|2023|    1|0.49831988424957113|  1|\n",
      "|modelo_a|DEV|2023|    1|  0.414695607242642|  0|\n",
      "|modelo_a|DEV|2023|    1| 0.5879397974862829|  1|\n",
      "|modelo_a|DEV|2023|    1| 0.5777791935428949|  1|\n",
      "|modelo_a|DEV|2023|    1| 0.5066030697561216|  0|\n",
      "|modelo_a|DEV|2023|    1| 0.6127241206968033|  0|\n",
      "|modelo_a|DEV|2023|    1| 0.5467509342252046|  1|\n",
      "|modelo_a|DEV|2023|    1| 0.4140707537116762|  1|\n",
      "|modelo_a|DEV|2023|    1| 0.5368750784082499|  1|\n",
      "|modelo_a|DEV|2023|    1| 0.4041117399171001|  0|\n",
      "|modelo_a|DEV|2023|    1| 0.5878450301307273|  1|\n",
      "|modelo_a|DEV|2023|    1|0.49500740890137473|  0|\n",
      "+--------+---+----+-----+-------------------+---+\n",
      "only showing top 20 rows\n",
      "\n"
     ]
    },
    {
     "name": "stderr",
     "output_type": "stream",
     "text": [
      "                                                                                \r"
     ]
    }
   ],
   "source": [
    "spkdf.filter(\n",
    "            (col(\"env\") == \"DEV\") \n",
    "                &\n",
    "            (col(\"month\")==1)\n",
    "            ).show()"
   ]
  },
  {
   "cell_type": "code",
   "execution_count": 51,
   "id": "e40887aa",
   "metadata": {},
   "outputs": [
    {
     "name": "stdout",
     "output_type": "stream",
     "text": [
      "+--------+--------------------+\n",
      "|   model|                cuts|\n",
      "+--------+--------------------+\n",
      "|modelo_a|[0.37168521973963...|\n",
      "|modelo_b|[0.36972121483852...|\n",
      "+--------+--------------------+\n",
      "\n"
     ]
    }
   ],
   "source": [
    "# Número de faixas\n",
    "n_bins = 10\n",
    "\n",
    "# Calcular os decis no ambiente dev\n",
    "decis_df = (\n",
    "    spkdf.filter(col(\"env\") == \"DEV\")\\\n",
    "      .groupBy(\"model\")\\\n",
    "      .agg(percentile_approx(\"score\", [i / n_bins for i in range(1, n_bins)], 10000).alias(\"cuts\"))\n",
    ")\n",
    "\n",
    "decis_df.show()"
   ]
  },
  {
   "cell_type": "markdown",
   "id": "01f1c5bd",
   "metadata": {},
   "source": [
    "2. Juntar os decis com os dados para classificar as faixas\n",
    "\n",
    "Você pode criar uma UDF para mapear cada score à sua faixa com base nos cortes de decil:"
   ]
  },
  {
   "cell_type": "code",
   "execution_count": 54,
   "id": "7a966418",
   "metadata": {},
   "outputs": [],
   "source": [
    "def assign_decile(score, cuts):\n",
    "    '''\n",
    "    Description: Assigns a decile to a score. This is a simple function that assigns a score to a decile.\n",
    "    Parameters:\n",
    "        score: the score to be assigned to a decile\n",
    "        cuts: the list of cutoffs for the deciles\n",
    "    Returns:\n",
    "        The decile number (1-10) that the score falls into.\n",
    "    '''\n",
    "    if cuts is None:\n",
    "        return None\n",
    "    for i, c in enumerate(cuts):\n",
    "        if score <= c:\n",
    "            return i + 1\n",
    "    return len(cuts) + 1  # última faixa\n",
    "\n",
    "assign_decile_udf = udf(assign_decile, IntegerType())\n",
    "\n",
    "def label_decile(scores, cuts):\n",
    "    '''\n",
    "    Description: Assigns a decile to a score. This is a simple function that assigns a score to a decile.\n",
    "    Parameters:\n",
    "        scores: the scores to be assigned to a decile\n",
    "        cuts: the list of cutoffs for the deciles\n",
    "    Returns:\n",
    "        The decile number (1-10) that the score falls into.\n",
    "    '''\n",
    "    \n",
    "    if cuts is None:\n",
    "        return None\n",
    "    for i, c in enumerate(cuts):\n",
    "        if scores <= c:\n",
    "            if i==0:\n",
    "                return f'<{c:.4f}'\n",
    "            else:\n",
    "                return f'{cuts[i-1]:.4f} - {c:.4f}'\n",
    "    return f'>{c:.4f}'  # última faixa\n",
    "\n",
    "label_decile_udf = udf(label_decile, StringType())"
   ]
  },
  {
   "cell_type": "markdown",
   "id": "f65ddb92",
   "metadata": {},
   "source": [
    "Agora junte os decis com os dados originais e aplique a UDF:\n"
   ]
  },
  {
   "cell_type": "code",
   "execution_count": null,
   "id": "1e008823",
   "metadata": {},
   "outputs": [
    {
     "name": "stderr",
     "output_type": "stream",
     "text": [
      "                                                                                \r"
     ]
    },
    {
     "name": "stdout",
     "output_type": "stream",
     "text": [
      "+--------+---+----+-----+------------------+---+--------------------+-----------+-----------------+\n",
      "|   model|env|year|month|             score| vr|                cuts|faixa_score|label_faixa_score|\n",
      "+--------+---+----+-----+------------------+---+--------------------+-----------+-----------------+\n",
      "|modelo_a|OOT|2023|    7|0.8026651591695066|  1|[0.37168521973963...|         10|          >0.6289|\n",
      "|modelo_a|OOT|2023|    7|0.7923643357604659|  0|[0.37168521973963...|         10|          >0.6289|\n",
      "|modelo_a|OOT|2023|    7|0.7862263577284522|  1|[0.37168521973963...|         10|          >0.6289|\n",
      "|modelo_a|OOT|2023|    7|0.7823117411267145|  1|[0.37168521973963...|         10|          >0.6289|\n",
      "|modelo_a|OOT|2023|    7|0.7684376606796336|  1|[0.37168521973963...|         10|          >0.6289|\n",
      "|modelo_a|OOT|2023|    7|0.7611076228409263|  1|[0.37168521973963...|         10|          >0.6289|\n",
      "|modelo_a|OOT|2023|    7|0.7601974078158437|  0|[0.37168521973963...|         10|          >0.6289|\n",
      "|modelo_a|OOT|2023|    7|0.7590685836061493|  0|[0.37168521973963...|         10|          >0.6289|\n",
      "|modelo_a|OOT|2023|    7|0.7483423900081216|  1|[0.37168521973963...|         10|          >0.6289|\n",
      "|modelo_a|OOT|2023|    7|0.7421047036286819|  1|[0.37168521973963...|         10|          >0.6289|\n",
      "+--------+---+----+-----+------------------+---+--------------------+-----------+-----------------+\n",
      "only showing top 10 rows\n",
      "\n"
     ]
    }
   ],
   "source": [
    "# Juntar cortes com o DataFrame original\n",
    "df_with_cuts = spkdf.join(decis_df, on=[\"model\"], how=\"left\")\n",
    "\n",
    "# Aplicar a função para criar uma coluna de faixa de score\n",
    "df_with_deciles = df_with_cuts\\\n",
    "    .withColumn(\"faixa_score\", assign_decile_udf(col(\"score\"), col(\"cuts\")))\\\n",
    "    .withColumn(\"label_faixa_score\", label_decile_udf(col(\"score\"), col(\"cuts\")))\n",
    "df_with_deciles.filter(col('env') != 'DEV').orderBy(col(\"model\"), col(\"year\"), col(\"month\"), col(\"score\").desc()).show(10)"
   ]
  },
  {
   "cell_type": "markdown",
   "id": "64085f8f",
   "metadata": {},
   "source": [
    "3. Calcular a taxa de 1’s (vr) por faixa de score"
   ]
  },
  {
   "cell_type": "code",
   "execution_count": 29,
   "id": "9460edb3",
   "metadata": {},
   "outputs": [
    {
     "name": "stderr",
     "output_type": "stream",
     "text": [
      "                                                                                \r"
     ]
    },
    {
     "name": "stdout",
     "output_type": "stream",
     "text": [
      "+--------+----+-----+---+-----------+----------+\n",
      "|   model|year|month|env|faixa_score|taxa_de_1s|\n",
      "+--------+----+-----+---+-----------+----------+\n",
      "|modelo_a|2023|    1|DEV|          1|      0.37|\n",
      "|modelo_a|2023|    1|DEV|          2|      0.35|\n",
      "|modelo_a|2023|    1|DEV|          3|      0.41|\n",
      "|modelo_a|2023|    1|DEV|          4|      0.48|\n",
      "|modelo_a|2023|    1|DEV|          5|      0.55|\n",
      "|modelo_a|2023|    1|DEV|          6|       0.6|\n",
      "|modelo_a|2023|    1|DEV|          7|      0.53|\n",
      "|modelo_a|2023|    1|DEV|          8|      0.57|\n",
      "|modelo_a|2023|    1|DEV|          9|      0.62|\n",
      "|modelo_a|2023|    1|DEV|         10|      0.63|\n",
      "+--------+----+-----+---+-----------+----------+\n",
      "only showing top 10 rows\n",
      "\n"
     ]
    }
   ],
   "source": [
    "result_df = (\n",
    "    df_with_deciles.groupBy(\"model\", \"year\", \"month\", \"env\", \"faixa_score\")\\\n",
    "        .agg(avg(\"vr\").alias(\"taxa_de_1s\"))\\\n",
    "        .orderBy(\"model\", \"year\", \"month\", \"env\", \"faixa_score\")\n",
    ")\n",
    "result_df.show(10)"
   ]
  },
  {
   "cell_type": "markdown",
   "id": "20427542",
   "metadata": {},
   "source": [
    "---\n",
    "✅ Resultado\n",
    "\n",
    "Você terá um DataFrame com:\n",
    "\t•\tmodelo\n",
    "\t•\tano_mes\n",
    "\t•\tambiente (dev, oot, etc.)\n",
    "\t•\tfaixa_score (1 a 10)\n",
    "\t•\ttaxa_de_1s (média de vr em cada faixa)\n",
    "\n",
    "---\n",
    "\n",
    "⚠️ Importante\n",
    "\t•\tEssa abordagem é distribuída, ou seja, evita loop e union, aproveitando o Spark ao máximo.\n",
    "\t•\tSe quiser incluir contagem de registros por faixa ou outras métricas, pode usar .agg(avg(...), count(...), ...).\n",
    "\n",
    "---\n"
   ]
  },
  {
   "cell_type": "markdown",
   "id": "070891f3",
   "metadata": {},
   "source": [
    "# Calcular o psi\n",
    "\n",
    "\n",
    "Agora vamos calcular o PSI (`Population Stability Index`) — uma métrica usada para comparar a distribuição de uma variável (geralmente score) entre dois conjuntos (ex: dev vs oot).\n",
    "\n",
    "---\n",
    "\n",
    "✅ Passo a passo para calcular o PSI\n",
    "\n",
    "O PSI é calculado assim, para cada faixa de score:\n",
    "\n",
    "$$\\text{PSI} = \\sum \\left( (p_i - q_i) \\cdot \\ln\\left(\\frac{p_i}{q_i}\\right) \\right)$$\n",
    "\n",
    "Onde:\n",
    "\n",
    "*\tp_i: proporção da faixa i no ambiente de referência (ex: dev)\n",
    "*\tq_i: proporção da mesma faixa no ambiente de comparação (ex: oot)\n",
    "\n",
    "---\n",
    "\n",
    "✅ Pré-requisitos\n",
    "\n",
    "Como você já criou as faixas de score com base no ambiente dev e aplicou a classificação para outros ambientes, temos:\n",
    "\n",
    "*\tmodelo, ano_mes, ambiente, faixa_score, vr\n",
    "*\tVamos agora contar a proporção de registros em cada faixa por ambiente e calcular o PSI entre dev e oot.\n",
    "\n",
    "---\n",
    "\n",
    "✅ 1. Calcular a proporção em cada faixa e ambiente"
   ]
  },
  {
   "cell_type": "code",
   "execution_count": 72,
   "id": "5a1b007f",
   "metadata": {},
   "outputs": [
    {
     "name": "stderr",
     "output_type": "stream",
     "text": [
      "                                                                                \r"
     ]
    },
    {
     "name": "stdout",
     "output_type": "stream",
     "text": [
      "+--------+---+----+-----+-------------------+---+--------------------+-----------+-----------------+\n",
      "|   model|env|year|month|              score| vr|                cuts|faixa_score|label_faixa_score|\n",
      "+--------+---+----+-----+-------------------+---+--------------------+-----------+-----------------+\n",
      "|modelo_a|DEV|2023|    1| 0.5304717079754432|  0|[0.37168521973963...|          7|  0.5243 - 0.5514|\n",
      "|modelo_a|DEV|2023|    1| 0.3960015893759504|  0|[0.37168521973963...|          2|  0.3717 - 0.4165|\n",
      "|modelo_a|DEV|2023|    1| 0.5750451195806457|  1|[0.37168521973963...|          8|  0.5514 - 0.5826|\n",
      "|modelo_a|DEV|2023|    1| 0.5940564716391213|  1|[0.37168521973963...|          9|  0.5826 - 0.6289|\n",
      "|modelo_a|DEV|2023|    1|0.30489648113461637|  0|[0.37168521973963...|          1|          <0.3717|\n",
      "+--------+---+----+-----+-------------------+---+--------------------+-----------+-----------------+\n",
      "only showing top 5 rows\n",
      "\n"
     ]
    },
    {
     "name": "stderr",
     "output_type": "stream",
     "text": [
      "                                                                                \r"
     ]
    }
   ],
   "source": [
    "df_with_deciles.show(5)"
   ]
  },
  {
   "cell_type": "code",
   "execution_count": 33,
   "id": "66695133",
   "metadata": {},
   "outputs": [
    {
     "name": "stdout",
     "output_type": "stream",
     "text": [
      "+---+-----+\n",
      "|env|count|\n",
      "+---+-----+\n",
      "|PRD|24000|\n",
      "|OOT| 6000|\n",
      "|DEV|12000|\n",
      "+---+-----+\n",
      "\n"
     ]
    }
   ],
   "source": [
    "df_with_deciles.groupby('env').count().show()"
   ]
  },
  {
   "cell_type": "code",
   "execution_count": 81,
   "id": "ed6f2d1b",
   "metadata": {},
   "outputs": [
    {
     "name": "stderr",
     "output_type": "stream",
     "text": [
      "                                                                                \r"
     ]
    },
    {
     "name": "stdout",
     "output_type": "stream",
     "text": [
      "+--------+---+-----------+-----+-----+-------------------+\n",
      "|   model|env|faixa_score|count|total|      proporcao_ref|\n",
      "+--------+---+-----------+-----+-----+-------------------+\n",
      "|modelo_a|DEV|          1|  599| 6000|0.09983333333333333|\n",
      "|modelo_a|DEV|          2|  600| 6000|                0.1|\n",
      "|modelo_a|DEV|          3|  600| 6000|                0.1|\n",
      "|modelo_a|DEV|          4|  600| 6000|                0.1|\n",
      "|modelo_a|DEV|          5|  600| 6000|                0.1|\n",
      "|modelo_a|DEV|          6|  600| 6000|                0.1|\n",
      "|modelo_a|DEV|          7|  600| 6000|                0.1|\n",
      "|modelo_a|DEV|          8|  600| 6000|                0.1|\n",
      "|modelo_a|DEV|          9|  600| 6000|                0.1|\n",
      "|modelo_a|DEV|         10|  601| 6000|0.10016666666666667|\n",
      "|modelo_b|DEV|          1|  599| 6000|0.09983333333333333|\n",
      "|modelo_b|DEV|          2|  600| 6000|                0.1|\n",
      "|modelo_b|DEV|          3|  600| 6000|                0.1|\n",
      "|modelo_b|DEV|          4|  600| 6000|                0.1|\n",
      "|modelo_b|DEV|          5|  600| 6000|                0.1|\n",
      "|modelo_b|DEV|          6|  600| 6000|                0.1|\n",
      "|modelo_b|DEV|          7|  600| 6000|                0.1|\n",
      "|modelo_b|DEV|          8|  600| 6000|                0.1|\n",
      "|modelo_b|DEV|          9|  600| 6000|                0.1|\n",
      "|modelo_b|DEV|         10|  601| 6000|0.10016666666666667|\n",
      "+--------+---+-----------+-----+-----+-------------------+\n",
      "\n"
     ]
    }
   ],
   "source": [
    "# Agrupar por modelo, ambiente e faixa_score\n",
    "df_referencia_proporcao_faixa = df_with_deciles \\\n",
    "    .filter(col('env') == 'DEV') \\\n",
    "    .groupBy(\"model\", \"env\", \"faixa_score\") \\\n",
    "    .agg(count(\"*\").alias(\"count\"))\n",
    "\n",
    "# Definir a janela para somar os counts por modelo e ambiente\n",
    "window_spec = Window.partitionBy(\"model\", \"env\")\n",
    "\n",
    "# Adicionar a coluna de proporção\n",
    "df_referencia_proporcao_faixa = df_referencia_proporcao_faixa \\\n",
    "    .withColumn(\"total\", Fsum(\"count\").over(window_spec)) \\\n",
    "    .withColumn(\"proporcao_ref\", col(\"count\") / col(\"total\")) \\\n",
    "    .orderBy(\"model\", \"env\", \"faixa_score\")\n",
    "\n",
    "df_referencia_proporcao_faixa.show()"
   ]
  },
  {
   "cell_type": "code",
   "execution_count": 108,
   "id": "440a6577",
   "metadata": {},
   "outputs": [
    {
     "name": "stderr",
     "output_type": "stream",
     "text": [
      "                                                                                \r"
     ]
    },
    {
     "name": "stdout",
     "output_type": "stream",
     "text": [
      "+--------+-----------+---+----+-----+-----+-----+--------------------+-------------------+\n",
      "|   model|faixa_score|env|year|month|count|total|           proporcao|      proporcao_ref|\n",
      "+--------+-----------+---+----+-----+-----+-----+--------------------+-------------------+\n",
      "|modelo_a|          8|OOT|2023|    9|   88| 3000|0.029333333333333333|                0.1|\n",
      "|modelo_a|          1|OOT|2023|    8|   91| 3000|0.030333333333333334|0.09983333333333333|\n",
      "|modelo_a|         10|OOT|2023|    8|  115| 3000| 0.03833333333333333|0.10016666666666667|\n",
      "|modelo_a|          9|OOT|2023|    8|   95| 3000| 0.03166666666666667|                0.1|\n",
      "|modelo_a|          3|OOT|2023|    8|  105| 3000|               0.035|                0.1|\n",
      "|modelo_a|          8|OOT|2023|    7|   92| 3000|0.030666666666666665|                0.1|\n",
      "|modelo_a|          4|OOT|2023|    9|  113| 3000| 0.03766666666666667|                0.1|\n",
      "|modelo_a|          2|OOT|2023|    7|   99| 3000|               0.033|                0.1|\n",
      "|modelo_a|          6|OOT|2023|    7|  121| 3000| 0.04033333333333333|                0.1|\n",
      "|modelo_a|          1|OOT|2023|    7|   90| 3000|                0.03|0.09983333333333333|\n",
      "|modelo_a|          2|OOT|2023|    8|  107| 3000|0.035666666666666666|                0.1|\n",
      "|modelo_a|          5|OOT|2023|    9|  100| 3000| 0.03333333333333333|                0.1|\n",
      "|modelo_a|          6|OOT|2023|    8|   88| 3000|0.029333333333333333|                0.1|\n",
      "|modelo_a|          8|OOT|2023|    8|   88| 3000|0.029333333333333333|                0.1|\n",
      "|modelo_a|          1|OOT|2023|    9|  101| 3000|0.033666666666666664|0.09983333333333333|\n",
      "|modelo_a|          6|OOT|2023|    9|   90| 3000|                0.03|                0.1|\n",
      "|modelo_a|          9|OOT|2023|    7|   83| 3000|0.027666666666666666|                0.1|\n",
      "|modelo_a|          5|OOT|2023|    7|   99| 3000|               0.033|                0.1|\n",
      "|modelo_a|          4|OOT|2023|    8|   90| 3000|                0.03|                0.1|\n",
      "|modelo_a|          4|OOT|2023|    7|  111| 3000|               0.037|                0.1|\n",
      "+--------+-----------+---+----+-----+-----+-----+--------------------+-------------------+\n",
      "only showing top 20 rows\n",
      "\n"
     ]
    }
   ],
   "source": [
    "# Agrupar por modelo, ambiente e faixa_score\n",
    "df_out_dev_proporcao_faixa = df_with_deciles \\\n",
    "    .filter(col('env') != 'DEV') \\\n",
    "    .groupBy(\"model\", \"env\", \"faixa_score\", \"year\", \"month\") \\\n",
    "    .agg(count(\"*\").alias(\"count\"))\n",
    "\n",
    "# Definir a janela para somar os counts por modelo e ambiente\n",
    "window_spec = Window.partitionBy(\"model\", \"env\")\n",
    "\n",
    "# Adicionar a coluna de proporção\n",
    "df_out_dev_proporcao_faixa = df_out_dev_proporcao_faixa \\\n",
    "    .withColumn(\"total\", Fsum(\"count\").over(window_spec)) \\\n",
    "    .withColumn(\"proporcao\", col(\"count\") / col(\"total\")) \\\n",
    "    .orderBy(\"model\", \"env\", \"faixa_score\")\n",
    "\n",
    "\n",
    "# adicionar a coluna de proporção referencia\n",
    "df_out_dev_proporcao_faixa = df_out_dev_proporcao_faixa.join(\n",
    "    df_referencia_proporcao_faixa.select(\"model\", \"faixa_score\", \"proporcao_ref\"), \n",
    "    on=[\"model\", \"faixa_score\"],\n",
    "    how=\"left\"\n",
    ") \n",
    "df_out_dev_proporcao_faixa.show()"
   ]
  },
  {
   "cell_type": "code",
   "execution_count": 139,
   "id": "169a1a03",
   "metadata": {},
   "outputs": [
    {
     "name": "stderr",
     "output_type": "stream",
     "text": [
      "                                                                                \r"
     ]
    },
    {
     "name": "stdout",
     "output_type": "stream",
     "text": [
      "+--------+---+----+-----+------------------+\n",
      "|   model|env|year|month|               psi|\n",
      "+--------+---+----+-----+------------------+\n",
      "|modelo_a|OOT|2023|    9|0.7427351317680397|\n",
      "|modelo_a|OOT|2023|    8|0.7418317669982292|\n",
      "|modelo_a|OOT|2023|    7|0.7411746085766344|\n",
      "|modelo_a|PRD|2024|    8|2.2863989970524616|\n",
      "|modelo_a|PRD|2024|   11|2.2826349321577593|\n",
      "|modelo_a|PRD|2024|    7|2.2848506530967305|\n",
      "|modelo_a|PRD|2024|    9| 2.280632157811023|\n",
      "|modelo_a|PRD|2024|    2|2.2815298596299436|\n",
      "|modelo_a|PRD|2024|    4| 2.282056092096412|\n",
      "|modelo_a|PRD|2024|   12| 2.284845373663066|\n",
      "|modelo_a|PRD|2024|    3| 2.283451765544504|\n",
      "|modelo_a|PRD|2024|    6|2.2813021212913602|\n",
      "|modelo_a|PRD|2024|   10|2.2822363227401037|\n",
      "|modelo_a|PRD|2024|    1|  2.28613901352983|\n",
      "|modelo_a|PRD|2024|    5|2.2844089284259086|\n",
      "|modelo_b|OOT|2023|    9|0.9163204953811663|\n",
      "|modelo_b|OOT|2023|    7|0.9161549215798626|\n",
      "|modelo_b|OOT|2023|    8|0.9210761997216893|\n",
      "|modelo_b|PRD|2024|   12|3.2987251218389066|\n",
      "|modelo_b|PRD|2024|    7| 3.318557000539064|\n",
      "+--------+---+----+-----+------------------+\n",
      "only showing top 20 rows\n",
      "\n"
     ]
    }
   ],
   "source": [
    "# Substituindo valores zero por 1e-6 para evitar divisão por zero ou log de zero\n",
    "safe_ref = when(col(\"proporcao_ref\") == 0, lit(1e-6)).otherwise(col(\"proporcao_ref\"))\n",
    "safe_prop = when(col(\"proporcao\") == 0, lit(1e-6)).otherwise(col(\"proporcao\"))\n",
    "\n",
    "# Criando uma nova coluna com o cálculo do PSI\n",
    "df_out_dev_proporcao_faixa = df_out_dev_proporcao_faixa.withColumn(\n",
    "    \"psi_component\",\n",
    "    (safe_ref - safe_prop) * log(safe_ref / safe_prop)\n",
    ")\n",
    "\n",
    "# Agora sim, agregando com sum\n",
    "df_psi = df_out_dev_proporcao_faixa.groupBy(\"model\", \"env\", \"year\", \"month\").agg(\n",
    "    Fsum(\"psi_component\").alias(\"psi\")\n",
    ")\n",
    "\n",
    "df_psi.show()"
   ]
  },
  {
   "cell_type": "code",
   "execution_count": 126,
   "id": "630fd0df",
   "metadata": {},
   "outputs": [
    {
     "name": "stderr",
     "output_type": "stream",
     "text": [
      "                                                                                \r"
     ]
    },
    {
     "name": "stdout",
     "output_type": "stream",
     "text": [
      "+--------+---+----+-----+------------------+----------+\n",
      "|   model|env|year|month|               psi|      data|\n",
      "+--------+---+----+-----+------------------+----------+\n",
      "|modelo_a|OOT|2023|    9|0.7427351317680397|2023-09-01|\n",
      "|modelo_a|OOT|2023|    8|0.7418317669982292|2023-08-01|\n",
      "|modelo_a|OOT|2023|    7|0.7411746085766344|2023-07-01|\n",
      "|modelo_a|PRD|2024|    8|2.2863989970524616|2024-08-01|\n",
      "|modelo_a|PRD|2024|   11|2.2826349321577593|2024-11-01|\n",
      "|modelo_a|PRD|2024|    7|2.2848506530967305|2024-07-01|\n",
      "|modelo_a|PRD|2024|    9| 2.280632157811023|2024-09-01|\n",
      "|modelo_a|PRD|2024|    2|2.2815298596299436|2024-02-01|\n",
      "|modelo_a|PRD|2024|    4| 2.282056092096412|2024-04-01|\n",
      "|modelo_a|PRD|2024|   12| 2.284845373663066|2024-12-01|\n",
      "|modelo_a|PRD|2024|    3| 2.283451765544504|2024-03-01|\n",
      "|modelo_a|PRD|2024|    6|2.2813021212913602|2024-06-01|\n",
      "|modelo_a|PRD|2024|   10|2.2822363227401037|2024-10-01|\n",
      "|modelo_a|PRD|2024|    1|  2.28613901352983|2024-01-01|\n",
      "|modelo_a|PRD|2024|    5|2.2844089284259086|2024-05-01|\n",
      "|modelo_b|OOT|2023|    9|0.9163204953811663|2023-09-01|\n",
      "|modelo_b|OOT|2023|    7|0.9161549215798626|2023-07-01|\n",
      "|modelo_b|OOT|2023|    8|0.9210761997216893|2023-08-01|\n",
      "|modelo_b|PRD|2024|   12|3.2987251218389066|2024-12-01|\n",
      "|modelo_b|PRD|2024|    7| 3.318557000539064|2024-07-01|\n",
      "+--------+---+----+-----+------------------+----------+\n",
      "only showing top 20 rows\n",
      "\n"
     ]
    }
   ],
   "source": [
    "df_psi = df_psi.withColumn(\n",
    "    \"data\",\n",
    "    to_date(\n",
    "        concat_ws(\"-\", \n",
    "            col(\"year\").cast(\"string\"), \n",
    "            lpad(col(\"month\").cast(\"string\"), 2, \"0\"), \n",
    "            lit(\"01\")\n",
    "        ), \n",
    "        \"yyyy-MM-dd\"\n",
    "    )\n",
    ")\n",
    "df_psi.show()"
   ]
  },
  {
   "cell_type": "code",
   "execution_count": 111,
   "id": "95a6ad8d",
   "metadata": {},
   "outputs": [],
   "source": [
    "import seaborn as sns\n",
    "from matplotlib import pyplot as plt"
   ]
  },
  {
   "cell_type": "code",
   "execution_count": null,
   "id": "092414b7",
   "metadata": {},
   "outputs": [],
   "source": []
  },
  {
   "cell_type": "code",
   "execution_count": 141,
   "id": "30935574",
   "metadata": {},
   "outputs": [
    {
     "ename": "ValueError",
     "evalue": "Could not interpret value `data` for `x`. An entry with this name does not appear in `data`.",
     "output_type": "error",
     "traceback": [
      "\u001b[0;31m---------------------------------------------------------------------------\u001b[0m",
      "\u001b[0;31mValueError\u001b[0m                                Traceback (most recent call last)",
      "Cell \u001b[0;32mIn[141], line 4\u001b[0m\n\u001b[1;32m      1\u001b[0m fig, ax \u001b[38;5;241m=\u001b[39m plt\u001b[38;5;241m.\u001b[39msubplots(figsize\u001b[38;5;241m=\u001b[39m(\u001b[38;5;241m7\u001b[39m, \u001b[38;5;241m4\u001b[39m))\n\u001b[1;32m      3\u001b[0m \u001b[38;5;66;03m# Plot principal\u001b[39;00m\n\u001b[0;32m----> 4\u001b[0m \u001b[43msns\u001b[49m\u001b[38;5;241;43m.\u001b[39;49m\u001b[43mlineplot\u001b[49m\u001b[43m(\u001b[49m\n\u001b[1;32m      5\u001b[0m \u001b[43m    \u001b[49m\u001b[43mx\u001b[49m\u001b[38;5;241;43m=\u001b[39;49m\u001b[38;5;124;43m'\u001b[39;49m\u001b[38;5;124;43mdata\u001b[39;49m\u001b[38;5;124;43m'\u001b[39;49m\u001b[43m,\u001b[49m\u001b[43m \u001b[49m\u001b[43my\u001b[49m\u001b[38;5;241;43m=\u001b[39;49m\u001b[38;5;124;43m'\u001b[39;49m\u001b[38;5;124;43mpsi\u001b[39;49m\u001b[38;5;124;43m'\u001b[39;49m\u001b[43m,\u001b[49m\n\u001b[1;32m      6\u001b[0m \u001b[43m    \u001b[49m\u001b[43mhue\u001b[49m\u001b[38;5;241;43m=\u001b[39;49m\u001b[38;5;124;43m'\u001b[39;49m\u001b[38;5;124;43mmodel\u001b[39;49m\u001b[38;5;124;43m'\u001b[39;49m\u001b[43m,\u001b[49m\u001b[43m \u001b[49m\u001b[43mstyle\u001b[49m\u001b[38;5;241;43m=\u001b[39;49m\u001b[38;5;124;43m'\u001b[39;49m\u001b[38;5;124;43menv\u001b[39;49m\u001b[38;5;124;43m'\u001b[39;49m\u001b[43m,\u001b[49m\n\u001b[1;32m      7\u001b[0m \u001b[43m    \u001b[49m\u001b[43mdata\u001b[49m\u001b[38;5;241;43m=\u001b[39;49m\u001b[43mdf_psi\u001b[49m\u001b[38;5;241;43m.\u001b[39;49m\u001b[43mtoPandas\u001b[49m\u001b[43m(\u001b[49m\u001b[43m)\u001b[49m\u001b[43m,\u001b[49m\u001b[43m \u001b[49m\u001b[43mdashes\u001b[49m\u001b[38;5;241;43m=\u001b[39;49m\u001b[38;5;28;43;01mFalse\u001b[39;49;00m\u001b[43m,\u001b[49m\n\u001b[1;32m      8\u001b[0m \u001b[43m    \u001b[49m\u001b[43mmarkers\u001b[49m\u001b[38;5;241;43m=\u001b[39;49m\u001b[38;5;28;43;01mTrue\u001b[39;49;00m\u001b[43m,\u001b[49m\u001b[43m \u001b[49m\u001b[43mmarkeredgecolor\u001b[49m\u001b[38;5;241;43m=\u001b[39;49m\u001b[38;5;124;43m'\u001b[39;49m\u001b[38;5;124;43mw\u001b[39;49m\u001b[38;5;124;43m'\u001b[39;49m\n\u001b[1;32m      9\u001b[0m \u001b[43m)\u001b[49m\n\u001b[1;32m     11\u001b[0m plt\u001b[38;5;241m.\u001b[39maxhline(\u001b[38;5;241m0.1\u001b[39m, color\u001b[38;5;241m=\u001b[39m\u001b[38;5;124m\"\u001b[39m\u001b[38;5;124morange\u001b[39m\u001b[38;5;124m\"\u001b[39m, linestyle\u001b[38;5;241m=\u001b[39m\u001b[38;5;124m\"\u001b[39m\u001b[38;5;124m--\u001b[39m\u001b[38;5;124m\"\u001b[39m, label\u001b[38;5;241m=\u001b[39m\u001b[38;5;124m\"\u001b[39m\u001b[38;5;124mlimite moderado\u001b[39m\u001b[38;5;124m\"\u001b[39m)\n\u001b[1;32m     12\u001b[0m plt\u001b[38;5;241m.\u001b[39maxhline(\u001b[38;5;241m0.25\u001b[39m, color\u001b[38;5;241m=\u001b[39m\u001b[38;5;124m\"\u001b[39m\u001b[38;5;124mred\u001b[39m\u001b[38;5;124m\"\u001b[39m, linestyle\u001b[38;5;241m=\u001b[39m\u001b[38;5;124m\"\u001b[39m\u001b[38;5;124m--\u001b[39m\u001b[38;5;124m\"\u001b[39m, label\u001b[38;5;241m=\u001b[39m\u001b[38;5;124m\"\u001b[39m\u001b[38;5;124mlimite crítico\u001b[39m\u001b[38;5;124m\"\u001b[39m)\n",
      "File \u001b[0;32m~/Documents/funcoes_agregacao_pyspark/.venv/lib/python3.10/site-packages/seaborn/relational.py:485\u001b[0m, in \u001b[0;36mlineplot\u001b[0;34m(data, x, y, hue, size, style, units, weights, palette, hue_order, hue_norm, sizes, size_order, size_norm, dashes, markers, style_order, estimator, errorbar, n_boot, seed, orient, sort, err_style, err_kws, legend, ci, ax, **kwargs)\u001b[0m\n\u001b[1;32m    471\u001b[0m \u001b[38;5;28;01mdef\u001b[39;00m\u001b[38;5;250m \u001b[39m\u001b[38;5;21mlineplot\u001b[39m(\n\u001b[1;32m    472\u001b[0m     data\u001b[38;5;241m=\u001b[39m\u001b[38;5;28;01mNone\u001b[39;00m, \u001b[38;5;241m*\u001b[39m,\n\u001b[1;32m    473\u001b[0m     x\u001b[38;5;241m=\u001b[39m\u001b[38;5;28;01mNone\u001b[39;00m, y\u001b[38;5;241m=\u001b[39m\u001b[38;5;28;01mNone\u001b[39;00m, hue\u001b[38;5;241m=\u001b[39m\u001b[38;5;28;01mNone\u001b[39;00m, size\u001b[38;5;241m=\u001b[39m\u001b[38;5;28;01mNone\u001b[39;00m, style\u001b[38;5;241m=\u001b[39m\u001b[38;5;28;01mNone\u001b[39;00m, units\u001b[38;5;241m=\u001b[39m\u001b[38;5;28;01mNone\u001b[39;00m, weights\u001b[38;5;241m=\u001b[39m\u001b[38;5;28;01mNone\u001b[39;00m,\n\u001b[0;32m   (...)\u001b[0m\n\u001b[1;32m    481\u001b[0m \n\u001b[1;32m    482\u001b[0m     \u001b[38;5;66;03m# Handle deprecation of ci parameter\u001b[39;00m\n\u001b[1;32m    483\u001b[0m     errorbar \u001b[38;5;241m=\u001b[39m _deprecate_ci(errorbar, ci)\n\u001b[0;32m--> 485\u001b[0m     p \u001b[38;5;241m=\u001b[39m \u001b[43m_LinePlotter\u001b[49m\u001b[43m(\u001b[49m\n\u001b[1;32m    486\u001b[0m \u001b[43m        \u001b[49m\u001b[43mdata\u001b[49m\u001b[38;5;241;43m=\u001b[39;49m\u001b[43mdata\u001b[49m\u001b[43m,\u001b[49m\n\u001b[1;32m    487\u001b[0m \u001b[43m        \u001b[49m\u001b[43mvariables\u001b[49m\u001b[38;5;241;43m=\u001b[39;49m\u001b[38;5;28;43mdict\u001b[39;49m\u001b[43m(\u001b[49m\n\u001b[1;32m    488\u001b[0m \u001b[43m            \u001b[49m\u001b[43mx\u001b[49m\u001b[38;5;241;43m=\u001b[39;49m\u001b[43mx\u001b[49m\u001b[43m,\u001b[49m\u001b[43m \u001b[49m\u001b[43my\u001b[49m\u001b[38;5;241;43m=\u001b[39;49m\u001b[43my\u001b[49m\u001b[43m,\u001b[49m\u001b[43m \u001b[49m\u001b[43mhue\u001b[49m\u001b[38;5;241;43m=\u001b[39;49m\u001b[43mhue\u001b[49m\u001b[43m,\u001b[49m\u001b[43m \u001b[49m\u001b[43msize\u001b[49m\u001b[38;5;241;43m=\u001b[39;49m\u001b[43msize\u001b[49m\u001b[43m,\u001b[49m\u001b[43m \u001b[49m\u001b[43mstyle\u001b[49m\u001b[38;5;241;43m=\u001b[39;49m\u001b[43mstyle\u001b[49m\u001b[43m,\u001b[49m\u001b[43m \u001b[49m\u001b[43munits\u001b[49m\u001b[38;5;241;43m=\u001b[39;49m\u001b[43munits\u001b[49m\u001b[43m,\u001b[49m\u001b[43m \u001b[49m\u001b[43mweight\u001b[49m\u001b[38;5;241;43m=\u001b[39;49m\u001b[43mweights\u001b[49m\n\u001b[1;32m    489\u001b[0m \u001b[43m        \u001b[49m\u001b[43m)\u001b[49m\u001b[43m,\u001b[49m\n\u001b[1;32m    490\u001b[0m \u001b[43m        \u001b[49m\u001b[43mestimator\u001b[49m\u001b[38;5;241;43m=\u001b[39;49m\u001b[43mestimator\u001b[49m\u001b[43m,\u001b[49m\u001b[43m \u001b[49m\u001b[43mn_boot\u001b[49m\u001b[38;5;241;43m=\u001b[39;49m\u001b[43mn_boot\u001b[49m\u001b[43m,\u001b[49m\u001b[43m \u001b[49m\u001b[43mseed\u001b[49m\u001b[38;5;241;43m=\u001b[39;49m\u001b[43mseed\u001b[49m\u001b[43m,\u001b[49m\u001b[43m \u001b[49m\u001b[43merrorbar\u001b[49m\u001b[38;5;241;43m=\u001b[39;49m\u001b[43merrorbar\u001b[49m\u001b[43m,\u001b[49m\n\u001b[1;32m    491\u001b[0m \u001b[43m        \u001b[49m\u001b[43msort\u001b[49m\u001b[38;5;241;43m=\u001b[39;49m\u001b[43msort\u001b[49m\u001b[43m,\u001b[49m\u001b[43m \u001b[49m\u001b[43morient\u001b[49m\u001b[38;5;241;43m=\u001b[39;49m\u001b[43morient\u001b[49m\u001b[43m,\u001b[49m\u001b[43m \u001b[49m\u001b[43merr_style\u001b[49m\u001b[38;5;241;43m=\u001b[39;49m\u001b[43merr_style\u001b[49m\u001b[43m,\u001b[49m\u001b[43m \u001b[49m\u001b[43merr_kws\u001b[49m\u001b[38;5;241;43m=\u001b[39;49m\u001b[43merr_kws\u001b[49m\u001b[43m,\u001b[49m\n\u001b[1;32m    492\u001b[0m \u001b[43m        \u001b[49m\u001b[43mlegend\u001b[49m\u001b[38;5;241;43m=\u001b[39;49m\u001b[43mlegend\u001b[49m\u001b[43m,\u001b[49m\n\u001b[1;32m    493\u001b[0m \u001b[43m    \u001b[49m\u001b[43m)\u001b[49m\n\u001b[1;32m    495\u001b[0m     p\u001b[38;5;241m.\u001b[39mmap_hue(palette\u001b[38;5;241m=\u001b[39mpalette, order\u001b[38;5;241m=\u001b[39mhue_order, norm\u001b[38;5;241m=\u001b[39mhue_norm)\n\u001b[1;32m    496\u001b[0m     p\u001b[38;5;241m.\u001b[39mmap_size(sizes\u001b[38;5;241m=\u001b[39msizes, order\u001b[38;5;241m=\u001b[39msize_order, norm\u001b[38;5;241m=\u001b[39msize_norm)\n",
      "File \u001b[0;32m~/Documents/funcoes_agregacao_pyspark/.venv/lib/python3.10/site-packages/seaborn/relational.py:216\u001b[0m, in \u001b[0;36m_LinePlotter.__init__\u001b[0;34m(self, data, variables, estimator, n_boot, seed, errorbar, sort, orient, err_style, err_kws, legend)\u001b[0m\n\u001b[1;32m    202\u001b[0m \u001b[38;5;28;01mdef\u001b[39;00m\u001b[38;5;250m \u001b[39m\u001b[38;5;21m__init__\u001b[39m(\n\u001b[1;32m    203\u001b[0m     \u001b[38;5;28mself\u001b[39m, \u001b[38;5;241m*\u001b[39m,\n\u001b[1;32m    204\u001b[0m     data\u001b[38;5;241m=\u001b[39m\u001b[38;5;28;01mNone\u001b[39;00m, variables\u001b[38;5;241m=\u001b[39m{},\n\u001b[0;32m   (...)\u001b[0m\n\u001b[1;32m    210\u001b[0m     \u001b[38;5;66;03m# the kind of plot to draw, but for the time being we need to set\u001b[39;00m\n\u001b[1;32m    211\u001b[0m     \u001b[38;5;66;03m# this information so the SizeMapping can use it\u001b[39;00m\n\u001b[1;32m    212\u001b[0m     \u001b[38;5;28mself\u001b[39m\u001b[38;5;241m.\u001b[39m_default_size_range \u001b[38;5;241m=\u001b[39m (\n\u001b[1;32m    213\u001b[0m         np\u001b[38;5;241m.\u001b[39mr_[\u001b[38;5;241m.5\u001b[39m, \u001b[38;5;241m2\u001b[39m] \u001b[38;5;241m*\u001b[39m mpl\u001b[38;5;241m.\u001b[39mrcParams[\u001b[38;5;124m\"\u001b[39m\u001b[38;5;124mlines.linewidth\u001b[39m\u001b[38;5;124m\"\u001b[39m]\n\u001b[1;32m    214\u001b[0m     )\n\u001b[0;32m--> 216\u001b[0m     \u001b[38;5;28;43msuper\u001b[39;49m\u001b[43m(\u001b[49m\u001b[43m)\u001b[49m\u001b[38;5;241;43m.\u001b[39;49m\u001b[38;5;21;43m__init__\u001b[39;49m\u001b[43m(\u001b[49m\u001b[43mdata\u001b[49m\u001b[38;5;241;43m=\u001b[39;49m\u001b[43mdata\u001b[49m\u001b[43m,\u001b[49m\u001b[43m \u001b[49m\u001b[43mvariables\u001b[49m\u001b[38;5;241;43m=\u001b[39;49m\u001b[43mvariables\u001b[49m\u001b[43m)\u001b[49m\n\u001b[1;32m    218\u001b[0m     \u001b[38;5;28mself\u001b[39m\u001b[38;5;241m.\u001b[39mestimator \u001b[38;5;241m=\u001b[39m estimator\n\u001b[1;32m    219\u001b[0m     \u001b[38;5;28mself\u001b[39m\u001b[38;5;241m.\u001b[39merrorbar \u001b[38;5;241m=\u001b[39m errorbar\n",
      "File \u001b[0;32m~/Documents/funcoes_agregacao_pyspark/.venv/lib/python3.10/site-packages/seaborn/_base.py:634\u001b[0m, in \u001b[0;36mVectorPlotter.__init__\u001b[0;34m(self, data, variables)\u001b[0m\n\u001b[1;32m    629\u001b[0m \u001b[38;5;66;03m# var_ordered is relevant only for categorical axis variables, and may\u001b[39;00m\n\u001b[1;32m    630\u001b[0m \u001b[38;5;66;03m# be better handled by an internal axis information object that tracks\u001b[39;00m\n\u001b[1;32m    631\u001b[0m \u001b[38;5;66;03m# such information and is set up by the scale_* methods. The analogous\u001b[39;00m\n\u001b[1;32m    632\u001b[0m \u001b[38;5;66;03m# information for numeric axes would be information about log scales.\u001b[39;00m\n\u001b[1;32m    633\u001b[0m \u001b[38;5;28mself\u001b[39m\u001b[38;5;241m.\u001b[39m_var_ordered \u001b[38;5;241m=\u001b[39m {\u001b[38;5;124m\"\u001b[39m\u001b[38;5;124mx\u001b[39m\u001b[38;5;124m\"\u001b[39m: \u001b[38;5;28;01mFalse\u001b[39;00m, \u001b[38;5;124m\"\u001b[39m\u001b[38;5;124my\u001b[39m\u001b[38;5;124m\"\u001b[39m: \u001b[38;5;28;01mFalse\u001b[39;00m}  \u001b[38;5;66;03m# alt., used DefaultDict\u001b[39;00m\n\u001b[0;32m--> 634\u001b[0m \u001b[38;5;28;43mself\u001b[39;49m\u001b[38;5;241;43m.\u001b[39;49m\u001b[43massign_variables\u001b[49m\u001b[43m(\u001b[49m\u001b[43mdata\u001b[49m\u001b[43m,\u001b[49m\u001b[43m \u001b[49m\u001b[43mvariables\u001b[49m\u001b[43m)\u001b[49m\n\u001b[1;32m    636\u001b[0m \u001b[38;5;66;03m# TODO Lots of tests assume that these are called to initialize the\u001b[39;00m\n\u001b[1;32m    637\u001b[0m \u001b[38;5;66;03m# mappings to default values on class initialization. I'd prefer to\u001b[39;00m\n\u001b[1;32m    638\u001b[0m \u001b[38;5;66;03m# move away from that and only have a mapping when explicitly called.\u001b[39;00m\n\u001b[1;32m    639\u001b[0m \u001b[38;5;28;01mfor\u001b[39;00m var \u001b[38;5;129;01min\u001b[39;00m [\u001b[38;5;124m\"\u001b[39m\u001b[38;5;124mhue\u001b[39m\u001b[38;5;124m\"\u001b[39m, \u001b[38;5;124m\"\u001b[39m\u001b[38;5;124msize\u001b[39m\u001b[38;5;124m\"\u001b[39m, \u001b[38;5;124m\"\u001b[39m\u001b[38;5;124mstyle\u001b[39m\u001b[38;5;124m\"\u001b[39m]:\n",
      "File \u001b[0;32m~/Documents/funcoes_agregacao_pyspark/.venv/lib/python3.10/site-packages/seaborn/_base.py:679\u001b[0m, in \u001b[0;36mVectorPlotter.assign_variables\u001b[0;34m(self, data, variables)\u001b[0m\n\u001b[1;32m    674\u001b[0m \u001b[38;5;28;01melse\u001b[39;00m:\n\u001b[1;32m    675\u001b[0m     \u001b[38;5;66;03m# When dealing with long-form input, use the newer PlotData\u001b[39;00m\n\u001b[1;32m    676\u001b[0m     \u001b[38;5;66;03m# object (internal but introduced for the objects interface)\u001b[39;00m\n\u001b[1;32m    677\u001b[0m     \u001b[38;5;66;03m# to centralize / standardize data consumption logic.\u001b[39;00m\n\u001b[1;32m    678\u001b[0m     \u001b[38;5;28mself\u001b[39m\u001b[38;5;241m.\u001b[39minput_format \u001b[38;5;241m=\u001b[39m \u001b[38;5;124m\"\u001b[39m\u001b[38;5;124mlong\u001b[39m\u001b[38;5;124m\"\u001b[39m\n\u001b[0;32m--> 679\u001b[0m     plot_data \u001b[38;5;241m=\u001b[39m \u001b[43mPlotData\u001b[49m\u001b[43m(\u001b[49m\u001b[43mdata\u001b[49m\u001b[43m,\u001b[49m\u001b[43m \u001b[49m\u001b[43mvariables\u001b[49m\u001b[43m)\u001b[49m\n\u001b[1;32m    680\u001b[0m     frame \u001b[38;5;241m=\u001b[39m plot_data\u001b[38;5;241m.\u001b[39mframe\n\u001b[1;32m    681\u001b[0m     names \u001b[38;5;241m=\u001b[39m plot_data\u001b[38;5;241m.\u001b[39mnames\n",
      "File \u001b[0;32m~/Documents/funcoes_agregacao_pyspark/.venv/lib/python3.10/site-packages/seaborn/_core/data.py:58\u001b[0m, in \u001b[0;36mPlotData.__init__\u001b[0;34m(self, data, variables)\u001b[0m\n\u001b[1;32m     51\u001b[0m \u001b[38;5;28;01mdef\u001b[39;00m\u001b[38;5;250m \u001b[39m\u001b[38;5;21m__init__\u001b[39m(\n\u001b[1;32m     52\u001b[0m     \u001b[38;5;28mself\u001b[39m,\n\u001b[1;32m     53\u001b[0m     data: DataSource,\n\u001b[1;32m     54\u001b[0m     variables: \u001b[38;5;28mdict\u001b[39m[\u001b[38;5;28mstr\u001b[39m, VariableSpec],\n\u001b[1;32m     55\u001b[0m ):\n\u001b[1;32m     57\u001b[0m     data \u001b[38;5;241m=\u001b[39m handle_data_source(data)\n\u001b[0;32m---> 58\u001b[0m     frame, names, ids \u001b[38;5;241m=\u001b[39m \u001b[38;5;28;43mself\u001b[39;49m\u001b[38;5;241;43m.\u001b[39;49m\u001b[43m_assign_variables\u001b[49m\u001b[43m(\u001b[49m\u001b[43mdata\u001b[49m\u001b[43m,\u001b[49m\u001b[43m \u001b[49m\u001b[43mvariables\u001b[49m\u001b[43m)\u001b[49m\n\u001b[1;32m     60\u001b[0m     \u001b[38;5;28mself\u001b[39m\u001b[38;5;241m.\u001b[39mframe \u001b[38;5;241m=\u001b[39m frame\n\u001b[1;32m     61\u001b[0m     \u001b[38;5;28mself\u001b[39m\u001b[38;5;241m.\u001b[39mnames \u001b[38;5;241m=\u001b[39m names\n",
      "File \u001b[0;32m~/Documents/funcoes_agregacao_pyspark/.venv/lib/python3.10/site-packages/seaborn/_core/data.py:232\u001b[0m, in \u001b[0;36mPlotData._assign_variables\u001b[0;34m(self, data, variables)\u001b[0m\n\u001b[1;32m    230\u001b[0m     \u001b[38;5;28;01melse\u001b[39;00m:\n\u001b[1;32m    231\u001b[0m         err \u001b[38;5;241m+\u001b[39m\u001b[38;5;241m=\u001b[39m \u001b[38;5;124m\"\u001b[39m\u001b[38;5;124mAn entry with this name does not appear in `data`.\u001b[39m\u001b[38;5;124m\"\u001b[39m\n\u001b[0;32m--> 232\u001b[0m     \u001b[38;5;28;01mraise\u001b[39;00m \u001b[38;5;167;01mValueError\u001b[39;00m(err)\n\u001b[1;32m    234\u001b[0m \u001b[38;5;28;01melse\u001b[39;00m:\n\u001b[1;32m    235\u001b[0m \n\u001b[1;32m    236\u001b[0m     \u001b[38;5;66;03m# Otherwise, assume the value somehow represents data\u001b[39;00m\n\u001b[1;32m    237\u001b[0m \n\u001b[1;32m    238\u001b[0m     \u001b[38;5;66;03m# Ignore empty data structures\u001b[39;00m\n\u001b[1;32m    239\u001b[0m     \u001b[38;5;28;01mif\u001b[39;00m \u001b[38;5;28misinstance\u001b[39m(val, Sized) \u001b[38;5;129;01mand\u001b[39;00m \u001b[38;5;28mlen\u001b[39m(val) \u001b[38;5;241m==\u001b[39m \u001b[38;5;241m0\u001b[39m:\n",
      "\u001b[0;31mValueError\u001b[0m: Could not interpret value `data` for `x`. An entry with this name does not appear in `data`."
     ]
    },
    {
     "data": {
      "image/png": "[encoded data removed]",
      "text/plain": [
       "<Figure size 700x400 with 1 Axes>"
      ]
     },
     "metadata": {},
     "output_type": "display_data"
    }
   ],
   "source": [
    "\n",
    "fig, ax = plt.subplots(figsize=(7, 4))\n",
    "\n",
    "# Plot principal\n",
    "sns.lineplot(\n",
    "    x='data', y='psi',\n",
    "    hue='model', style='env',\n",
    "    data=df_psi.toPandas(), dashes=False,\n",
    "    markers=True, markeredgecolor='w'\n",
    ")\n",
    "\n",
    "plt.axhline(0.1, color=\"orange\", linestyle=\"--\", label=\"limite moderado\")\n",
    "plt.axhline(0.25, color=\"red\", linestyle=\"--\", label=\"limite crítico\")\n",
    "plt.title(\"Evolução do PSI - modelo_b\")\n",
    "plt.xlabel(\"Data\")\n",
    "plt.ylabel(\"PSI\")\n",
    "\n",
    "\n",
    "plt.xticks(rotation=90)\n",
    "\n",
    "\n",
    "# remover upper and right axis and set on the grid\n",
    "ax.spines['right'].set_visible(False)\n",
    "ax.spines['top'].set_visible(False)\n",
    "ax.yaxis.grid(True, linestyle='-', linewidth=0.2)\n",
    "ax.xaxis.grid(True, linestyle='-', linewidth=0.2)\n",
    "plt.tight_layout()\n",
    "\n",
    "plt.show()"
   ]
  },
  {
   "cell_type": "markdown",
   "id": "504b151b",
   "metadata": {},
   "source": []
  },
  {
   "cell_type": "code",
   "execution_count": null,
   "id": "ce3501a1",
   "metadata": {},
   "outputs": [],
   "source": [
    "# Bibliotecas padrão\n",
    "import numpy as np\n",
    "import pandas as pd\n",
    "\n",
    "# PySpark\n",
    "from pyspark.sql import SparkSession\n",
    "from pyspark.sql.functions import (\n",
    "    col, count, lit, log, percentile_approx, sum as Fsum,\n",
    "    when, to_date, concat_ws, lpad\n",
    ")\n",
    "from pyspark.sql.types import IntegerType, StringType\n",
    "from pyspark.sql.window import Window\n",
    "from pyspark.sql.functions import udf\n",
    "\n",
    "from matplotlib import pyplot as plt\n",
    "import seaborn as sns\n",
    "\n",
    "# ======================\n",
    "# Simulação dos dados\n",
    "# ======================\n",
    "def simulate_model_data(model_name: str, start_year: int = 2023) -> pd.DataFrame:\n",
    "    \"\"\"Simula scores e variável resposta para diferentes ambientes.\"\"\"\n",
    "    rng = np.random.default_rng(seed=42 if model_name == 'modelo_a' else 99)\n",
    "\n",
    "    def generate_block(env, year, month, loc, size=1000):\n",
    "        scores = np.clip(rng.normal(loc=loc, scale=0.1, size=size), 0.01, 0.99)\n",
    "        vr = rng.binomial(1, p=scores)\n",
    "        return pd.DataFrame({\n",
    "            'model': model_name, 'env': env, 'year': year, 'month': month,\n",
    "            'score': scores, 'vr': vr\n",
    "        })\n",
    "\n",
    "    data = []\n",
    "    for month in range(1, 7):\n",
    "        data.append(generate_block('DEV', start_year, month, 0.5))\n",
    "\n",
    "    for month in range(7, 13):\n",
    "        loc = 0.5 if model_name == 'modelo_a' else 0.55\n",
    "        data.append(generate_block('OOT', start_year, month, loc))\n",
    "\n",
    "    for month in range(1, 13):\n",
    "        year = start_year + 1\n",
    "        loc = 0.5 if model_name == 'modelo_a' else 0.5 + 0.02 * month\n",
    "        data.append(generate_block('PRD', year, month, loc))\n",
    "\n",
    "    return pd.concat(data, ignore_index=True)\n",
    "\n",
    "# Dados simulados\n",
    "df = pd.concat([simulate_model_data('modelo_a'), simulate_model_data('modelo_b')], ignore_index=True)\n",
    "\n",
    "# ======================\n",
    "# Spark Session\n",
    "# ======================\n",
    "spark = SparkSession.builder.appName(\"PSIAnalysis\").getOrCreate()\n",
    "spkdf = spark.createDataFrame(df)\n",
    "\n",
    "# ======================\n",
    "# Cálculo dos decis\n",
    "# ======================\n",
    "n_bins = 10\n",
    "cutoffs = (\n",
    "    spkdf.filter(col(\"env\") == \"DEV\")\n",
    "        .groupBy(\"model\")\n",
    "        .agg(percentile_approx(\"score\", [i / n_bins for i in range(1, n_bins)], 10000).alias(\"cuts\"))\n",
    ")\n",
    "\n",
    "# ======================\n",
    "# Funções de faixa\n",
    "# ======================\n",
    "@udf(IntegerType())\n",
    "def assign_decile(score, cuts):\n",
    "    if cuts is None:\n",
    "        return None\n",
    "    for i, c in enumerate(cuts):\n",
    "        if score <= c:\n",
    "            return i + 1\n",
    "    return len(cuts) + 1\n",
    "\n",
    "@udf(StringType())\n",
    "def label_decile(score, cuts):\n",
    "    if cuts is None:\n",
    "        return None\n",
    "    for i, c in enumerate(cuts):\n",
    "        if score <= c:\n",
    "            return f\"<{c:.4f}\" if i == 0 else f\"{cuts[i-1]:.4f} - {c:.4f}\"\n",
    "    return f\">{cuts[-1]:.4f}\"\n",
    "\n",
    "# ======================\n",
    "# Aplicação das faixas\n",
    "# ======================\n",
    "df_with_cuts = spkdf.join(cutoffs, on=\"model\", how=\"left\")\n",
    "df_with_deciles = df_with_cuts.withColumn(\"faixa_score\", assign_decile(col(\"score\"), col(\"cuts\"))) \\\n",
    "                            .withColumn(\"label_faixa_score\", label_decile(col(\"score\"), col(\"cuts\")))\n",
    "\n",
    "# ======================\n",
    "# Proporção de referência (DEV)\n",
    "# ======================\n",
    "ref_counts = (df_with_deciles.filter(col(\"env\") == \"DEV\")\n",
    "                            .groupBy(\"model\", \"env\", \"faixa_score\")\n",
    "                            .agg(count(\"*\").alias(\"count\")))\n",
    "\n",
    "window_ref = Window.partitionBy(\"model\", \"env\")\n",
    "df_ref_prop = ref_counts.withColumn(\"total\", Fsum(\"count\").over(window_ref)) \\\n",
    "                        .withColumn(\"proporcao_ref\", col(\"count\") / col(\"total\"))\n",
    "\n",
    "# ======================\n",
    "# Proporção fora do DEV (OOT e PRD)\n",
    "# ======================\n",
    "out_counts = (df_with_deciles.filter(col(\"env\") != \"DEV\")\n",
    "                            .groupBy(\"model\", \"env\", \"faixa_score\", \"year\", \"month\")\n",
    "                            .agg(count(\"*\").alias(\"count\")))\n",
    "\n",
    "window_out = Window.partitionBy(\"model\", \"env\")\n",
    "df_out_prop = out_counts.withColumn(\"total\", Fsum(\"count\").over(window_out)) \\\n",
    "                        .withColumn(\"proporcao\", col(\"count\") / col(\"total\"))\n",
    "\n",
    "# ======================\n",
    "# Cálculo do PSI\n",
    "# ======================\n",
    "df_psi_calc = df_out_prop.join(\n",
    "    df_ref_prop.select(\"model\", \"faixa_score\", \"proporcao_ref\"),\n",
    "    on=[\"model\", \"faixa_score\"], how=\"left\"\n",
    ")\n",
    "\n",
    "safe_ref = when(col(\"proporcao_ref\") == 0, lit(1e-6)).otherwise(col(\"proporcao_ref\"))\n",
    "safe_prop = when(col(\"proporcao\") == 0, lit(1e-6)).otherwise(col(\"proporcao\"))\n",
    "\n",
    "df_psi_calc = df_psi_calc.withColumn(\n",
    "    \"psi_component\", (safe_ref - safe_prop) * log(safe_ref / safe_prop)\n",
    ")\n",
    "\n",
    "df_psi = df_psi_calc.groupBy(\"model\", \"env\", \"year\", \"month\") \\\n",
    "                    .agg(Fsum(\"psi_component\").alias(\"psi\")) \\\n",
    "                    .withColumn(\"data\", to_date(concat_ws(\"-\", col(\"year\"), lpad(col(\"month\"), 2, \"0\"), lit(\"01\")), \"yyyy-MM-dd\"))\n",
    "\n",
    "# ======================\n",
    "# Resultado final\n",
    "# ======================\n",
    "df_psi.orderBy(\"model\", \"data\").show(10, truncate=False)\n",
    "\n",
    "df_psi.show()\n",
    "\n",
    "\n",
    "fig, ax = plt.subplots(figsize=(7, 4))\n",
    "\n",
    "# Plot principal\n",
    "sns.lineplot(\n",
    "    x='data', y='psi',\n",
    "    hue='model', style='env',\n",
    "    data=df_psi.toPandas(), dashes=False,\n",
    "    markers=True, markeredgecolor='w'\n",
    ")\n",
    "\n",
    "plt.axhline(0.1, color=\"orange\", linestyle=\"--\", label=\"limite moderado\")\n",
    "plt.axhline(0.25, color=\"red\", linestyle=\"--\", label=\"limite crítico\")\n",
    "plt.title(\"Evolução do PSI\")\n",
    "plt.xlabel(\"Data\")\n",
    "plt.ylabel(\"PSI\")\n",
    "\n",
    "\n",
    "plt.xticks(rotation=90)\n",
    "\n",
    "\n",
    "# remover upper and right axis and set on the grid\n",
    "ax.spines['right'].set_visible(False)\n",
    "ax.spines['top'].set_visible(False)\n",
    "ax.yaxis.grid(True, linestyle='-', linewidth=0.2)\n",
    "ax.xaxis.grid(True, linestyle='-', linewidth=0.2)\n",
    "plt.tight_layout()\n",
    "plt.legend()\n",
    "plt.show()\n"
   ]
  }
 ],
 "metadata": {
  "kernelspec": {
   "display_name": ".venv",
   "language": "python",
   "name": "python3"
  },
  "language_info": {
   "codemirror_mode": {
    "name": "ipython",
    "version": 3
   },
   "file_extension": ".py",
   "mimetype": "text/x-python",
   "name": "python",
   "nbconvert_exporter": "python",
   "pygments_lexer": "ipython3",
   "version": "3.10.10"
  }
 },
 "nbformat": 4,
 "nbformat_minor": 5
}
