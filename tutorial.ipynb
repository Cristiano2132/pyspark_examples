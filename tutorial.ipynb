{
 "cells": [
  {
   "cell_type": "markdown",
   "id": "545c0beb",
   "metadata": {},
   "source": [
    "# 📘 Tutorial PySpark: Funções de Agregação e Criação de Funções Personalizadas\n",
    "\n",
    "## Objetivo Geral\n",
    "- Apresentar os principais conceitos e ferramentas do PySpark relacionados a agrupamentos e agregações de dados.  \n",
    "- Ensinar como criar funções personalizadas e aplicá-las com `groupBy`.  \n",
    "- Preparar a base conceitual para cálculos como o PSI (Population Stability Index), mas com aplicabilidade mais ampla.  \n",
    "\n",
    "---\n",
    "\n",
    "## Sumário\n",
    "\n",
    "\n",
    "1. [Preparação do Ambiente](#2-preparação-do-ambiente)\n",
    "2. [Introdução ao PySpark](#1-introdução-ao-pyspark)  \n",
    "3. [Exploração do Dataset](#3-exploração-do-dataset)  \n",
    "4. [🔍 Agrupamentos com groupBy](#4-agrupamentos-com-groupby)  \n",
    "5. [🧱 Janela e Agrupamentos Avançados](#5-janela-e-agrupamentos-avançados)  \n",
    "6. [🛠️ Funções Personalizadas com UDF](#6-funções-personalizadas-com-udf)  \n",
    "7. [🧪 Estudos de Caso](#7-estudos-de-caso)  \n",
    "8. [📊 Exemplo Aplicado: Cálculo do PSI](#8-exemplo-aplicado-cálculo-do-psi)  \n",
    "9. [🔚 Conclusões e Próximos Passos](#9-conclusões-e-próximos-passos)  \n",
    "\n",
    "---\n"
   ]
  },
  {
   "cell_type": "markdown",
   "id": "1e7f1e6e",
   "metadata": {},
   "source": [
    "## 1. Preparação do Ambiente\n",
    "\n",
    "### 1.1. Importações necessárias.\n"
   ]
  },
  {
   "cell_type": "code",
   "execution_count": 52,
   "id": "85671a31",
   "metadata": {},
   "outputs": [],
   "source": [
    "# Bibliotecas padrão\n",
    "import numpy as np\n",
    "import pandas as pd\n",
    "\n",
    "from scipy.stats import ks_2samp\n",
    "\n",
    "import seaborn as sns\n",
    "import matplotlib.pyplot as plt\n",
    "\n",
    "# PySpark - Sessão\n",
    "from pyspark.sql import SparkSession\n",
    "\n",
    "# PySpark - Funções\n",
    "from pyspark.sql.functions import (\n",
    "    concat_ws,\n",
    "    avg,\n",
    "    col,\n",
    "    count,\n",
    "    lit,\n",
    "    log,\n",
    "    percentile_approx,\n",
    "    sum as Fsum,\n",
    "    udf,\n",
    "    when,\n",
    "    to_date,\n",
    "    lpad,\n",
    ")\n",
    "from pyspark.sql import functions as F\n",
    "\n",
    "# PySpark - Tipos\n",
    "from pyspark.sql.types import IntegerType, StringType, DoubleType\n",
    "from pyspark.ml.feature import QuantileDiscretizer\n",
    "\n",
    "# PySpark - Janela\n",
    "from pyspark.sql.window import Window\n"
   ]
  },
  {
   "cell_type": "markdown",
   "id": "530a8996",
   "metadata": {},
   "source": [
    "### 1.2. Simulação de um dataset \n",
    "\n",
    "Iremos simular um dataset com colunas `score`, `ambiente`, `modelo`, `target`.\n",
    "\n",
    "🎯 Objetivo:\n",
    "\t•\tSimular dois modelos (modelo_a, modelo_b)\n",
    "\t•\tCada um com dados nos ambientes:\n",
    "\t•\tDEV: 6 meses\n",
    "\t•\tOOT: 3 meses\n",
    "\t•\tPRD: 12 meses\n",
    "\t•\tmodelo_a permanece calibrado\n",
    "\t•\tmodelo_b vai descalibrando ao longo do tempo\n",
    "\n",
    "⸻\n",
    "\n",
    "📦 Etapas da simulação:\n",
    "\t1.\tGerar uma base com colunas: score, env, year, month, model\n",
    "\t2.\tmodelo_a: score estável em todos os ambientes\n",
    "\t3.\tmodelo_b: score muda ao longo do tempo (ex: média ou variância cresce em PRD)\n"
   ]
  },
  {
   "cell_type": "code",
   "execution_count": 53,
   "id": "89d300da",
   "metadata": {},
   "outputs": [
    {
     "name": "stdout",
     "output_type": "stream",
     "text": [
      "Taxa de eventos no total: 9.024%\n",
      "      model  env  year  month     score  vr\n",
      "0  modelo_a  DEV  2023      1  0.065236   0\n",
      "1  modelo_a  DEV  2023      1  0.010000   0\n",
      "2  modelo_a  DEV  2023      1  0.087523   0\n",
      "3  modelo_a  DEV  2023      1  0.097028   0\n",
      "4  modelo_a  DEV  2023      1  0.010000   0\n"
     ]
    }
   ],
   "source": [
    "import pandas as pd\n",
    "import numpy as np\n",
    "\n",
    "def simulate_model_data(model_name, start_year=2023):\n",
    "    \"\"\"\n",
    "    Simula scores e variável resposta para um modelo nos ambientes DEV, OOT e PRD.\n",
    "    \n",
    "    - modelo_a: score calibrado e estável\n",
    "    - modelo_b: score descalibrando em PRD (aumenta média ao longo do tempo)\n",
    "    \"\"\"\n",
    "    rows = []\n",
    "    rng = np.random.default_rng(seed=42 if model_name == 'modelo_a' else 99)\n",
    "\n",
    "    def generate_block(env, year, month, loc, size=1000):\n",
    "        # Gera scores com média 'loc' e desvio padrão 0.05\n",
    "        scores = rng.normal(loc=loc, scale=0.05, size=size)\n",
    "        scores = np.clip(scores, 0.01, 0.99)\n",
    "        vr = rng.binomial(1, p=scores)\n",
    "        return pd.DataFrame({\n",
    "            'model': model_name,\n",
    "            'env': env,\n",
    "            'year': year,\n",
    "            'month': month,\n",
    "            'score': scores,\n",
    "            'vr': vr\n",
    "        })\n",
    "\n",
    "    # Parâmetros calibrados para taxa de evento baixa (~5%)\n",
    "    base_loc = 0.05\n",
    "    incremento = 0.02\n",
    "\n",
    "    # Ambiente DEV (6 meses estáveis)\n",
    "    for month in range(1, 7):\n",
    "        rows.append(generate_block('DEV', start_year, month, loc=base_loc))\n",
    "\n",
    "    # Ambiente OOT (3 meses)\n",
    "    for month in range(7, 10):\n",
    "        loc = base_loc if model_name == 'modelo_a' else base_loc + 0.01\n",
    "        rows.append(generate_block('OOT', start_year, month, loc=loc))\n",
    "\n",
    "    # Ambiente PRD (12 meses)\n",
    "    for month in range(1, 13):\n",
    "        year = start_year + 1\n",
    "        loc = base_loc if model_name == 'modelo_a' else base_loc + incremento * month\n",
    "        rows.append(generate_block('PRD', year, month, loc=loc))\n",
    "\n",
    "    return pd.concat(rows, ignore_index=True)\n",
    "\n",
    "# Gerar os dados simulados\n",
    "df_a = simulate_model_data('modelo_a')\n",
    "df_b = simulate_model_data('modelo_b')\n",
    "df = pd.concat([df_a, df_b], ignore_index=True)\n",
    "\n",
    "# Checar taxa de eventos\n",
    "taxa_eventos = df['vr'].mean()\n",
    "print(f\"Taxa de eventos no total: {taxa_eventos:.3%}\")\n",
    "print(df.head())"
   ]
  },
  {
   "cell_type": "markdown",
   "id": "4ae91a50",
   "metadata": {},
   "source": [
    "🧪 Colunas do DataFrame final:\n",
    "\n",
    "* model: \"modelo_a\" ou \"modelo_b\"\n",
    "* env: ambiente (DEV, OOT, PRD)\n",
    "* year: ano\n",
    "* month: mês\n",
    "* score: probabilidade estimada pelo modelo (entre 0 e 1)\n",
    "* vr: variável resposta (0 ou 1), simulada com base no score"
   ]
  },
  {
   "cell_type": "markdown",
   "id": "2db7211c",
   "metadata": {
    "vscode": {
     "languageId": "plaintext"
    }
   },
   "source": [
    "---\n",
    "\n",
    "## 2. Introdução ao PySpark\n",
    "\n",
    "### 2.1. Por que usar PySpark para grandes volumes de dados?\n",
    "\n",
    "Em projetos de ciência de dados ou engenharia de dados que lidam com grandes volumes de informação (de gigabytes a terabytes ou mais), bibliotecas tradicionais como `pandas` deixam de ser eficientes, pois operam em memória (RAM) e em apenas uma máquina. Isso limita o processamento a conjuntos de dados menores e torna as operações mais lentas e sujeitas a erros de memória.\n",
    "\n",
    "O **PySpark** é a API em Python do **Apache Spark**, um motor de processamento distribuído altamente escalável. Ele permite:\n",
    "\n",
    "- **Processamento paralelo em cluster**: divide os dados entre várias máquinas ou núcleos.\n",
    "- **Escalabilidade**: funciona localmente, em clusters locais (como com `Spark Standalone`) ou em ambientes distribuídos como Hadoop/YARN, Kubernetes, Databricks, EMR (AWS), etc.\n",
    "- **Tolerância a falhas**: reexecuta automaticamente tarefas que falham.\n",
    "- **Alto desempenho**: otimizado para processar dados em lote e em tempo real.\n",
    "\n",
    "> 💡 Em resumo: PySpark permite que você escale seu código em Python para trabalhar com big data de maneira eficiente e robusta.\n",
    "\n",
    "\n",
    "### 2.2. O que é o `SparkSession` e por que ele é essencial?\n",
    "\n",
    "O `SparkSession` é a **porta de entrada** para utilizar o PySpark. Ele é o ponto central por onde você acessa todas as funcionalidades do Spark, como:\n",
    "\n",
    "- Leitura e escrita de dados (CSV, Parquet, JSON, JDBC, etc.)\n",
    "- Manipulação de DataFrames e execução de SQL\n",
    "- Criação de RDDs (Resilient Distributed Datasets)\n",
    "- Configuração do ambiente de execução (como número de partições, uso de cache, etc.)\n"
   ]
  },
  {
   "cell_type": "code",
   "execution_count": 104,
   "id": "13a26936",
   "metadata": {},
   "outputs": [],
   "source": [
    "import os\n",
    "os.environ['PYSPARK_PYTHON'] = '/Users/cristianooliveira/Documents/funcoes_agregacao_pyspark/.venv/bin/python'\n",
    "os.environ['PYSPARK_DRIVER_PYTHON'] = '/Users/cristianooliveira/Documents/funcoes_agregacao_pyspark/.venv/bin/python'\n",
    "spark = SparkSession.builder \\\n",
    "    .appName(\"Tutorial PySpark\") \\\n",
    "    .getOrCreate()"
   ]
  },
  {
   "cell_type": "markdown",
   "id": "673b57eb",
   "metadata": {},
   "source": [
    "🧠 Explicando o código:\n",
    "\n",
    "*\t.builder: inicia a configuração.\n",
    "*\t.appName(\"Tutorial PySpark\"): define o nome da aplicação, útil para monitoramento.\n",
    "*\t.getOrCreate(): cria a sessão Spark se não existir, ou reutiliza uma existente.\n",
    "\n",
    "\n",
    "📝 Nota: O objeto spark será utilizado ao longo de todo o tutorial para criar e manipular DataFrames.\n"
   ]
  },
  {
   "cell_type": "markdown",
   "id": "5363937f",
   "metadata": {},
   "source": [
    "### 2.3. Transformando o pandas em um dataframe do pyspark"
   ]
  },
  {
   "cell_type": "code",
   "execution_count": 55,
   "id": "be87ee27",
   "metadata": {},
   "outputs": [],
   "source": [
    "spkdf = spark.createDataFrame(df)"
   ]
  },
  {
   "cell_type": "markdown",
   "id": "0507c932",
   "metadata": {},
   "source": [
    "---\n",
    "## 3. Exploração do Dataset\n",
    "\n",
    "- Inspeção inicial com `.show()`, `.printSchema()`, `.select()`, `.filter()`, `.distinct()`.\n",
    "- Entendimento da estrutura dos dados.\n"
   ]
  },
  {
   "cell_type": "code",
   "execution_count": 56,
   "id": "a269573e",
   "metadata": {},
   "outputs": [
    {
     "name": "stdout",
     "output_type": "stream",
     "text": [
      "+--------+---+----+-----+--------------------+---+\n",
      "|   model|env|year|month|               score| vr|\n",
      "+--------+---+----+-----+--------------------+---+\n",
      "|modelo_a|DEV|2023|    1| 0.06523585398772157|  0|\n",
      "|modelo_a|DEV|2023|    1|                0.01|  0|\n",
      "|modelo_a|DEV|2023|    1| 0.08752255979032286|  0|\n",
      "|modelo_a|DEV|2023|    1|  0.0970282358195607|  0|\n",
      "|modelo_a|DEV|2023|    1|                0.01|  0|\n",
      "|modelo_a|DEV|2023|    1|                0.01|  0|\n",
      "|modelo_a|DEV|2023|    1|0.056392020158364274|  0|\n",
      "|modelo_a|DEV|2023|    1| 0.03418787038282089|  0|\n",
      "|modelo_a|DEV|2023|    1| 0.04915994212478556|  0|\n",
      "|modelo_a|DEV|2023|    1|                0.01|  0|\n",
      "+--------+---+----+-----+--------------------+---+\n",
      "only showing top 10 rows\n",
      "\n"
     ]
    }
   ],
   "source": [
    "spkdf.show(10)"
   ]
  },
  {
   "cell_type": "code",
   "execution_count": 57,
   "id": "b2648df5",
   "metadata": {},
   "outputs": [
    {
     "name": "stdout",
     "output_type": "stream",
     "text": [
      "root\n",
      " |-- model: string (nullable = true)\n",
      " |-- env: string (nullable = true)\n",
      " |-- year: long (nullable = true)\n",
      " |-- month: long (nullable = true)\n",
      " |-- score: double (nullable = true)\n",
      " |-- vr: long (nullable = true)\n",
      "\n"
     ]
    }
   ],
   "source": [
    "spkdf.printSchema()"
   ]
  },
  {
   "cell_type": "code",
   "execution_count": 58,
   "id": "b76ce4fc",
   "metadata": {},
   "outputs": [
    {
     "name": "stdout",
     "output_type": "stream",
     "text": [
      "+--------+---+\n",
      "|   model|env|\n",
      "+--------+---+\n",
      "|modelo_a|DEV|\n",
      "|modelo_a|DEV|\n",
      "|modelo_a|DEV|\n",
      "+--------+---+\n",
      "only showing top 3 rows\n",
      "\n",
      "+--------+---+\n",
      "|   model|env|\n",
      "+--------+---+\n",
      "|modelo_a|DEV|\n",
      "|modelo_a|DEV|\n",
      "|modelo_a|DEV|\n",
      "+--------+---+\n",
      "only showing top 3 rows\n",
      "\n",
      "+--------+---+\n",
      "|   model|env|\n",
      "+--------+---+\n",
      "|modelo_a|DEV|\n",
      "|modelo_a|DEV|\n",
      "|modelo_a|DEV|\n",
      "+--------+---+\n",
      "only showing top 3 rows\n",
      "\n"
     ]
    }
   ],
   "source": [
    "#  Select columns by different ways\n",
    "spkdf.select(\"model\",\"env\").show(3)\n",
    "spkdf.select(spkdf.model,spkdf.env).show(3)\n",
    "spkdf.select(spkdf[\"model\"],spkdf[\"env\"]).show(3)"
   ]
  },
  {
   "cell_type": "code",
   "execution_count": 59,
   "id": "a93786d6",
   "metadata": {},
   "outputs": [
    {
     "name": "stdout",
     "output_type": "stream",
     "text": [
      "+--------+---+\n",
      "|   model|env|\n",
      "+--------+---+\n",
      "|modelo_a|DEV|\n",
      "|modelo_a|DEV|\n",
      "|modelo_a|DEV|\n",
      "+--------+---+\n",
      "only showing top 3 rows\n",
      "\n",
      "+--------+\n",
      "|   model|\n",
      "+--------+\n",
      "|modelo_a|\n",
      "|modelo_a|\n",
      "|modelo_a|\n",
      "+--------+\n",
      "only showing top 3 rows\n",
      "\n",
      "+----+-----+\n",
      "|year|month|\n",
      "+----+-----+\n",
      "|2023|    1|\n",
      "|2023|    1|\n",
      "|2023|    1|\n",
      "+----+-----+\n",
      "only showing top 3 rows\n",
      "\n"
     ]
    }
   ],
   "source": [
    "# By using col() function\n",
    "spkdf.select(col(\"model\"),col(\"env\")).show(3)\n",
    "\n",
    "# Select columns by regular expression\n",
    "spkdf.select(spkdf.colRegex(\"`.*(mod).*`\")).show(3)\n",
    "\n",
    "#Selects columns 2 to 4  and top 3 rows\n",
    "spkdf.select(spkdf.columns[2:4]).show(3)"
   ]
  },
  {
   "cell_type": "code",
   "execution_count": 60,
   "id": "dac737cf",
   "metadata": {},
   "outputs": [
    {
     "name": "stdout",
     "output_type": "stream",
     "text": [
      "+--------+---+----+-----+-------------------+---+\n",
      "|   model|env|year|month|              score| vr|\n",
      "+--------+---+----+-----+-------------------+---+\n",
      "|modelo_a|DEV|2023|    1|0.06523585398772157|  0|\n",
      "|modelo_a|DEV|2023|    1|               0.01|  0|\n",
      "|modelo_a|DEV|2023|    1|0.08752255979032286|  0|\n",
      "+--------+---+----+-----+-------------------+---+\n",
      "only showing top 3 rows\n",
      "\n",
      "+--------+---+----+-----+-------------------+---+\n",
      "|   model|env|year|month|              score| vr|\n",
      "+--------+---+----+-----+-------------------+---+\n",
      "|modelo_a|DEV|2023|    1|0.06523585398772157|  0|\n",
      "|modelo_a|DEV|2023|    1|               0.01|  0|\n",
      "|modelo_a|DEV|2023|    1|0.08752255979032286|  0|\n",
      "+--------+---+----+-----+-------------------+---+\n",
      "only showing top 3 rows\n",
      "\n",
      "+--------+---+----+-----+-------------------+---+\n",
      "|   model|env|year|month|              score| vr|\n",
      "+--------+---+----+-----+-------------------+---+\n",
      "|modelo_a|DEV|2023|    1|0.06523585398772157|  0|\n",
      "|modelo_a|DEV|2023|    1|               0.01|  0|\n",
      "|modelo_a|DEV|2023|    1|0.08752255979032286|  0|\n",
      "+--------+---+----+-----+-------------------+---+\n",
      "only showing top 3 rows\n",
      "\n"
     ]
    }
   ],
   "source": [
    "# filter\n",
    "spkdf.filter(col(\"model\") == \"modelo_a\").show(3)\n",
    "spkdf.filter(spkdf.model == \"modelo_a\").show(3)\n",
    "spkdf.filter(\"model = 'modelo_a'\").show(3)"
   ]
  },
  {
   "cell_type": "code",
   "execution_count": 61,
   "id": "537abf41",
   "metadata": {},
   "outputs": [
    {
     "name": "stdout",
     "output_type": "stream",
     "text": [
      "+--------+---+----+-----+-------------------+---+\n",
      "|   model|env|year|month|              score| vr|\n",
      "+--------+---+----+-----+-------------------+---+\n",
      "|modelo_a|DEV|2023|    1|0.06523585398772157|  0|\n",
      "|modelo_a|DEV|2023|    1|               0.01|  0|\n",
      "|modelo_a|DEV|2023|    1|0.08752255979032286|  0|\n",
      "+--------+---+----+-----+-------------------+---+\n",
      "only showing top 3 rows\n",
      "\n"
     ]
    }
   ],
   "source": [
    "spkdf.filter(\"model = 'modelo_a' AND env = 'DEV'\").show(3)"
   ]
  },
  {
   "cell_type": "markdown",
   "id": "30b0b24a",
   "metadata": {},
   "source": [
    "---\n",
    "\n",
    "## 4. Agrupamentos com `groupBy`\n",
    "\n",
    "O método `.groupBy()` em PySpark é usado para agrupar linhas de um DataFrame com base nos valores de uma ou mais colunas, permitindo aplicar funções de agregação sobre esses grupos. Ele é equivalente ao `groupby()` do pandas, mas funciona de forma distribuída e escalável.\n",
    "\n",
    "\n",
    "### 4.1. Sintaxe básica\n",
    "\n",
    "```python\n",
    "df.groupBy(\"coluna\").agg(função_agregadora)\n",
    "```\n",
    "\n",
    "Você pode agrupar por uma ou mais colunas, e aplicar funções como `count()`, `sum()`, `avg()`, `min()`, `max()`, entre outras.\n",
    "\n"
   ]
  },
  {
   "cell_type": "code",
   "execution_count": 62,
   "id": "a20bcfaa",
   "metadata": {},
   "outputs": [
    {
     "name": "stderr",
     "output_type": "stream",
     "text": [
      "                                                                                \r"
     ]
    },
    {
     "name": "stdout",
     "output_type": "stream",
     "text": [
      "+--------+-----+\n",
      "|   model|count|\n",
      "+--------+-----+\n",
      "|modelo_a|21000|\n",
      "|modelo_b|21000|\n",
      "+--------+-----+\n",
      "\n",
      "+---+--------------------+\n",
      "|env|          avg(score)|\n",
      "+---+--------------------+\n",
      "|PRD|  0.1180247751059192|\n",
      "|OOT| 0.06133385077278047|\n",
      "|DEV|0.055934157757326165|\n",
      "+---+--------------------+\n",
      "\n",
      "+--------+---+-------+\n",
      "|   model|env|sum(vr)|\n",
      "+--------+---+-------+\n",
      "|modelo_a|DEV|    349|\n",
      "|modelo_a|OOT|    205|\n",
      "|modelo_a|PRD|    674|\n",
      "|modelo_b|DEV|    310|\n",
      "|modelo_b|OOT|    206|\n",
      "|modelo_b|PRD|   2046|\n",
      "+--------+---+-------+\n",
      "\n"
     ]
    }
   ],
   "source": [
    "# Contagem de registros por model\n",
    "spkdf.groupBy(\"model\").count().show()\n",
    "\n",
    "# Média de score por env\n",
    "spkdf.groupBy(\"env\").agg(F.avg(\"score\")).show()\n",
    "\n",
    "# Soma de eventos por model e env\n",
    "spkdf.groupBy(\"model\", \"env\").agg(F.sum(\"vr\")).show()\n",
    "\n"
   ]
  },
  {
   "cell_type": "markdown",
   "id": "0c06589c",
   "metadata": {},
   "source": [
    "### 4.2. Agregações múltiplas com .agg({})\n",
    "\n",
    "Você pode aplicar várias agregações ao mesmo tempo, inclusive sobre diferentes colunas:"
   ]
  },
  {
   "cell_type": "code",
   "execution_count": 63,
   "id": "81e7d5c9",
   "metadata": {},
   "outputs": [
    {
     "name": "stdout",
     "output_type": "stream",
     "text": [
      "+--------+--------------------+-------+\n",
      "|   model|          avg(score)|sum(vr)|\n",
      "+--------+--------------------+-------+\n",
      "|modelo_a|0.056223241218516816|   1228|\n",
      "|modelo_b| 0.12814854927037073|   2562|\n",
      "+--------+--------------------+-------+\n",
      "\n"
     ]
    }
   ],
   "source": [
    "spkdf.groupBy(\"model\").agg({\n",
    "    \"score\": \"avg\",\n",
    "    \"vr\": \"sum\"\n",
    "}).show()\n"
   ]
  },
  {
   "cell_type": "markdown",
   "id": "0de6aebb",
   "metadata": {},
   "source": [
    "\n",
    "⚠️ Essa forma é mais limitada: você não pode adicionar alias com nomes personalizados.\n",
    "\n",
    "\n",
    "\n",
    "### 4.3. Agregações múltiplas com .agg(F.func()) (forma recomendada)\n",
    "\n",
    "A forma mais flexível é usando `F.func()` com alias (`.alias(\"nome_coluna\")`):"
   ]
  },
  {
   "cell_type": "code",
   "execution_count": 64,
   "id": "76e3ec98",
   "metadata": {},
   "outputs": [
    {
     "name": "stdout",
     "output_type": "stream",
     "text": [
      "+--------+---+--------------------+-------------+--------------------+------------+\n",
      "|   model|env|         media_score|total_eventos|quantidade_registros|exposição(%)|\n",
      "+--------+---+--------------------+-------------+--------------------+------------+\n",
      "|modelo_a|DEV|0.055953284685808936|          349|                6000|        5.82|\n",
      "|modelo_a|OOT|0.056341076211994884|          205|                3000|        6.83|\n",
      "|modelo_a|PRD| 0.05632876073650206|          674|               12000|        5.62|\n",
      "|modelo_b|DEV| 0.05591503082884339|          310|                6000|        5.17|\n",
      "|modelo_b|OOT| 0.06632662533356605|          206|                3000|        6.87|\n",
      "|modelo_b|PRD| 0.17972078947533635|         2046|               12000|       17.05|\n",
      "+--------+---+--------------------+-------------+--------------------+------------+\n",
      "\n"
     ]
    }
   ],
   "source": [
    "spkdf.groupBy(\"model\", \"env\").agg(\n",
    "    F.avg(\"score\").alias(\"media_score\"),\n",
    "    F.sum(\"vr\").alias(\"total_eventos\"),\n",
    "    F.count(\"*\").alias(\"quantidade_registros\"),\n",
    "    F.round(\n",
    "        (F.sum(\"vr\") / F.count(\"*\")) * 100,\n",
    "        2\n",
    "    ).alias(\"exposição(%)\")\n",
    ").show()\n"
   ]
  },
  {
   "cell_type": "markdown",
   "id": "5e5c401b",
   "metadata": {},
   "source": [
    "### 4.4. Agrupamentos não agregativos\n",
    "\n",
    "Você também pode usar `groupBy()` para operações que não são diretamente agregações, como `collect_list` e `collect_set`:\n",
    "\n",
    "*\t`collect_list`: junta os valores de uma coluna em listas (permite repetição).\n",
    "*\t`collect_set`: junta os valores sem repetir (como um set).\n"
   ]
  },
  {
   "cell_type": "code",
   "execution_count": 65,
   "id": "acfb8919",
   "metadata": {},
   "outputs": [
    {
     "name": "stdout",
     "output_type": "stream",
     "text": [
      "+--------+--------------------+\n",
      "|   model|        lista_scores|\n",
      "+--------+--------------------+\n",
      "|modelo_a|[0.06523585398772...|\n",
      "|modelo_b|[0.05412471521418...|\n",
      "+--------+--------------------+\n",
      "\n",
      "+--------+----------------+\n",
      "|   model|ambientes_unicos|\n",
      "+--------+----------------+\n",
      "|modelo_a| [DEV, PRD, OOT]|\n",
      "|modelo_b| [DEV, PRD, OOT]|\n",
      "+--------+----------------+\n",
      "\n"
     ]
    }
   ],
   "source": [
    "# Lista de scores por model\n",
    "spkdf.groupBy(\"model\").agg(F.collect_list(\"score\").alias(\"lista_scores\")).show(truncate=True)\n",
    "\n",
    "# Conjunto único de ambientes por model\n",
    "spkdf.groupBy(\"model\").agg(F.collect_set(\"env\").alias(\"ambientes_unicos\")).show(3)"
   ]
  },
  {
   "cell_type": "markdown",
   "id": "fb2cd19c",
   "metadata": {},
   "source": [
    "### 4.5.Uso com `.select()` ou `.withColumn()`\n",
    "\n",
    "Em algumas situações, você pode querer transformar os resultados do groupBy() usando .select() ou .withColumn() para criar colunas derivadas ou realizar novos cálculos.\n",
    "\n",
    "Exemplo: criar uma nova coluna com score médio classificado"
   ]
  },
  {
   "cell_type": "code",
   "execution_count": 66,
   "id": "02a5110b",
   "metadata": {},
   "outputs": [
    {
     "name": "stderr",
     "output_type": "stream",
     "text": [
      "[Stage 202:>                                                        (0 + 3) / 3]\r"
     ]
    },
    {
     "name": "stdout",
     "output_type": "stream",
     "text": [
      "+--------+--------------------+-------------+\n",
      "|   model|         media_score|classificacao|\n",
      "+--------+--------------------+-------------+\n",
      "|modelo_a|0.056223241218516816|        Baixo|\n",
      "|modelo_b| 0.12814854927037073|        Baixo|\n",
      "+--------+--------------------+-------------+\n",
      "\n"
     ]
    },
    {
     "name": "stderr",
     "output_type": "stream",
     "text": [
      "                                                                                \r"
     ]
    }
   ],
   "source": [
    "media_df = spkdf.groupBy(\"model\").agg(F.avg(\"score\").alias(\"media_score\"))\n",
    "\n",
    "# Adiciona uma nova coluna que classifica o score como alto ou baixo\n",
    "media_df = media_df.withColumn(\n",
    "    \"classificacao\",\n",
    "    F.when(F.col(\"media_score\") >= 0.6, \"Alto\").otherwise(\"Baixo\")\n",
    ")\n",
    "\n",
    "media_df.show()"
   ]
  },
  {
   "cell_type": "markdown",
   "id": "564ed424",
   "metadata": {},
   "source": [
    "\n",
    "Você também pode fazer .select() para reordenar ou renomear colunas após a agregação:\n"
   ]
  },
  {
   "cell_type": "code",
   "execution_count": 67,
   "id": "00007ac7",
   "metadata": {},
   "outputs": [
    {
     "name": "stdout",
     "output_type": "stream",
     "text": [
      "+--------+-------------+--------------------+\n",
      "|   model|classificacao|         media_score|\n",
      "+--------+-------------+--------------------+\n",
      "|modelo_a|        Baixo|0.056223241218516816|\n",
      "|modelo_b|        Baixo| 0.12814854927037073|\n",
      "+--------+-------------+--------------------+\n",
      "\n"
     ]
    }
   ],
   "source": [
    "media_df.select(\"model\", \"classificacao\", \"media_score\").show()"
   ]
  },
  {
   "cell_type": "code",
   "execution_count": 68,
   "id": "ea198ac5",
   "metadata": {},
   "outputs": [
    {
     "name": "stdout",
     "output_type": "stream",
     "text": [
      "+--------+---+--------------------+\n",
      "|   model|env|         media_score|\n",
      "+--------+---+--------------------+\n",
      "|modelo_a|DEV|0.055953284685808936|\n",
      "|modelo_a|OOT|0.056341076211994884|\n",
      "|modelo_a|PRD| 0.05632876073650206|\n",
      "|modelo_b|DEV| 0.05591503082884339|\n",
      "|modelo_b|OOT| 0.06632662533356605|\n",
      "|modelo_b|PRD| 0.17972078947533635|\n",
      "+--------+---+--------------------+\n",
      "\n"
     ]
    }
   ],
   "source": [
    "spkdf.groupBy(\"model\", \"env\") \\\n",
    "    .agg(F.avg(\"score\").alias(\"media_score\")) \\\n",
    "    .orderBy(\"model\", \"env\") \\\n",
    "    .show()"
   ]
  },
  {
   "cell_type": "markdown",
   "id": "f56c21a8",
   "metadata": {},
   "source": [
    "---\n",
    "\n",
    "## 5. Janela e Agrupamentos Avançados\n",
    "\n",
    "### 5.1. Diferença entre groupBy e funções de janela (window functions)\n"
   ]
  },
  {
   "cell_type": "markdown",
   "id": "b1f9fd20",
   "metadata": {},
   "source": [
    "\n",
    "Embora `groupBy()` e `window functions` (funções de janela) pareçam semelhantes à primeira vista (pois ambos trabalham com agregações), eles têm finalidades e comportamentos bem diferentes:\n",
    "\n",
    "\n",
    "\n",
    "| Característica        | `groupBy()`                                  | Window Functions                                           |\n",
    "|-----------------------|-----------------------------------------------|-------------------------------------------------------------|\n",
    "| Tipo de operação      | Reduz a cardinalidade do DataFrame           | Mantém a cardinalidade (não reduz número de linhas)         |\n",
    "| Retorno por linha     | Não (gera 1 linha por grupo)                 | Sim (retorna uma nova coluna com valores agregados)         |\n",
    "| Exemplo de uso        | Soma total por categoria                     | Soma acumulada dentro de cada categoria                     |\n",
    "| Ideal para            | Resumos agregados                            | Cálculos linha a linha dentro de grupos                     |\n",
    "\n",
    "\n",
    "\n",
    "### 5.2. Uso de Window.partitionBy().orderBy()\n",
    "\n",
    "As funções de janela exigem que você defina um “escopo”, ou seja, dentro de qual grupo a função deve operar. Isso é feito com partitionBy().\n",
    "\n",
    "Você pode também ordenar os dados dentro de cada partição com orderBy() — o que é necessário para funções como rank() ou row_number().\n",
    "\n",
    "\n"
   ]
  },
  {
   "cell_type": "code",
   "execution_count": 69,
   "id": "215d4754",
   "metadata": {},
   "outputs": [
    {
     "name": "stdout",
     "output_type": "stream",
     "text": [
      "+--------+---+----+-----+-------------------+---+----------+\n",
      "|   model|env|year|month|              score| vr|rank_score|\n",
      "+--------+---+----+-----+-------------------+---+----------+\n",
      "|modelo_a|PRD|2024|   11| 0.2663460370305066|  0|         1|\n",
      "|modelo_a|PRD|2024|    9|  0.254396153541065|  0|         2|\n",
      "|modelo_a|DEV|2023|    5|0.25129120213636325|  0|         3|\n",
      "|modelo_a|PRD|2024|    2|0.22781813927750655|  0|         4|\n",
      "|modelo_a|PRD|2024|    8|0.22382836775265536|  1|         5|\n",
      "+--------+---+----+-----+-------------------+---+----------+\n",
      "only showing top 5 rows\n",
      "\n"
     ]
    }
   ],
   "source": [
    "janela = Window.partitionBy(\"model\").orderBy(F.desc(\"score\"))\n",
    "\n",
    "spkdf.withColumn(\"rank_score\", F.rank().over(janela)).show(5)"
   ]
  },
  {
   "cell_type": "markdown",
   "id": "10d2340c",
   "metadata": {},
   "source": [
    "**Exemplo 1**: Cálculo de proporções dentro de grupos\n",
    "\n",
    "Queremos calcular a proporção de cada linha em relação ao total do grupo (por exemplo, proporção de eventos dentro de cada modelo):"
   ]
  },
  {
   "cell_type": "code",
   "execution_count": 70,
   "id": "fd045953",
   "metadata": {},
   "outputs": [
    {
     "name": "stdout",
     "output_type": "stream",
     "text": [
      "+--------+---+----+-----+-------------------+---+-------------------+\n",
      "|   model|env|year|month|              score| vr|prop_eventos_modelo|\n",
      "+--------+---+----+-----+-------------------+---+-------------------+\n",
      "|modelo_a|DEV|2023|    1|0.06523585398772157|  0|                0.0|\n",
      "|modelo_a|DEV|2023|    1|               0.01|  0|                0.0|\n",
      "|modelo_a|DEV|2023|    1|0.08752255979032286|  0|                0.0|\n",
      "|modelo_a|DEV|2023|    1| 0.0970282358195607|  0|                0.0|\n",
      "|modelo_a|DEV|2023|    1|               0.01|  0|                0.0|\n",
      "+--------+---+----+-----+-------------------+---+-------------------+\n",
      "only showing top 5 rows\n",
      "\n"
     ]
    }
   ],
   "source": [
    "janela_model = Window.partitionBy(\"model\")\n",
    "\n",
    "spkdf.withColumn(\"prop_eventos_modelo\", \n",
    "                F.round(\n",
    "                    F.col(\"vr\") / F.sum(\"vr\").over(janela_model)*100, 2\n",
    "                )\n",
    "                ).show(5)"
   ]
  },
  {
   "cell_type": "code",
   "execution_count": 71,
   "id": "97521f17",
   "metadata": {},
   "outputs": [
    {
     "name": "stdout",
     "output_type": "stream",
     "text": [
      "+--------+---+----+-----+-------------------+---+---------+\n",
      "|   model|env|year|month|              score| vr|exposicao|\n",
      "+--------+---+----+-----+-------------------+---+---------+\n",
      "|modelo_a|DEV|2023|    1|0.06523585398772157|  0|     5.82|\n",
      "|modelo_a|DEV|2023|    1|               0.01|  0|     5.82|\n",
      "|modelo_a|DEV|2023|    1|0.08752255979032286|  0|     5.82|\n",
      "|modelo_a|DEV|2023|    1| 0.0970282358195607|  0|     5.82|\n",
      "|modelo_a|DEV|2023|    1|               0.01|  0|     5.82|\n",
      "+--------+---+----+-----+-------------------+---+---------+\n",
      "only showing top 5 rows\n",
      "\n"
     ]
    }
   ],
   "source": [
    "janela_model = Window.partitionBy(\"model\", 'env')\n",
    "\n",
    "spkdf.withColumn(\"exposicao\", \n",
    "                F.round(\n",
    "                    F.sum(\"vr\").over(janela_model)/F.count(\"vr\").over(janela_model)*100, 2\n",
    "                )\n",
    "                ).show(5)"
   ]
  },
  {
   "cell_type": "markdown",
   "id": "37ed7d3f",
   "metadata": {},
   "source": [
    "**Exemplo 2**: Ranking por score dentro de cada modelo\n",
    "\n",
    "Aqui usamos `row_number()` e `rank()` para identificar os maiores scores por modelo:"
   ]
  },
  {
   "cell_type": "code",
   "execution_count": 72,
   "id": "8db8719c",
   "metadata": {},
   "outputs": [
    {
     "name": "stdout",
     "output_type": "stream",
     "text": [
      "+--------+---+----+-----+-------------------+---+-------+\n",
      "|   model|env|year|month|              score| vr|posicao|\n",
      "+--------+---+----+-----+-------------------+---+-------+\n",
      "|modelo_a|PRD|2024|   11| 0.2663460370305066|  0|      1|\n",
      "|modelo_a|PRD|2024|    9|  0.254396153541065|  0|      2|\n",
      "|modelo_a|DEV|2023|    5|0.25129120213636325|  0|      3|\n",
      "|modelo_a|PRD|2024|    2|0.22781813927750655|  0|      4|\n",
      "|modelo_a|PRD|2024|    8|0.22382836775265536|  1|      5|\n",
      "|modelo_a|DEV|2023|    3|0.22270232011220908|  0|      6|\n",
      "|modelo_a|PRD|2024|    4| 0.2163736143214973|  0|      7|\n",
      "|modelo_a|PRD|2024|   10|0.21540296625940583|  0|      8|\n",
      "|modelo_a|PRD|2024|   11|0.21453484068109085|  0|      9|\n",
      "|modelo_a|DEV|2023|    3|0.21355130611072948|  0|     10|\n",
      "|modelo_a|PRD|2024|    5| 0.2112996562073962|  1|     11|\n",
      "|modelo_a|DEV|2023|    4|0.21040804569582475|  0|     12|\n",
      "|modelo_a|OOT|2023|    9|0.21001214902585322|  1|     13|\n",
      "|modelo_a|PRD|2024|   10|0.20965660189008484|  0|     14|\n",
      "|modelo_a|DEV|2023|    1|0.20894268396837679|  0|     15|\n",
      "|modelo_a|DEV|2023|    6|0.20630864713962443|  0|     16|\n",
      "|modelo_a|PRD|2024|    6|0.20555136609186186|  0|     17|\n",
      "|modelo_a|PRD|2024|    7|0.20552960695315192|  0|     18|\n",
      "|modelo_a|DEV|2023|    4|0.20509429018724318|  0|     19|\n",
      "|modelo_a|DEV|2023|    2| 0.2029765614498412|  0|     20|\n",
      "+--------+---+----+-----+-------------------+---+-------+\n",
      "only showing top 20 rows\n",
      "\n"
     ]
    }
   ],
   "source": [
    "janela_ordenada = Window.partitionBy(\"model\").orderBy(F.desc(\"score\"))\n",
    "\n",
    "spkdf.withColumn(\"posicao\", F.row_number().over(janela_ordenada)).show()"
   ]
  },
  {
   "cell_type": "markdown",
   "id": "89276a5d",
   "metadata": {},
   "source": [
    "> ⚠️ **Atenção**\n",
    "> - `row_number()` dá números únicos e sequenciais (`1, 2, 3, …`)\n",
    "> - `rank()` atribui a mesma posição a empates e pode pular posições (`1, 1, 3, …`)\n",
    "\n",
    "### 5.3. Quando usar Window Functions?\n",
    "\n",
    "Use funções de janela quando você quiser:\n",
    "\n",
    "*\tCalcular totais ou médias sem colapsar o DataFrame\n",
    "*\tComparar cada linha com outras do mesmo grupo\n",
    "*\tAplicar funções acumuladas, ranking, diferença entre linhas, entre outros\n",
    "\n",
    "---\n"
   ]
  },
  {
   "cell_type": "markdown",
   "id": "1ed01a1d",
   "metadata": {},
   "source": [
    "## 6. Funções Personalizadas com UDF (User Defined Functions)\n",
    "\n",
    "Por que criar UDFs no PySpark?\n",
    "\n",
    "Embora o PySpark ofereça diversas funções nativas (pyspark.sql.functions), em muitos cenários do mundo real precisamos aplicar regras de negócio específicas, condições complexas, ou transformações personalizadas. Para isso, usamos UDFs (User Defined Functions).\n",
    "\n",
    "> ⚠️ **Importante**\n",
    ">As UDFs não são otimizadas pelo motor Catalyst do Spark, então seu uso deve ser reservado para casos em que as funções nativas não são suficientes. Sempre que possível, prefira usar funções embutidas como `when()`, `filter()`, `withColumn()`, `expr()` etc.\n",
    "\n",
    "\n",
    "\n",
    "### 6.1. Como criar uma UDF?\n",
    "\n",
    "Há duas formas principais de criar uma UDF no PySpark:\n",
    "\n",
    "✅ Forma 1: Usando o decorador @udf com tipo de retorno\n",
    "\n",
    "✅ Forma 2: Usando `F.udf()` diretamente"
   ]
  },
  {
   "cell_type": "code",
   "execution_count": 73,
   "id": "ddaff282",
   "metadata": {},
   "outputs": [],
   "source": [
    "@udf(returnType=StringType())\n",
    "def categoriza_score(score):\n",
    "    if score < 0.2:\n",
    "        return \"baixo\"\n",
    "    elif score < 0.5:\n",
    "        return \"médio\"\n",
    "    else:\n",
    "        return \"alto\"\n",
    "\n",
    "\n",
    "categoriza_score_udf = F.udf(\n",
    "    lambda s: \"baixo\" if s < 0.2 else \"médio\" if s < 0.5 else \"alto\",\n",
    "    returnType=StringType()\n",
    ")\n"
   ]
  },
  {
   "cell_type": "markdown",
   "id": "15ac455f",
   "metadata": {},
   "source": [
    "### 6.2. Aplicando a UDF no DataFrame\n",
    "\n",
    "A UDF pode ser aplicada como uma nova coluna:"
   ]
  },
  {
   "cell_type": "code",
   "execution_count": 74,
   "id": "d87f8d0d",
   "metadata": {},
   "outputs": [
    {
     "name": "stdout",
     "output_type": "stream",
     "text": [
      "+--------------------+---------------+\n",
      "|               score|categoria_score|\n",
      "+--------------------+---------------+\n",
      "| 0.06523585398772157|          baixo|\n",
      "|                0.01|          baixo|\n",
      "| 0.08752255979032286|          baixo|\n",
      "|  0.0970282358195607|          baixo|\n",
      "|                0.01|          baixo|\n",
      "|                0.01|          baixo|\n",
      "|0.056392020158364274|          baixo|\n",
      "| 0.03418787038282089|          baixo|\n",
      "| 0.04915994212478556|          baixo|\n",
      "|                0.01|          baixo|\n",
      "+--------------------+---------------+\n",
      "only showing top 10 rows\n",
      "\n"
     ]
    }
   ],
   "source": [
    "spkdf = spkdf.withColumn(\"categoria_score\", categoriza_score(F.col(\"score\")))\n",
    "spkdf.select(\"score\", \"categoria_score\").show(10)"
   ]
  },
  {
   "cell_type": "markdown",
   "id": "69035a70",
   "metadata": {},
   "source": [
    "**Exemplo**: Categorizar score com base em percentis\n",
    "\n",
    "UDFs são especialmente úteis quando queremos criar faixas dinâmicas com base em estatísticas do próprio dataset, como os quantis (percentis) do score."
   ]
  },
  {
   "cell_type": "code",
   "execution_count": 75,
   "id": "1b38d4ca",
   "metadata": {},
   "outputs": [
    {
     "name": "stdout",
     "output_type": "stream",
     "text": [
      "Quantis: [0.01999548173668604, 0.05461328000715887, 0.08789542210164754, 0.1444450508413554]\n",
      "+-------------------+---------------+\n",
      "|              score|faixa_percentil|\n",
      "+-------------------+---------------+\n",
      "|0.06523585398772157|             Q3|\n",
      "|               0.01|             Q1|\n",
      "|0.08752255979032286|             Q3|\n",
      "| 0.0970282358195607|             Q4|\n",
      "|               0.01|             Q1|\n",
      "+-------------------+---------------+\n",
      "only showing top 5 rows\n",
      "\n"
     ]
    }
   ],
   "source": [
    "# Passo 1: Calcular quantis de score\n",
    "\n",
    "# Obter limites baseados nos percentis 20%, 40%, 60%, 80%\n",
    "quantis = spkdf.approxQuantile(\n",
    "    col=\"score\", \n",
    "    probabilities=[0.2, 0.4, 0.6, 0.8], \n",
    "    relativeError=0.01\n",
    ")\n",
    "print(\"Quantis:\", quantis)\n",
    "\n",
    "# Passo 2: Criar função UDF com base nos quantis\n",
    "\n",
    "limites = quantis  # lista com 4 valores\n",
    "\n",
    "@udf(returnType=StringType())\n",
    "def faixa_percentil(score):\n",
    "    if score <= limites[0]:\n",
    "        return \"Q1\"\n",
    "    elif score <= limites[1]:\n",
    "        return \"Q2\"\n",
    "    elif score <= limites[2]:\n",
    "        return \"Q3\"\n",
    "    elif score <= limites[3]:\n",
    "        return \"Q4\"\n",
    "    else:\n",
    "        return \"Q5\"\n",
    "\n",
    "# Passo 3: Aplicar ao DataFrame\n",
    "\n",
    "spkdf = spkdf.withColumn(\"faixa_percentil\", faixa_percentil(F.col(\"score\")))\n",
    "spkdf.select(\"score\", \"faixa_percentil\").show(5)\n"
   ]
  },
  {
   "cell_type": "markdown",
   "id": "77550a41",
   "metadata": {},
   "source": [
    "**Comparando com uma abordagem nativa**:\n",
    "\n",
    "Se você não precisa de quantis dinâmicos, muitas classificações podem ser feitas sem UDF. Essa abordagem é mais performática e permite que o Spark otimize o plano de execução.\n"
   ]
  },
  {
   "cell_type": "code",
   "execution_count": 76,
   "id": "4ff18095",
   "metadata": {},
   "outputs": [],
   "source": [
    "spkdf = spkdf.withColumn(\n",
    "    \"score_categoria\",\n",
    "    when(F.col(\"score\") < 0.2, \"baixo\")\n",
    "    .when(F.col(\"score\") < 0.5, \"médio\")\n",
    "    .otherwise(\"alto\")\n",
    ")"
   ]
  },
  {
   "cell_type": "markdown",
   "id": "091985bc",
   "metadata": {},
   "source": [
    "> 💡 **Dica:**\n",
    "> - **UDFs com múltiplos argumentos:**\n",
    "> Você também pode usar UDFs com mais de uma coluna:"
   ]
  },
  {
   "cell_type": "code",
   "execution_count": 77,
   "id": "96cb17e4",
   "metadata": {},
   "outputs": [
    {
     "name": "stdout",
     "output_type": "stream",
     "text": [
      "+--------+---+----+-----+-------------------+---+---------------+---------------+---------------+----------------+\n",
      "|   model|env|year|month|              score| vr|categoria_score|faixa_percentil|score_categoria|evento_relevante|\n",
      "+--------+---+----+-----+-------------------+---+---------------+---------------+---------------+----------------+\n",
      "|modelo_a|DEV|2023|    1|0.06523585398772157|  0|          baixo|             Q3|          baixo|           false|\n",
      "|modelo_a|DEV|2023|    1|               0.01|  0|          baixo|             Q1|          baixo|           false|\n",
      "|modelo_a|DEV|2023|    1|0.08752255979032286|  0|          baixo|             Q3|          baixo|           false|\n",
      "+--------+---+----+-----+-------------------+---+---------------+---------------+---------------+----------------+\n",
      "only showing top 3 rows\n",
      "\n"
     ]
    }
   ],
   "source": [
    "from pyspark.sql.types import BooleanType\n",
    "\n",
    "@udf(BooleanType())\n",
    "def is_evento_relevante(score, vr):\n",
    "    return score > 0.7 and vr == 1\n",
    "\n",
    "spkdf = spkdf.withColumn(\"evento_relevante\", is_evento_relevante(\"score\", \"vr\"))\n",
    "\n",
    "spkdf.show(3)"
   ]
  },
  {
   "cell_type": "code",
   "execution_count": 78,
   "id": "a28bf0ff",
   "metadata": {},
   "outputs": [
    {
     "name": "stdout",
     "output_type": "stream",
     "text": [
      "+---------------+-----+\n",
      "|faixa_percentil|count|\n",
      "+---------------+-----+\n",
      "|             Q1| 8266|\n",
      "|             Q2| 8382|\n",
      "|             Q3| 8307|\n",
      "|             Q4| 8354|\n",
      "|             Q5| 8691|\n",
      "+---------------+-----+\n",
      "\n"
     ]
    }
   ],
   "source": [
    "spkdf.groupBy(\"faixa_percentil\").count().orderBy(\"faixa_percentil\").show()"
   ]
  },
  {
   "cell_type": "markdown",
   "id": "a8057181",
   "metadata": {},
   "source": [
    "> 🧠 **Reflexão**: quando evitar UDFs?\n",
    ">> Use UDFs com moderação, especialmente em grandes volumes de dados. Prefira:\n",
    ">> * when, otherwise\n",
    ">> * F.bucketizer ou F.quantileDiscretizer\n",
    ">> * F.expr() com lógica SQL\n",
    ">> * F.transform() e funções de arrays\n"
   ]
  },
  {
   "cell_type": "markdown",
   "id": "4297e2ad",
   "metadata": {},
   "source": [
    "### 6.3. Substituindo UDFs por Funções Nativas em PySpark\n",
    "\n",
    "Evitar UDFs sempre que possível ajuda a:\n",
    "*\tMelhorar a performance (UDFs não são otimizadas pelo Catalyst).\n",
    "*\tManter compatibilidade com a API SQL do Spark.\n",
    "*\tReduzir erros relacionados à serialização ou tipos de dados.\n",
    "\n",
    "**Exemplo 01:** Objetivo: classificar scores em “baixo”, “médio”, “alto”."
   ]
  },
  {
   "cell_type": "code",
   "execution_count": 79,
   "id": "48690278",
   "metadata": {},
   "outputs": [
    {
     "name": "stdout",
     "output_type": "stream",
     "text": [
      "UDF: 0.032 s\n",
      "Native: 0.008 s\n"
     ]
    }
   ],
   "source": [
    "# Com UDF:\n",
    "import time\n",
    "@udf(StringType())\n",
    "def categoria(score):\n",
    "    if score < 0.2:\n",
    "        return \"baixo\"\n",
    "    elif score < 0.5:\n",
    "        return \"médio\"\n",
    "    else:\n",
    "        return \"alto\"\n",
    "\n",
    "start = time.time()\n",
    "spkdf_udf = spkdf.withColumn(\"cat_udf\", categoria(\"score\"))\n",
    "print(\"UDF:\", round(time.time() - start, 3), \"s\")\n",
    "\n",
    "# Com when/otherwise:\n",
    "\n",
    "start = time.time()\n",
    "spkdf_native = spkdf.withColumn(\n",
    "    \"cat_native\",\n",
    "    when(F.col(\"score\") < 0.2, \"baixo\")\n",
    "    .when(F.col(\"score\") < 0.5, \"médio\")\n",
    "    .otherwise(\"alto\")\n",
    ")\n",
    "print(\"Native:\", round(time.time() - start, 3), \"s\")\n",
    "\n"
   ]
  },
  {
   "cell_type": "code",
   "execution_count": 80,
   "id": "f9ef930b",
   "metadata": {},
   "outputs": [
    {
     "name": "stdout",
     "output_type": "stream",
     "text": [
      "Bucketizer: 0.143 s\n"
     ]
    }
   ],
   "source": [
    "# Substituindo UDF com Bucketizer\n",
    "from pyspark.ml.feature import Bucketizer\n",
    "\n",
    "splits = [0.0, 0.2, 0.5, 1.0]  # define os limites\n",
    "bucketizer = Bucketizer(splits=splits, inputCol=\"score\", outputCol=\"bucket_id\")\n",
    "\n",
    "start = time.time()\n",
    "spkdf_bucket = bucketizer.transform(spkdf)\n",
    "print(\"Bucketizer:\", round(time.time() - start, 3), \"s\")\n",
    "\n",
    "# Mapear o id para nomes de categoria\n",
    "bucket_labels = {0.0: \"baixo\", 1.0: \"médio\", 2.0: \"alto\"}\n",
    "spkdf_bucket = spkdf_bucket.withColumn(\n",
    "    \"cat_bucket\",\n",
    "    F.when(F.col(\"bucket_id\") == 0.0, \"baixo\")\n",
    "    .when(F.col(\"bucket_id\") == 1.0, \"médio\")\n",
    "    .otherwise(\"alto\")\n",
    ")"
   ]
  },
  {
   "cell_type": "code",
   "execution_count": 81,
   "id": "4932efab",
   "metadata": {},
   "outputs": [
    {
     "name": "stdout",
     "output_type": "stream",
     "text": [
      "QuantileDiscretizer: 0.241 s\n"
     ]
    }
   ],
   "source": [
    "# Substituindo UDF com QuantileDiscretizer\n",
    "\n",
    "from pyspark.ml.feature import QuantileDiscretizer\n",
    "\n",
    "quant_disc = QuantileDiscretizer(\n",
    "    numBuckets=5, inputCol=\"score\", outputCol=\"faixa_score\", relativeError=0.01\n",
    ")\n",
    "\n",
    "start = time.time()\n",
    "spkdf_qdisc = quant_disc.fit(spkdf).transform(spkdf)\n",
    "print(\"QuantileDiscretizer:\", round(time.time() - start, 3), \"s\")"
   ]
  },
  {
   "cell_type": "code",
   "execution_count": 82,
   "id": "bba609ba",
   "metadata": {},
   "outputs": [
    {
     "name": "stdout",
     "output_type": "stream",
     "text": [
      "Expr: 0.099 s\n"
     ]
    }
   ],
   "source": [
    "# Substituindo UDF com expr (expressão SQL)\n",
    "\n",
    "# Objetivo: aplicar uma regra condicional complexa usando SQL:\n",
    "\n",
    "start = time.time()\n",
    "spkdf_expr = spkdf.withColumn(\n",
    "    \"cat_expr\",\n",
    "    F.expr(\"\"\"\n",
    "        CASE\n",
    "            WHEN score < 0.2 THEN 'baixo'\n",
    "            WHEN score < 0.5 THEN 'médio'\n",
    "            ELSE 'alto'\n",
    "        END\n",
    "    \"\"\")\n",
    ")\n",
    "print(\"Expr:\", round(time.time() - start, 3), \"s\")\n"
   ]
  },
  {
   "cell_type": "code",
   "execution_count": 83,
   "id": "9b73d593",
   "metadata": {},
   "outputs": [
    {
     "name": "stdout",
     "output_type": "stream",
     "text": [
      "+------------------------------------------+------------------+\n",
      "|score_array                               |score_array_scaled|\n",
      "+------------------------------------------+------------------+\n",
      "|[0.06523585398772157, 0.06523585398772157]|[6.52, 6.52]      |\n",
      "|[0.01, 0.01]                              |[1.0, 1.0]        |\n",
      "|[0.08752255979032286, 0.08752255979032286]|[8.75, 8.75]      |\n",
      "|[0.0970282358195607, 0.0970282358195607]  |[9.7, 9.7]        |\n",
      "|[0.01, 0.01]                              |[1.0, 1.0]        |\n",
      "+------------------------------------------+------------------+\n",
      "only showing top 5 rows\n",
      "\n"
     ]
    }
   ],
   "source": [
    "# Usando transform() e arrays para aplicar lógica a listas\n",
    "\n",
    "# Objetivo: aplicar lógica condicional sobre arrays (útil em processamento vetorial ou cenários multilabel/multiclasse).\n",
    "\n",
    "\n",
    "# Exemplo: score fictício por semana\n",
    "df_array = spkdf.withColumn(\"score_array\", F.array(\"score\", \"score\"))\n",
    "\n",
    "# Aplicar transformação no array (ex: normalizar valores)\n",
    "df_array = df_array.withColumn(\n",
    "    \"score_array_scaled\",\n",
    "    F.expr(\"transform(score_array, x -> round(x * 100, 2))\")\n",
    ")\n",
    "\n",
    "df_array.select(\"score_array\", \"score_array_scaled\").show(5, truncate=False)\n"
   ]
  },
  {
   "cell_type": "markdown",
   "id": "d9a54c85",
   "metadata": {},
   "source": [
    "---"
   ]
  },
  {
   "cell_type": "markdown",
   "id": "cc8d2b19",
   "metadata": {},
   "source": [
    "# 7. Estudos de Caso\n",
    "\n",
    "**Exemplo 01** - Analisar o comportamento de modelos ao longo do tempo e entre ambientes é essencial para identificar problemas de desempenho, estabilidade e descalibração.\n",
    "\n",
    "\n",
    "**Objetivo**\n",
    "*\tCriar faixas de score.\n",
    "*\tCalcular a proporção de eventos por faixa.\n",
    "*\tComparar a distribuição entre ambientes (DEV, OOT, PRD).\n",
    "*\tIdentificar sinais de descalibração ou deriva nos modelos.\n",
    "\n"
   ]
  },
  {
   "cell_type": "code",
   "execution_count": 84,
   "id": "5e81b6f3",
   "metadata": {},
   "outputs": [
    {
     "name": "stdout",
     "output_type": "stream",
     "text": [
      "+--------+---+----+-----+-------------------+---+---------------+---------------+---------------+----------------+-----------+\n",
      "|   model|env|year|month|              score| vr|categoria_score|faixa_percentil|score_categoria|evento_relevante|faixa_score|\n",
      "+--------+---+----+-----+-------------------+---+---------------+---------------+---------------+----------------+-----------+\n",
      "|modelo_a|DEV|2023|    1|0.06523585398772157|  0|          baixo|             Q3|          baixo|           false|        2.0|\n",
      "|modelo_a|DEV|2023|    1|               0.01|  0|          baixo|             Q1|          baixo|           false|        0.0|\n",
      "|modelo_a|DEV|2023|    1|0.08752255979032286|  0|          baixo|             Q3|          baixo|           false|        2.0|\n",
      "|modelo_a|DEV|2023|    1| 0.0970282358195607|  0|          baixo|             Q4|          baixo|           false|        3.0|\n",
      "|modelo_a|DEV|2023|    1|               0.01|  0|          baixo|             Q1|          baixo|           false|        0.0|\n",
      "+--------+---+----+-----+-------------------+---+---------------+---------------+---------------+----------------+-----------+\n",
      "only showing top 5 rows\n",
      "\n"
     ]
    }
   ],
   "source": [
    "spkdf_qdisc.show(5)"
   ]
  },
  {
   "cell_type": "code",
   "execution_count": 85,
   "id": "edd4da77",
   "metadata": {},
   "outputs": [
    {
     "name": "stdout",
     "output_type": "stream",
     "text": [
      "+--------+---+-----------+-----+-------+-----------------+\n",
      "|model   |env|faixa_label|total|eventos|proporcao_eventos|\n",
      "+--------+---+-----------+-----+-------+-----------------+\n",
      "|modelo_a|DEV|P1 (baixo) |1623 |19     |1.17             |\n",
      "|modelo_a|DEV|P2         |1625 |64     |3.94             |\n",
      "|modelo_a|DEV|P3         |1422 |98     |6.89             |\n",
      "|modelo_a|DEV|P4         |1156 |132    |11.42            |\n",
      "|modelo_a|DEV|P5 (alto)  |174  |36     |20.69            |\n",
      "|modelo_a|OOT|P1 (baixo) |791  |12     |1.52             |\n",
      "|modelo_a|OOT|P2         |825  |42     |5.09             |\n",
      "|modelo_a|OOT|P3         |717  |60     |8.37             |\n",
      "|modelo_a|OOT|P4         |566  |69     |12.19            |\n",
      "|modelo_a|OOT|P5 (alto)  |101  |22     |21.78            |\n",
      "|modelo_a|PRD|P1 (baixo) |3284 |48     |1.46             |\n",
      "|modelo_a|PRD|P2         |3135 |115    |3.67             |\n",
      "|modelo_a|PRD|P3         |2844 |212    |7.45             |\n",
      "|modelo_a|PRD|P4         |2358 |235    |9.97             |\n",
      "|modelo_a|PRD|P5 (alto)  |379  |64     |16.89            |\n",
      "|modelo_b|DEV|P1 (baixo) |1662 |18     |1.08             |\n",
      "|modelo_b|DEV|P2         |1522 |52     |3.42             |\n",
      "|modelo_b|DEV|P3         |1509 |100    |6.63             |\n",
      "|modelo_b|DEV|P4         |1141 |121    |10.6             |\n",
      "|modelo_b|DEV|P5 (alto)  |166  |19     |11.45            |\n",
      "+--------+---+-----------+-----+-------+-----------------+\n",
      "only showing top 20 rows\n",
      "\n"
     ]
    }
   ],
   "source": [
    "# 1️⃣ Criar faixas de score com QuantileDiscretizer\n",
    "\n",
    "qdisc = QuantileDiscretizer(\n",
    "    numBuckets=5,\n",
    "    inputCol=\"score\",\n",
    "    outputCol=\"faixa_score\",\n",
    "    relativeError=0.01\n",
    ")\n",
    "\n",
    "spkdf_qdisc = qdisc.fit(spkdf).transform(spkdf)\n",
    "\n",
    "# Opcional: mapear ids para rótulos legíveis\n",
    "faixa_labels = {0.0: 'P1 (mais baixo)', 1.0: 'P2', 2.0: 'P3', 3.0: 'P4', 4.0: 'P5 (mais alto)'}\n",
    "\n",
    "spkdf_qdisc = spkdf_qdisc.withColumn(\n",
    "    \"faixa_label\",\n",
    "    when(F.col(\"faixa_score\") == 0.0, \"P1 (baixo)\")\n",
    "    .when(F.col(\"faixa_score\") == 1.0, \"P2\")\n",
    "    .when(F.col(\"faixa_score\") == 2.0, \"P3\")\n",
    "    .when(F.col(\"faixa_score\") == 3.0, \"P4\")\n",
    "    .otherwise(\"P5 (alto)\")\n",
    ")\n",
    "\n",
    "\n",
    "# 2️⃣ Calcular a proporção de eventos por faixa e ambiente\n",
    "\n",
    "agg = spkdf_qdisc.groupBy(\"model\", \"env\", \"faixa_label\").agg(\n",
    "    F.count(\"*\").alias(\"total\"),\n",
    "    F.sum(\"vr\").alias(\"eventos\")\n",
    ").withColumn(\n",
    "    \"proporcao_eventos\", F.round(F.col(\"eventos\") / F.col(\"total\") * 100, 2)\n",
    ")\n",
    "\n",
    "agg.orderBy(\"model\", \"env\", \"faixa_label\").show(truncate=False)\n",
    "\n"
   ]
  },
  {
   "cell_type": "code",
   "execution_count": 86,
   "id": "94a21774",
   "metadata": {},
   "outputs": [],
   "source": [
    "# 3️⃣ Comparação entre ambientes (DEV vs PRD)\n",
    "# 4️⃣ Visualização com seaborn e matplotlib\n",
    "\n",
    "# Filtrar apenas os dois ambientes para comparação:\n",
    "\n",
    "\n",
    "df_plot = agg.filter(F.col(\"env\").isin(\"DEV\", \"PRD\")).toPandas()"
   ]
  },
  {
   "cell_type": "code",
   "execution_count": 87,
   "id": "9a3853b1",
   "metadata": {},
   "outputs": [
    {
     "data": {
      "image/png": "[encoded data removed]",
      "text/plain": [
       "<Figure size 600x400 with 1 Axes>"
      ]
     },
     "metadata": {},
     "output_type": "display_data"
    }
   ],
   "source": [
    "\n",
    "fig, ax = plt.subplots(1, 1, figsize=(6, 4))\n",
    "sns.barplot(\n",
    "    data=df_plot,\n",
    "    x=\"faixa_label\",\n",
    "    y=\"proporcao_eventos\",\n",
    "    hue=\"env\"\n",
    ")\n",
    "plt.title(\"Proporção de eventos por faixa de score (DEV vs PRD)\")\n",
    "plt.ylabel(\"Proporção de eventos (%)\")\n",
    "plt.xlabel(\"Faixa de score\")\n",
    "plt.legend(title=\"Ambiente\")\n",
    "# Ajustando a estética\n",
    "ax.spines['right'].set_visible(False)\n",
    "ax.spines['top'].set_visible(False)\n",
    "ax.yaxis.grid(True, linestyle='-', linewidth=0.2)\n",
    "ax.xaxis.grid(True, linestyle='-', linewidth=0.2)\n",
    "plt.tight_layout()\n",
    "plt.show()"
   ]
  },
  {
   "cell_type": "markdown",
   "id": "9df3f587",
   "metadata": {},
   "source": [
    "🔍 Interpretação\n",
    "\n",
    "Esse tipo de gráfico é útil para:\n",
    "\n",
    "*\tAvaliar mudanças na taxa de eventos por faixa de score entre ambientes.\n",
    "*\tDetectar deriva nos dados ou na pontuação do modelo:\n",
    "*\tSe a proporção de eventos em faixas altas aumentar muito no PRD, pode ser sinal de descalibração.\n",
    "*\tDiferenças entre DEV e PRD indicam instabilidade do modelo ou mudança no perfil dos dados.\n"
   ]
  },
  {
   "cell_type": "markdown",
   "id": "16b303a7",
   "metadata": {},
   "source": [
    "**Exemplo 02** - Estudo com Faixas Fixas baseadas no Ambiente DEV.\n",
    "\n",
    "Agora vamos construir um estudo onde:\n",
    "\n",
    "*\tUsamos todo o ambiente DEV como referência estática.\n",
    "*\tDefinimos quintis fixos (5 faixas de score) com base nos percentis do DEV.\n",
    "*\tEstimamos a proporção de eventos por faixa em cada mês fora de DEV (OOT e PRD).\n",
    "*\tEssa abordagem é ideal para estabilidade de características e monitoramento de performance fora da amostra.\n",
    "\n"
   ]
  },
  {
   "cell_type": "code",
   "execution_count": 88,
   "id": "57884de8",
   "metadata": {},
   "outputs": [
    {
     "name": "stdout",
     "output_type": "stream",
     "text": [
      "Faixas de score (com base no DEV): [0.01, 0.03757883960144834, 0.062458525064408986, 0.0912856820712655]\n",
      "+--------+---+----+-----+-------------+-----+-------+-----------------+\n",
      "|   model|env|year|month|faixa_dev_ref|total|eventos|proporcao_eventos|\n",
      "+--------+---+----+-----+-------------+-----+-------+-----------------+\n",
      "|modelo_a|OOT|2023|    8|            2|  186|      5|             2.69|\n",
      "|modelo_a|DEV|2023|    6|            5|  199|     20|            10.05|\n",
      "|modelo_a|DEV|2023|    6|            1|  214|      3|              1.4|\n",
      "|modelo_a|DEV|2023|    6|            2|  202|      4|             1.98|\n",
      "|modelo_a|PRD|2024|    2|            4|  202|     18|             8.91|\n",
      "+--------+---+----+-----+-------------+-----+-------+-----------------+\n",
      "only showing top 5 rows\n",
      "\n"
     ]
    }
   ],
   "source": [
    "# 1️⃣ Calcular os percentis do score no ambiente DEV\n",
    "\n",
    "\n",
    "# Coletar percentis (5 faixas = 0.2, 0.4, 0.6, 0.8)\n",
    "percentis = spkdf.filter(F.col(\"env\") == \"DEV\").approxQuantile(\"score\", [0.2, 0.4, 0.6, 0.8], 0.001)\n",
    "print(\"Faixas de score (com base no DEV):\", percentis)\n",
    "\n",
    "\n",
    "# 2️⃣ Criar as faixas com base nesses percentis\n",
    "# Desempacotar os valores\n",
    "p1, p2, p3, p4 = percentis\n",
    "\n",
    "# Aplicar regras com .when()\n",
    "spkdf_faixas = spkdf.withColumn(\n",
    "    \"faixa_dev_ref\",\n",
    "    when(F.col(\"score\") <= p1, 1)\n",
    "    .when(F.col(\"score\") <= p2, 2)\n",
    "    .when(F.col(\"score\") <= p3, 3)\n",
    "    .when(F.col(\"score\") <= p4, 4)\n",
    "    .otherwise(5)\n",
    ")\n",
    "\n",
    "\n",
    "# 3️⃣ Calcular a proporção de eventos por faixa e mês fora do DEV\n",
    "\n",
    "# Agrupar por faixa + mês\n",
    "agg_fixas = spkdf_faixas\\\n",
    "    .groupBy(\n",
    "    \"model\", \"env\", \"year\", \"month\", \"faixa_dev_ref\"\n",
    ").agg(\n",
    "    F.count(\"*\").alias(\"total\"),\n",
    "    F.sum(\"vr\").alias(\"eventos\")\n",
    ").withColumn(\n",
    "    \"proporcao_eventos\", F.round(F.col(\"eventos\") / F.col(\"total\") * 100, 2)\n",
    ")\n",
    "agg_fixas.show(5)"
   ]
  },
  {
   "cell_type": "code",
   "execution_count": 89,
   "id": "da55c23c",
   "metadata": {},
   "outputs": [
    {
     "data": {
      "image/png": "[encoded data removed]",
      "text/plain": [
       "<Figure size 600x400 with 1 Axes>"
      ]
     },
     "metadata": {},
     "output_type": "display_data"
    }
   ],
   "source": [
    "# 4️⃣ Visualizar com gráfico de linhas multiplas\n",
    "# Vamos focar no modelo_a com faixas fixas:\n",
    "\n",
    "# converter para Pandas para visualização\n",
    "df_fixas_plot = agg_fixas.filter(\n",
    "    (F.col(\"model\") == \"modelo_a\")\n",
    ").orderBy(\"year\", \"month\", \"faixa_dev_ref\").toPandas()\n",
    "\n",
    "# Criar coluna de data\n",
    "df_fixas_plot[\"periodo\"] = pd.to_datetime(df_fixas_plot[\"year\"].astype(str) + \"-\" + df_fixas_plot[\"month\"].astype(str))\n",
    "end_dev = df_fixas_plot.query(\"env=='DEV'\")[\"periodo\"].max()\n",
    "end_prd = df_fixas_plot.query(\"env=='PRD'\")[\"periodo\"].max()\n",
    "end_oot  = df_fixas_plot.query(\"env=='OOT'\")[\"periodo\"].max()\n",
    "fig, ax = plt.subplots(figsize=(6, 4))\n",
    "sns.lineplot(\n",
    "    data=df_fixas_plot,\n",
    "    x=\"periodo\",\n",
    "    y=\"proporcao_eventos\",\n",
    "    hue=\"faixa_dev_ref\",\n",
    "    palette=\"Set2\",\n",
    "    ax=ax,\n",
    ")\n",
    "# Adicionando as linhas verticais\n",
    "ax.axvline(x=end_dev, color='black', linestyle='--', linewidth=1)\n",
    "ax.axvline(x=end_prd, color='black', linestyle='--', linewidth=1)\n",
    "ax.axvline(x=end_oot, color='black', linestyle='--', linewidth=1)\n",
    "ax.set_title(\"Desvio de Referência por Faixa de Desvio\")\n",
    "ax.set_xlabel(\"Período\")\n",
    "ax.set_ylabel(\"Desvio de Referência\")\n",
    "# Ajustando a estética\n",
    "ax.spines['right'].set_visible(False)\n",
    "ax.spines['top'].set_visible(False)\n",
    "ax.yaxis.grid(True, linestyle='-', linewidth=0.2)\n",
    "ax.xaxis.grid(True, linestyle='-', linewidth=0.2)\n",
    "\n",
    "plt.tight_layout()\n",
    "plt.show()\n"
   ]
  },
  {
   "cell_type": "code",
   "execution_count": 90,
   "id": "19e810bd",
   "metadata": {},
   "outputs": [
    {
     "data": {
      "image/png": "[encoded data removed]",
      "text/plain": [
       "<Figure size 600x400 with 1 Axes>"
      ]
     },
     "metadata": {},
     "output_type": "display_data"
    }
   ],
   "source": [
    "# 4️⃣ Visualizar com gráfico de linhas multiplas\n",
    "# Vamos focar no modelo_b com faixas fixas:\n",
    "\n",
    "# converter para Pandas para visualização\n",
    "df_fixas_plot = agg_fixas.filter(\n",
    "    (F.col(\"model\") == \"modelo_b\")\n",
    ").orderBy(\"year\", \"month\", \"faixa_dev_ref\").toPandas()\n",
    "\n",
    "# Criar coluna de data\n",
    "df_fixas_plot[\"periodo\"] = pd.to_datetime(df_fixas_plot[\"year\"].astype(str) + \"-\" + df_fixas_plot[\"month\"].astype(str))\n",
    "end_dev = df_fixas_plot.query(\"env=='DEV'\")[\"periodo\"].max()\n",
    "end_prd = df_fixas_plot.query(\"env=='PRD'\")[\"periodo\"].max()\n",
    "end_oot  = df_fixas_plot.query(\"env=='OOT'\")[\"periodo\"].max()\n",
    "fig, ax = plt.subplots(figsize=(6, 4))\n",
    "sns.lineplot(\n",
    "    data=df_fixas_plot,\n",
    "    x=\"periodo\",\n",
    "    y=\"proporcao_eventos\",\n",
    "    hue=\"faixa_dev_ref\",\n",
    "    palette=\"Set2\",\n",
    "    ax=ax,\n",
    ")\n",
    "# Adicionando as linhas verticais\n",
    "ax.axvline(x=end_dev, color='black', linestyle='--', linewidth=1)\n",
    "ax.axvline(x=end_prd, color='black', linestyle='--', linewidth=1)\n",
    "ax.axvline(x=end_oot, color='black', linestyle='--', linewidth=1)\n",
    "ax.set_title(\"Desvio de Referência por Faixa de Desvio\")\n",
    "ax.set_xlabel(\"Período\")\n",
    "ax.set_ylabel(\"Desvio de Referência\")\n",
    "# Ajustando a estética\n",
    "ax.spines['right'].set_visible(False)\n",
    "ax.spines['top'].set_visible(False)\n",
    "ax.yaxis.grid(True, linestyle='-', linewidth=0.2)\n",
    "ax.xaxis.grid(True, linestyle='-', linewidth=0.2)\n",
    "\n",
    "plt.tight_layout()\n",
    "plt.show()\n"
   ]
  },
  {
   "cell_type": "markdown",
   "id": "a9d09bf9",
   "metadata": {},
   "source": [
    "🔍 Interpretação\n",
    "\n",
    "*\tEssa abordagem permite ver se as mesmas faixas de score (definidas no DEV) mantêm a mesma taxa de eventos ao longo do tempo.\n",
    "*\tSe a faixa 5 (alta probabilidade de evento) começa a ter menos eventos, pode ser um sinal de descalibração ou mudança no perfil dos dados.\n",
    "\n"
   ]
  },
  {
   "cell_type": "markdown",
   "id": "146dbcef",
   "metadata": {},
   "source": [
    "---"
   ]
  },
  {
   "cell_type": "markdown",
   "id": "5c8675d5",
   "metadata": {},
   "source": [
    "## 8. Exemplo Aplicado\n",
    "\n",
    "### 8.1. Cálculo do PSI (Population Stability Index)\n",
    "\n",
    "\n",
    "**O que é o PSI?**\n",
    "\n",
    "O Population Stability Index (PSI) é uma métrica usada para medir mudanças na distribuição de uma variável entre dois conjuntos de dados — tipicamente entre:\n",
    "\n",
    "*\tTreinamento (ex: ambiente DEV).\n",
    "*\tProdução (PRD) ou fora da amostra (OOT).\n",
    "\n",
    "Se a distribuição muda significativamente, o modelo pode estar descalibrado ou não generalizando bem.\n",
    "\n",
    "\n",
    "**Fórmula do PSI**\n",
    "\n",
    "Para cada faixa de score:\n",
    "\n",
    "$$PSI_i = (p_i - q_i) \\cdot \\ln \\left(\\frac{p_i}{q_i} \\right)$$\n",
    "\n",
    "*\t$p_i$: proporção na referência (ex: DEV).\n",
    "*\t$q_i$: proporção no conjunto atual (ex: PRD).\n",
    "*\t$PSI$ final: soma de todos os $PSI_i$.\n",
    "\n",
    "\n",
    "Etapas para o cálculo no PySpark:\n"
   ]
  },
  {
   "cell_type": "code",
   "execution_count": 91,
   "id": "b61484d9",
   "metadata": {},
   "outputs": [
    {
     "name": "stderr",
     "output_type": "stream",
     "text": [
      "                                                                                \r"
     ]
    },
    {
     "name": "stdout",
     "output_type": "stream",
     "text": [
      "+--------+----+-----+---------+\n",
      "|model   |year|month|psi_total|\n",
      "+--------+----+-----+---------+\n",
      "|modelo_a|2023|7    |0.0082   |\n",
      "|modelo_a|2023|8    |0.0025   |\n",
      "|modelo_a|2023|9    |0.0026   |\n",
      "|modelo_a|2024|1    |0.0019   |\n",
      "|modelo_a|2024|2    |0.0042   |\n",
      "|modelo_a|2024|3    |0.0017   |\n",
      "|modelo_a|2024|4    |0.0022   |\n",
      "|modelo_a|2024|5    |0.0053   |\n",
      "|modelo_a|2024|6    |0.0046   |\n",
      "|modelo_a|2024|7    |0.0053   |\n",
      "|modelo_a|2024|8    |0.0088   |\n",
      "|modelo_a|2024|9    |3.0E-4   |\n",
      "|modelo_a|2024|10   |0.0067   |\n",
      "|modelo_a|2024|11   |0.0065   |\n",
      "|modelo_a|2024|12   |0.0028   |\n",
      "|modelo_b|2023|7    |0.0504   |\n",
      "|modelo_b|2023|8    |0.0531   |\n",
      "|modelo_b|2023|9    |0.0658   |\n",
      "|modelo_b|2024|1    |0.1138   |\n",
      "|modelo_b|2024|2    |0.5564   |\n",
      "+--------+----+-----+---------+\n",
      "only showing top 20 rows\n",
      "\n"
     ]
    }
   ],
   "source": [
    "from pyspark.sql import functions as F\n",
    "from pyspark.sql import Window\n",
    "from pyspark.sql.functions import when\n",
    "\n",
    "# 📌 Número de faixas desejadas\n",
    "n_faixas_score = 5\n",
    "\n",
    "# 1️⃣ Gerar pontos de corte com base nos percentis do DEV\n",
    "# Exemplo: [0.2, 0.4, 0.6, 0.8] se n_faixas_score = 5\n",
    "quantiles = [i / n_faixas_score for i in range(1, n_faixas_score)]\n",
    "cuts = spkdf.filter(F.col(\"env\") == \"DEV\").approxQuantile(\"score\", quantiles, 0.001)\n",
    "\n",
    "# 2️⃣ Criar coluna de faixa de score dinamicamente\n",
    "cond = when(F.col(\"score\") <= cuts[0], 1)\n",
    "for i in range(1, len(cuts)):\n",
    "    cond = cond.when((F.col(\"score\") > cuts[i - 1]) & (F.col(\"score\") <= cuts[i]), i + 1)\n",
    "cond = cond.otherwise(n_faixas_score)\n",
    "\n",
    "spkdf = spkdf.withColumn(\"faixa_score\", cond)\n",
    "\n",
    "# 3️⃣ Distribuição em DEV (referência)\n",
    "base_ref = (\n",
    "    spkdf.filter(F.col(\"env\") == \"DEV\")\n",
    "    .groupBy(\"model\", \"faixa_score\")\n",
    "    .agg(F.count(\"*\").alias(\"total_dev\"))\n",
    ")\n",
    "\n",
    "total_dev = (\n",
    "    spkdf.filter(F.col(\"env\") == \"DEV\")\n",
    "    .groupBy(\"model\")\n",
    "    .agg(F.count(\"*\").alias(\"total_dev_model\"))\n",
    ")\n",
    "\n",
    "# 4️⃣ Distribuição mensal fora do DEV\n",
    "base_cmp = (\n",
    "    spkdf.filter(F.col(\"env\") != \"DEV\")\n",
    "    .groupBy(\"model\", \"year\", \"month\", \"faixa_score\")\n",
    "    .agg(F.count(\"*\").alias(\"total_mes\"))\n",
    ")\n",
    "\n",
    "total_mes = (\n",
    "    spkdf.filter(F.col(\"env\") != \"DEV\")\n",
    "    .groupBy(\"model\", \"year\", \"month\")\n",
    "    .agg(F.count(\"*\").alias(\"total_mes_model\"))\n",
    ")\n",
    "\n",
    "# 5️⃣ Juntar tudo\n",
    "psi_df = (\n",
    "    base_cmp\n",
    "    .join(base_ref, on=[\"model\", \"faixa_score\"], how=\"left\")\n",
    "    .join(total_dev, on=\"model\", how=\"left\")\n",
    "    .join(total_mes, on=[\"model\", \"year\", \"month\"], how=\"left\")\n",
    "    .fillna(0)\n",
    ")\n",
    "\n",
    "# 6️⃣ Calcular proporções e evitar divisão por zero\n",
    "psi_df = psi_df.withColumn(\"p_dev\", F.col(\"total_dev\") / F.col(\"total_dev_model\"))\n",
    "psi_df = psi_df.withColumn(\"p_mes\", F.col(\"total_mes\") / F.col(\"total_mes_model\"))\n",
    "psi_df = psi_df.withColumn(\"p_dev\", F.when(F.col(\"p_dev\") == 0, 1e-6).otherwise(F.col(\"p_dev\")))\n",
    "psi_df = psi_df.withColumn(\"p_mes\", F.when(F.col(\"p_mes\") == 0, 1e-6).otherwise(F.col(\"p_mes\")))\n",
    "\n",
    "# 7️⃣ Calcular PSI\n",
    "psi_df = psi_df.withColumn(\n",
    "    \"psi_faixa\",\n",
    "    (F.col(\"p_mes\") - F.col(\"p_dev\")) * F.log(F.col(\"p_mes\") / F.col(\"p_dev\"))\n",
    ")\n",
    "\n",
    "# 8️⃣ Agrupar PSI por mês\n",
    "psi_mensal = (\n",
    "    psi_df.groupBy(\"model\", \"year\", \"month\")\n",
    "    .agg(F.round(F.sum(\"psi_faixa\"), 4).alias(\"psi_total\"))\n",
    "    .orderBy(\"model\", \"year\", \"month\")\n",
    ")\n",
    "\n",
    "psi_mensal.show(truncate=False)"
   ]
  },
  {
   "cell_type": "code",
   "execution_count": 92,
   "id": "62e59d70",
   "metadata": {},
   "outputs": [
    {
     "name": "stderr",
     "output_type": "stream",
     "text": [
      "                                                                                \r"
     ]
    },
    {
     "name": "stdout",
     "output_type": "stream",
     "text": [
      "+--------+----+-----+---------+----------+\n",
      "|   model|year|month|psi_total|   periodo|\n",
      "+--------+----+-----+---------+----------+\n",
      "|modelo_a|2023|    7|   0.0082|2023-07-01|\n",
      "|modelo_a|2023|    8|   0.0025|2023-08-01|\n",
      "|modelo_a|2023|    9|   0.0026|2023-09-01|\n",
      "|modelo_a|2024|    1|   0.0019|2024-01-01|\n",
      "|modelo_a|2024|    2|   0.0042|2024-02-01|\n",
      "|modelo_a|2024|    3|   0.0017|2024-03-01|\n",
      "|modelo_a|2024|    4|   0.0022|2024-04-01|\n",
      "|modelo_a|2024|    5|   0.0053|2024-05-01|\n",
      "|modelo_a|2024|    6|   0.0046|2024-06-01|\n",
      "|modelo_a|2024|    7|   0.0053|2024-07-01|\n",
      "+--------+----+-----+---------+----------+\n",
      "\n"
     ]
    }
   ],
   "source": [
    "psi_mensal = psi_mensal.withColumn(\n",
    "    \"periodo\",\n",
    "    to_date(concat_ws(\"-\", \n",
    "                    col(\"year\").cast(\"string\"), \n",
    "                    lpad(col(\"month\").cast(\"string\"), 2, \"0\")), \n",
    "            \"yyyy-MM\")\n",
    ")\n",
    "psi_mensal.limit(10).show()"
   ]
  },
  {
   "cell_type": "code",
   "execution_count": 93,
   "id": "40e519d9",
   "metadata": {},
   "outputs": [
    {
     "data": {
      "image/png": "[encoded data removed]",
      "text/plain": [
       "<Figure size 600x400 with 1 Axes>"
      ]
     },
     "metadata": {},
     "output_type": "display_data"
    }
   ],
   "source": [
    "fig, ax = plt.subplots(figsize=(6, 4))\n",
    "sns.lineplot(\n",
    "    data=psi_mensal.toPandas(),\n",
    "    x=\"periodo\",\n",
    "    y=\"psi_total\",\n",
    "    hue=\"model\",\n",
    "    palette=\"Dark2\",\n",
    "    ax=ax,\n",
    ")\n",
    "# Adicionando as linhas verticais\n",
    "ax.axhline(y=0.1, color='orange', linestyle='-.', linewidth=0.7)\n",
    "ax.axhline(y=0.25, color='red', linestyle='-.', linewidth=0.7)\n",
    "ax.set_title(\"Population Stability Index (PSI)\")\n",
    "ax.set_xlabel(\"Período\")\n",
    "ax.set_ylabel(\"psi\")\n",
    "# Ajustando a estética\n",
    "ax.spines['right'].set_visible(False)\n",
    "ax.spines['top'].set_visible(False)\n",
    "ax.yaxis.grid(True, linestyle='-', linewidth=0.2)\n",
    "ax.xaxis.grid(True, linestyle='-', linewidth=0.2)\n",
    "\n",
    "ax.tick_params(axis='x', rotation=45)\n",
    "plt.tight_layout()\n",
    "plt.show()\n"
   ]
  },
  {
   "cell_type": "markdown",
   "id": "2ce9293a",
   "metadata": {},
   "source": [
    "**Interpretação dos valores**\n",
    "\n",
    "PSI\tInterpretação\n",
    "*\t< 0.1\tEstável\n",
    "*\t0.1 – 0.25\tPequena mudança\n",
    "*\t\\> 0.25\tMudança significativa\n",
    "\n",
    "\n",
    "\n",
    "**Comentários sobre performance e escalabilidade**\n",
    "\n",
    "* PySpark permite escalar o PSI para bilhões de registros, com uso eficiente de .groupBy(), .agg() e joins.\n",
    "* Evite collect() ou .toPandas() para cálculos pesados — apenas na visualização.\n",
    "* UDFs não são necessárias para o cálculo do PSI — use funções nativas sempre que possível.\n",
    "* A definição das faixas é um ponto crítico. Você pode testar:\n",
    "* Faixas fixas com percentis (approxQuantile)\n",
    "* Faixas customizadas (Bucketizer, QuantileDiscretizer)\n",
    "* Faixas dinâmicas com ntile (menos recomendado para PSI)\n",
    "\n"
   ]
  },
  {
   "cell_type": "markdown",
   "id": "f8bfd1f5",
   "metadata": {},
   "source": [
    "### 8.2. Cálculo do KS Test (Kolmogorov-Smirnov)\n",
    "\n",
    "Objetivo: comparar a distribuição do score entre eventos (vr=1) e não-eventos (vr=0) dentro de cada mês, medindo o poder discriminativo do modelo ao longo do tempo.\n",
    "\n",
    "Passos:\n",
    "\n",
    "* 1.\tCriar a coluna periodo (caso ainda não tenha).\n",
    "* 2.\tPara cada mês (periodo), calcular a distribuição cumulativa dos scores para vr=1 e vr=0.\n",
    "* 3.\tCalcular a diferença máxima entre essas duas distribuições — o KS.\n",
    "\n",
    "\n"
   ]
  },
  {
   "cell_type": "code",
   "execution_count": 94,
   "id": "f6057c73",
   "metadata": {},
   "outputs": [],
   "source": [
    "spkdf = spkdf.withColumn(\n",
    "    \"periodo\",\n",
    "    to_date(concat_ws(\"-\", \n",
    "                    col(\"year\").cast(\"string\"), \n",
    "                    lpad(col(\"month\").cast(\"string\"), 2, \"0\")), \n",
    "            \"yyyy-MM\")\n",
    ")"
   ]
  },
  {
   "cell_type": "code",
   "execution_count": 95,
   "id": "d50dcd48",
   "metadata": {},
   "outputs": [
    {
     "name": "stdout",
     "output_type": "stream",
     "text": [
      "+--------+---+----+-----+-------------------+---+---------------+---------------+---------------+----------------+-----------+----------+\n",
      "|   model|env|year|month|              score| vr|categoria_score|faixa_percentil|score_categoria|evento_relevante|faixa_score|   periodo|\n",
      "+--------+---+----+-----+-------------------+---+---------------+---------------+---------------+----------------+-----------+----------+\n",
      "|modelo_a|DEV|2023|    1|0.06523585398772157|  0|          baixo|             Q3|          baixo|           false|          4|2023-01-01|\n",
      "|modelo_a|DEV|2023|    1|               0.01|  0|          baixo|             Q1|          baixo|           false|          1|2023-01-01|\n",
      "|modelo_a|DEV|2023|    1|0.08752255979032286|  0|          baixo|             Q3|          baixo|           false|          4|2023-01-01|\n",
      "+--------+---+----+-----+-------------------+---+---------------+---------------+---------------+----------------+-----------+----------+\n",
      "\n"
     ]
    }
   ],
   "source": [
    "spkdf.limit(3).show()"
   ]
  },
  {
   "cell_type": "code",
   "execution_count": 106,
   "id": "985d69b3",
   "metadata": {},
   "outputs": [
    {
     "name": "stdout",
     "output_type": "stream",
     "text": [
      "+--------+----------+-------------------+\n",
      "|   model|   periodo|       ks_statistic|\n",
      "+--------+----------+-------------------+\n",
      "|modelo_a|2023-01-01| 0.3023571654480847|\n",
      "|modelo_a|2023-02-01| 0.2919188861985472|\n",
      "|modelo_a|2023-03-01|0.34169100941252833|\n",
      "|modelo_a|2023-04-01| 0.4454285899682045|\n",
      "|modelo_a|2023-05-01| 0.4059580913910628|\n",
      "|modelo_a|2023-06-01| 0.3368421052631579|\n",
      "|modelo_a|2023-07-01| 0.2808305738190078|\n",
      "|modelo_a|2023-08-01| 0.3476154340085226|\n",
      "|modelo_a|2023-09-01|0.36725427350427353|\n",
      "|modelo_a|2024-01-01|0.34201557935735155|\n",
      "|modelo_a|2024-02-01| 0.4633635363745875|\n",
      "|modelo_a|2024-03-01| 0.3195129590478428|\n",
      "|modelo_a|2024-04-01| 0.3427687730013312|\n",
      "|modelo_a|2024-05-01|0.35411434205875236|\n",
      "|modelo_a|2024-06-01|0.32900041135335256|\n",
      "|modelo_a|2024-07-01| 0.3359564638634406|\n",
      "|modelo_a|2024-08-01|0.41110324255885317|\n",
      "|modelo_a|2024-09-01|0.33404255319148934|\n",
      "|modelo_a|2024-10-01| 0.2822336561743341|\n",
      "|modelo_a|2024-11-01|0.25443247567487115|\n",
      "+--------+----------+-------------------+\n",
      "only showing top 20 rows\n",
      "\n"
     ]
    }
   ],
   "source": [
    "\n",
    "# 1. Criar colunas para evento e não evento\n",
    "df = spkdf.withColumn(\"event\", F.when(F.col(\"vr\") == 1, 1).otherwise(0)) \\\n",
    "        .withColumn(\"non_event\", F.when(F.col(\"vr\") == 0, 1).otherwise(0))\n",
    "\n",
    "# 2. Janelas para agrupamento por model, periodo e ordenação pelo score decrescente\n",
    "w_group = Window.partitionBy(\"model\", \"periodo\")\n",
    "w_order = w_group.orderBy(F.desc(\"score\")).rowsBetween(Window.unboundedPreceding, 0)\n",
    "\n",
    "# 3. Total de eventos e não eventos por grupo\n",
    "totals = df.groupBy(\"model\", \"periodo\").agg(\n",
    "    F.sum(\"event\").alias(\"total_events\"),\n",
    "    F.sum(\"non_event\").alias(\"total_non_events\"),\n",
    ")\n",
    "\n",
    "df = df.join(totals, on=[\"model\", \"periodo\"], how=\"left\")\n",
    "\n",
    "# 4. Cálculo acumulado (CDF) eventos e não eventos por score decrescente\n",
    "df = df.withColumn(\"cum_events\", F.sum(\"event\").over(w_order)) \\\n",
    "    .withColumn(\"cum_non_events\", F.sum(\"non_event\").over(w_order))\n",
    "\n",
    "# 5. Distribuição acumulada normalizada (CDF)\n",
    "df = df.withColumn(\"cdf_events\", F.col(\"cum_events\") / F.col(\"total_events\")) \\\n",
    "    .withColumn(\"cdf_non_events\", F.col(\"cum_non_events\") / F.col(\"total_non_events\"))\n",
    "\n",
    "# 6. Diferença absoluta entre as duas CDFs\n",
    "df = df.withColumn(\"diff_cdf\", F.abs(F.col(\"cdf_events\") - F.col(\"cdf_non_events\")))\n",
    "\n",
    "# 7. KS por grupo é o máximo da diferença das CDFs\n",
    "ks_df = df.groupBy(\"model\", \"periodo\").agg(\n",
    "    F.max(\"diff_cdf\").alias(\"ks_statistic\")\n",
    ").orderBy(\"model\", \"periodo\")\n",
    "\n",
    "ks_df.show()"
   ]
  },
  {
   "cell_type": "code",
   "execution_count": 110,
   "id": "94fc84a2",
   "metadata": {},
   "outputs": [
    {
     "name": "stdout",
     "output_type": "stream",
     "text": [
      "+--------+----------+-------------------+\n",
      "|   model|   periodo|                 ks|\n",
      "+--------+----------+-------------------+\n",
      "|modelo_a|2023-01-01|0.30235716544808466|\n",
      "|modelo_a|2023-02-01| 0.2919188861985472|\n",
      "|modelo_a|2023-03-01| 0.3416910094125284|\n",
      "|modelo_a|2023-04-01| 0.4454285899682045|\n",
      "|modelo_a|2023-05-01|0.40595809139106287|\n",
      "|modelo_a|2023-06-01| 0.3368421052631579|\n",
      "|modelo_a|2023-07-01|0.28083057381900783|\n",
      "|modelo_a|2023-08-01| 0.3476154340085226|\n",
      "|modelo_a|2023-09-01|0.36725427350427353|\n",
      "|modelo_a|2024-01-01| 0.3420155793573515|\n",
      "|modelo_a|2024-02-01|0.46336353637458755|\n",
      "|modelo_a|2024-03-01|0.31951295904784277|\n",
      "|modelo_a|2024-04-01|0.34276877300133113|\n",
      "|modelo_a|2024-05-01| 0.3541143420587524|\n",
      "|modelo_a|2024-06-01| 0.3290004113533525|\n",
      "|modelo_a|2024-07-01|0.33595646386344064|\n",
      "|modelo_a|2024-08-01| 0.4111032425588532|\n",
      "|modelo_a|2024-09-01|0.33404255319148934|\n",
      "|modelo_a|2024-10-01|0.28223365617433416|\n",
      "|modelo_a|2024-11-01|0.25443247567487115|\n",
      "+--------+----------+-------------------+\n",
      "only showing top 20 rows\n",
      "\n"
     ]
    }
   ],
   "source": [
    "from pyspark.sql.types import StructType, StructField, StringType, DoubleType, DateType\n",
    "from scipy.stats import ks_2samp\n",
    "\n",
    "# Coletar os dados agrupados\n",
    "grouped_data = spkdf.select(\"model\", \"periodo\", \"vr\", \"score\").groupBy(\"model\", \"periodo\").agg(\n",
    "    F.collect_list(\"vr\").alias(\"vr_list\"),\n",
    "    F.collect_list(\"score\").alias(\"score_list\")\n",
    ").collect()\n",
    "\n",
    "ks_results = []\n",
    "for row in grouped_data:\n",
    "    vr_list = row[\"vr_list\"]\n",
    "    score_list = row[\"score_list\"]\n",
    "    \n",
    "    score_0 = [s for v, s in zip(vr_list, score_list) if v == 0]\n",
    "    score_1 = [s for v, s in zip(vr_list, score_list) if v == 1]\n",
    "    \n",
    "    if len(score_0) == 0 or len(score_1) == 0:\n",
    "        ks_value = None\n",
    "    else:\n",
    "        ks_value, _ = ks_2samp(score_0, score_1)\n",
    "        ks_value = float(ks_value)  # 👈 conversão importante aqui\n",
    "\n",
    "    ks_results.append((row[\"model\"], row[\"periodo\"], ks_value))\n",
    "\n",
    "# Criar DataFrame com schema\n",
    "schema = StructType([\n",
    "    StructField(\"model\", StringType(), True),\n",
    "    StructField(\"periodo\", DateType(), True),\n",
    "    StructField(\"ks\", DoubleType(), True)\n",
    "])\n",
    "\n",
    "ks_df = spark.createDataFrame(ks_results, schema=schema)\n",
    "ks_df.orderBy(\"model\", \"periodo\").show()"
   ]
  },
  {
   "cell_type": "markdown",
   "id": "7892c445",
   "metadata": {},
   "source": [
    "**Comparação entre as duas abordagens**\n",
    "\n",
    "✅ Abordagem 1: `ks_2samp` com `collect()`\n",
    "\n",
    "* Como funciona: \n",
    "    Agrupa os dados, coleta para o driver, e calcula o KS no Python puro com ks_2samp.\n",
    "* Prós:\n",
    "    * Fácil de implementar e entender.\n",
    "    * Usa a função estatística real da scipy, precisa e testada.\n",
    "* Contras:\n",
    "    * 🚨 Coleta dados para o driver: isso quebra a paralelização do Spark.\n",
    "    * 🚨 Limite de memória no driver para grandes volumes.\n",
    "    * Lenta e não escalável para milhões de registros.\n",
    "\n",
    "\n",
    "\n",
    "✅ Abordagem 2: 100% PySpark com janelas e CDFs\n",
    "\n",
    "* Como funciona: \n",
    "    Usa funções de janela para calcular as CDFs acumuladas diretamente no Spark.\n",
    "* Prós:\n",
    "    * ⚡ Totalmente distribuída e paralelizada.\n",
    "    * Escalável para grandes volumes de dados.\n",
    "    * Evita collect(), mantendo o processamento nos workers.\n",
    "    * Mais eficiente para grandes bases com muitos grupos.\n",
    "* Contras:\n",
    "    * Ligeiramente mais complexa de implementar.\n",
    "    * Pode consumir mais memória nos workers dependendo do tamanho dos grupos.\n",
    "\n"
   ]
  },
  {
   "cell_type": "markdown",
   "id": "3d8a4a7d",
   "metadata": {},
   "source": [
    "### 8.3. CSI (Characteristic Stability Index)\n",
    "\n",
    "Objetivo: verificar a estabilidade de variáveis explicativas (features) ao longo do tempo. Por exemplo, se a distribuição de score mudou mês a mês comparado a um período de referência (como o DEV).\n",
    "\n",
    "Passos:\n",
    "\n",
    "* Definir o ambiente de referência (ex: DEV).\n",
    "* Criar faixas (bins) para a variável (score), baseadas no DEV.\n",
    "* Para cada mês:\n",
    "    * Calcular a proporção de registros em cada faixa.\n",
    "    * Comparar com a proporção da base de referência usando a fórmula do CSI:\n",
    "        $$CSI = \\sum \\left( (P_i - Q_i) \\cdot \\log\\left(\\frac{P_i}{Q_i}\\right) \\right)$$\n",
    "onde:\n",
    "\n",
    "* $P_i$: proporção da faixa no mês atual\n",
    "* $Q_i$: proporção da faixa na base de referência\n",
    "\n"
   ]
  },
  {
   "cell_type": "code",
   "execution_count": null,
   "id": "425ffd04",
   "metadata": {},
   "outputs": [
    {
     "name": "stderr",
     "output_type": "stream",
     "text": [
      "                                                                                \r"
     ]
    },
    {
     "name": "stdout",
     "output_type": "stream",
     "text": [
      "+--------+-------+------+\n",
      "|   model|periodo|   csi|\n",
      "+--------+-------+------+\n",
      "|modelo_a|2023-07|0.0059|\n",
      "|modelo_b|2023-07| 0.049|\n",
      "|modelo_a|2023-08|0.0024|\n",
      "|modelo_b|2023-08|0.0492|\n",
      "|modelo_a|2023-09|0.0026|\n",
      "|modelo_b|2023-09|0.0631|\n",
      "|modelo_a|2024-01|7.0E-4|\n",
      "|modelo_b|2024-01|0.0946|\n",
      "|modelo_a|2024-02|0.0036|\n",
      "|modelo_b|2024-02|0.4872|\n",
      "|modelo_a|2024-03|8.0E-4|\n",
      "|modelo_b|2024-03|1.1972|\n",
      "|modelo_a|2024-04| 0.002|\n",
      "|modelo_b|2024-04|2.0199|\n",
      "|modelo_a|2024-05|0.0052|\n",
      "|modelo_b|2024-05|2.5983|\n",
      "|modelo_a|2024-06|0.0045|\n",
      "|modelo_b|2024-06| 3.535|\n",
      "|modelo_a|2024-07|0.0048|\n",
      "|modelo_b|2024-07|4.8706|\n",
      "+--------+-------+------+\n",
      "only showing top 20 rows\n",
      "\n"
     ]
    }
   ],
   "source": [
    "# Reutilizar as faixas de score baseadas no DEV\n",
    "percentis = spkdf.filter(F.col(\"env\") == \"DEV\").approxQuantile(\"score\", [0.2, 0.4, 0.6, 0.8], 0.001)\n",
    "faixas = [-float(\"inf\")] + percentis + [float(\"inf\")]\n",
    "\n",
    "# Aplicar faixas\n",
    "bucketizer = Bucketizer(\n",
    "    splits=faixas,\n",
    "    inputCol=\"score\",\n",
    "    outputCol=\"score_bin\"\n",
    ")\n",
    "spkdf_binned = bucketizer.transform(spkdf)\n",
    "\n",
    "# Criar coluna período\n",
    "spkdf_binned = spkdf_binned.withColumn(\n",
    "    \"periodo\",\n",
    "    F.concat_ws(\"-\", F.col(\"year\").cast(\"string\"), F.lpad(F.col(\"month\").cast(\"string\"), 2, \"0\"))\n",
    ")\n",
    "\n",
    "# Contagem de proporções por modelo, faixa e período\n",
    "dist_ref = spkdf_binned.filter(F.col(\"env\") == \"DEV\").groupBy(\"model\", \"score_bin\") \\\n",
    "    .agg(F.count(\"*\").alias(\"ref_total\"))\n",
    "dist_total = spkdf_binned.filter(F.col(\"env\") == \"DEV\").groupBy(\"model\") \\\n",
    "    .agg(F.count(\"*\").alias(\"ref_model_total\"))\n",
    "dist_ref = dist_ref.join(dist_total, on=\"model\")\n",
    "dist_ref = dist_ref.withColumn(\"p_ref\", F.col(\"ref_total\") / F.col(\"ref_model_total\"))\n",
    "\n",
    "# CSI mensal fora de DEV\n",
    "dist_cmp = spkdf_binned.filter(F.col(\"env\") != \"DEV\").groupBy(\"model\", \"periodo\", \"score_bin\") \\\n",
    "    .agg(F.count(\"*\").alias(\"cmp_total\"))\n",
    "cmp_total = spkdf_binned.filter(F.col(\"env\") != \"DEV\").groupBy(\"model\", \"periodo\") \\\n",
    "    .agg(F.count(\"*\").alias(\"cmp_model_total\"))\n",
    "dist_cmp = dist_cmp.join(cmp_total, on=[\"model\", \"periodo\"])\n",
    "dist_cmp = dist_cmp.withColumn(\"p_cmp\", F.col(\"cmp_total\") / F.col(\"cmp_model_total\"))\n",
    "\n",
    "# Juntar e calcular CSI\n",
    "csi = dist_cmp.join(dist_ref.select(\"model\", \"score_bin\", \"p_ref\"), on=[\"model\", \"score_bin\"], how=\"left\")\n",
    "csi = csi.fillna(1e-6)  # evitar log(0)\n",
    "csi = csi.withColumn(\"csi_score\",\n",
    "    (F.col(\"p_ref\") - F.col(\"p_cmp\")) * F.log(F.col(\"p_ref\") / F.col(\"p_cmp\"))\n",
    ")\n",
    "\n",
    "# CSI total por mês\n",
    "csi_mensal = csi.groupBy(\"model\", \"periodo\").agg(F.sum(\"csi_score\").alias(\"csi\"))\n",
    "csi_mensal = csi_mensal.withColumn(\"csi\", F.round(\"csi\", 4))\n",
    "csi_mensal.orderBy(\"periodo\").show()"
   ]
  }
 ],
 "metadata": {
  "kernelspec": {
   "display_name": ".venv",
   "language": "python",
   "name": "python3"
  },
  "language_info": {
   "codemirror_mode": {
    "name": "ipython",
    "version": 3
   },
   "file_extension": ".py",
   "mimetype": "text/x-python",
   "name": "python",
   "nbconvert_exporter": "python",
   "pygments_lexer": "ipython3",
   "version": "3.10.10"
  }
 },
 "nbformat": 4,
 "nbformat_minor": 5
}
